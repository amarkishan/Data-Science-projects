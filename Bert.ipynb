{
  "cells": [
    {
      "cell_type": "code",
      "execution_count": null,
      "metadata": {
        "id": "NvEnX1jDs6tj"
      },
      "outputs": [],
      "source": [
        "import pandas as pd"
      ]
    },
    {
      "cell_type": "code",
      "execution_count": null,
      "metadata": {
        "id": "LbDQqqa2nSQP",
        "colab": {
          "base_uri": "https://localhost:8080/"
        },
        "outputId": "2f5bdfa2-0749-42d5-ed1c-069c2d341aeb"
      },
      "outputs": [
        {
          "output_type": "stream",
          "name": "stdout",
          "text": [
            "Mounted at /content/drive\n"
          ]
        }
      ],
      "source": [
        "from google.colab import drive\n",
        "drive.mount('/content/drive')"
      ]
    },
    {
      "cell_type": "code",
      "execution_count": null,
      "metadata": {
        "id": "xvJuJHlBwg5h"
      },
      "outputs": [],
      "source": [
        "filepath = '/content/drive/MyDrive/Colab Notebooks/Copy of mLabel_tweets.csv'\n",
        "df = pd.read_csv(filepath)\n"
      ]
    },
    {
      "cell_type": "code",
      "execution_count": null,
      "metadata": {
        "id": "_DB8G1v_3Pgf"
      },
      "outputs": [],
      "source": [
        "import re\n",
        "def preprocess_tweet(text):\n",
        "    # Remove URLs\n",
        "    text = re.sub(r'http\\S+|www\\S+|https\\S+', '', text, flags=re.MULTILINE)\n",
        "\n",
        "    # Remove mentions (@username or @ username)\n",
        "    text = re.sub(r'\\@\\s?\\w+', '', text)\n",
        "\n",
        "    # Remove hash tags (#hashtag or # hashtag)\n",
        "    text = re.sub(r'\\#\\s?\\w+', '', text)\n",
        "\n",
        "    # Convert text to lowercase (optional)\n",
        "    text = text.lower()\n",
        "\n",
        "    # Remove extra whitespaces\n",
        "    text = text.strip()\n",
        "\n",
        "    return text\n",
        "\n",
        "\n",
        "\n"
      ]
    },
    {
      "cell_type": "code",
      "source": [
        "df['cleaned_tweet']=df['tweet'].apply(preprocess_tweet)"
      ],
      "metadata": {
        "id": "q6Tz_gZ93rY0"
      },
      "execution_count": null,
      "outputs": []
    },
    {
      "cell_type": "code",
      "source": [
        "df.head"
      ],
      "metadata": {
        "colab": {
          "base_uri": "https://localhost:8080/"
        },
        "id": "fafWHwxn20YP",
        "outputId": "d4a5a594-e787-469f-e360-01ba0ec5247c"
      },
      "execution_count": null,
      "outputs": [
        {
          "output_type": "execute_result",
          "data": {
            "text/plain": [
              "<bound method NDFrame.head of         ID                                              tweet  \\\n",
              "0        1  @cath__kath AstraZeneca is made with the kidne...   \n",
              "1        2  It begins. Please find safe alternatives to th...   \n",
              "2        3  @PaolaQP1231 Well, I mean congratulations Covi...   \n",
              "3        4  @BorisJohnson for those of us that do not wish...   \n",
              "4        5  She has been trying to speak out: writing lett...   \n",
              "...    ...                                                ...   \n",
              "9916  9917  Former Pfizer Chief Scientific Officer on Expe...   \n",
              "9917  9918  @garygilligan Not what the manufacturer's are ...   \n",
              "9918  9919  //That's a complete no for now on the Oxford/A...   \n",
              "9919  9920  Opinion: Vaccine side effects..- possible to h...   \n",
              "9920  9921  @BorisJohnson resign now before you destroy th...   \n",
              "\n",
              "                  labels                                      cleaned_tweet  \n",
              "0            ingredients  astrazeneca is made with the kidney cells of a...  \n",
              "1            side-effect  it begins. please find safe alternatives to th...  \n",
              "2            side-effect  well, i mean congratulations covid19 for being...  \n",
              "3              mandatory  for those of us that do not wish a vaccine so ...  \n",
              "4     side-effect rushed  she has been trying to speak out: writing lett...  \n",
              "...                  ...                                                ...  \n",
              "9916         side-effect  former pfizer chief scientific officer on expe...  \n",
              "9917              pharma  not what the manufacturer's are saying. the ma...  \n",
              "9918                none  //that's a complete no for now on the oxford/a...  \n",
              "9919         side-effect  opinion: vaccine side effects..- possible to h...  \n",
              "9920           political  resign now before you destroy the country. whe...  \n",
              "\n",
              "[9921 rows x 4 columns]>"
            ]
          },
          "metadata": {},
          "execution_count": 8
        }
      ]
    },
    {
      "cell_type": "code",
      "source": [
        "df.columns"
      ],
      "metadata": {
        "colab": {
          "base_uri": "https://localhost:8080/"
        },
        "id": "eeCjtLoz25L0",
        "outputId": "1e854993-5870-4d9a-fd9c-13ba77d0af2e"
      },
      "execution_count": null,
      "outputs": [
        {
          "output_type": "execute_result",
          "data": {
            "text/plain": [
              "Index(['ID', 'tweet', 'labels', 'cleaned_tweet'], dtype='object')"
            ]
          },
          "metadata": {},
          "execution_count": 9
        }
      ]
    },
    {
      "cell_type": "code",
      "source": [
        "df.head"
      ],
      "metadata": {
        "colab": {
          "base_uri": "https://localhost:8080/"
        },
        "id": "LMDHQoyt3ynn",
        "outputId": "e9c91219-d828-49d5-960a-51be8b659f2c"
      },
      "execution_count": null,
      "outputs": [
        {
          "output_type": "execute_result",
          "data": {
            "text/plain": [
              "<bound method NDFrame.head of         ID                                              tweet  \\\n",
              "0        1  @cath__kath AstraZeneca is made with the kidne...   \n",
              "1        2  It begins. Please find safe alternatives to th...   \n",
              "2        3  @PaolaQP1231 Well, I mean congratulations Covi...   \n",
              "3        4  @BorisJohnson for those of us that do not wish...   \n",
              "4        5  She has been trying to speak out: writing lett...   \n",
              "...    ...                                                ...   \n",
              "9916  9917  Former Pfizer Chief Scientific Officer on Expe...   \n",
              "9917  9918  @garygilligan Not what the manufacturer's are ...   \n",
              "9918  9919  //That's a complete no for now on the Oxford/A...   \n",
              "9919  9920  Opinion: Vaccine side effects..- possible to h...   \n",
              "9920  9921  @BorisJohnson resign now before you destroy th...   \n",
              "\n",
              "                  labels                                      cleaned_tweet  \n",
              "0            ingredients  astrazeneca is made with the kidney cells of a...  \n",
              "1            side-effect  it begins. please find safe alternatives to th...  \n",
              "2            side-effect  well, i mean congratulations covid19 for being...  \n",
              "3              mandatory  for those of us that do not wish a vaccine so ...  \n",
              "4     side-effect rushed  she has been trying to speak out: writing lett...  \n",
              "...                  ...                                                ...  \n",
              "9916         side-effect  former pfizer chief scientific officer on expe...  \n",
              "9917              pharma  not what the manufacturer's are saying. the ma...  \n",
              "9918                none  //that's a complete no for now on the oxford/a...  \n",
              "9919         side-effect  opinion: vaccine side effects..- possible to h...  \n",
              "9920           political  resign now before you destroy the country. whe...  \n",
              "\n",
              "[9921 rows x 4 columns]>"
            ]
          },
          "metadata": {},
          "execution_count": 10
        }
      ]
    },
    {
      "cell_type": "code",
      "source": [
        "from collections import Counter\n",
        "\n",
        "label_counts = Counter()\n",
        "\n",
        "for label_string in df['labels']:\n",
        "    individual_labels = label_string.split()\n",
        "    label_counts.update(individual_labels)\n",
        "\n",
        "# Sort labels based on counts in descending order\n",
        "sorted_labels = sorted(label_counts.items(), key=lambda x: x[1], reverse=True)\n",
        "\n",
        "# Display the sorted counts\n",
        "for label, count in sorted_labels:\n",
        "    print(f\"{label}: {count}\")\n"
      ],
      "metadata": {
        "id": "wjXvwGzzN0qA",
        "colab": {
          "base_uri": "https://localhost:8080/"
        },
        "outputId": "d472fb53-4be3-45c5-fbc2-f7a6b75606bb"
      },
      "execution_count": null,
      "outputs": [
        {
          "output_type": "stream",
          "name": "stdout",
          "text": [
            "side-effect: 3805\n",
            "ineffective: 1672\n",
            "rushed: 1477\n",
            "pharma: 1273\n",
            "mandatory: 783\n",
            "unnecessary: 722\n",
            "none: 629\n",
            "political: 626\n",
            "conspiracy: 487\n",
            "ingredients: 436\n",
            "country: 201\n",
            "religious: 64\n"
          ]
        }
      ]
    },
    {
      "cell_type": "code",
      "execution_count": null,
      "metadata": {
        "id": "zD1QFGITksov",
        "colab": {
          "base_uri": "https://localhost:8080/"
        },
        "outputId": "19253b9a-7afe-4678-9991-eca1ab028f14"
      },
      "outputs": [
        {
          "output_type": "stream",
          "name": "stdout",
          "text": [
            "['ineffective', 'conspiracy', 'rushed', 'pharma', 'ingredients', 'country', 'religious', 'unnecessary', 'none', 'side-effect', 'political', 'mandatory']\n"
          ]
        },
        {
          "output_type": "execute_result",
          "data": {
            "text/plain": [
              "12"
            ]
          },
          "metadata": {},
          "execution_count": 12
        }
      ],
      "source": [
        "distinct_labels = set()\n",
        "\n",
        "for label_string in df['labels']:\n",
        "\n",
        "\n",
        "    individual_labels = label_string.split()\n",
        "\n",
        "\n",
        "    for label in individual_labels:\n",
        "        distinct_labels.add(label)\n",
        "\n",
        "\n",
        "distinct_labels_list = list(distinct_labels)\n",
        "print(distinct_labels_list)\n",
        "type(distinct_labels_list)\n",
        "len(distinct_labels_list)"
      ]
    },
    {
      "cell_type": "code",
      "source": [
        "df['labels'].shape"
      ],
      "metadata": {
        "id": "YRRMXX8oCI9G",
        "colab": {
          "base_uri": "https://localhost:8080/"
        },
        "outputId": "549ff09d-ed45-4576-863c-28ce452de30d"
      },
      "execution_count": null,
      "outputs": [
        {
          "output_type": "execute_result",
          "data": {
            "text/plain": [
              "(9921,)"
            ]
          },
          "metadata": {},
          "execution_count": 13
        }
      ]
    },
    {
      "cell_type": "markdown",
      "metadata": {
        "id": "cu1wBvBo7eWa"
      },
      "source": [
        "#Sample with DistillBert"
      ]
    },
    {
      "cell_type": "code",
      "execution_count": null,
      "metadata": {
        "id": "8mqaUtttOYjc",
        "colab": {
          "base_uri": "https://localhost:8080/"
        },
        "outputId": "45e8c48c-1a9b-44b7-b6a7-04592d17be7f"
      },
      "outputs": [
        {
          "output_type": "stream",
          "name": "stdout",
          "text": [
            "Requirement already satisfied: transformers in /usr/local/lib/python3.10/dist-packages (4.35.2)\n",
            "Requirement already satisfied: torch in /usr/local/lib/python3.10/dist-packages (2.1.0+cu118)\n",
            "Requirement already satisfied: filelock in /usr/local/lib/python3.10/dist-packages (from transformers) (3.13.1)\n",
            "Requirement already satisfied: huggingface-hub<1.0,>=0.16.4 in /usr/local/lib/python3.10/dist-packages (from transformers) (0.19.4)\n",
            "Requirement already satisfied: numpy>=1.17 in /usr/local/lib/python3.10/dist-packages (from transformers) (1.23.5)\n",
            "Requirement already satisfied: packaging>=20.0 in /usr/local/lib/python3.10/dist-packages (from transformers) (23.2)\n",
            "Requirement already satisfied: pyyaml>=5.1 in /usr/local/lib/python3.10/dist-packages (from transformers) (6.0.1)\n",
            "Requirement already satisfied: regex!=2019.12.17 in /usr/local/lib/python3.10/dist-packages (from transformers) (2023.6.3)\n",
            "Requirement already satisfied: requests in /usr/local/lib/python3.10/dist-packages (from transformers) (2.31.0)\n",
            "Requirement already satisfied: tokenizers<0.19,>=0.14 in /usr/local/lib/python3.10/dist-packages (from transformers) (0.15.0)\n",
            "Requirement already satisfied: safetensors>=0.3.1 in /usr/local/lib/python3.10/dist-packages (from transformers) (0.4.1)\n",
            "Requirement already satisfied: tqdm>=4.27 in /usr/local/lib/python3.10/dist-packages (from transformers) (4.66.1)\n",
            "Requirement already satisfied: typing-extensions in /usr/local/lib/python3.10/dist-packages (from torch) (4.5.0)\n",
            "Requirement already satisfied: sympy in /usr/local/lib/python3.10/dist-packages (from torch) (1.12)\n",
            "Requirement already satisfied: networkx in /usr/local/lib/python3.10/dist-packages (from torch) (3.2.1)\n",
            "Requirement already satisfied: jinja2 in /usr/local/lib/python3.10/dist-packages (from torch) (3.1.2)\n",
            "Requirement already satisfied: fsspec in /usr/local/lib/python3.10/dist-packages (from torch) (2023.6.0)\n",
            "Requirement already satisfied: triton==2.1.0 in /usr/local/lib/python3.10/dist-packages (from torch) (2.1.0)\n",
            "Requirement already satisfied: MarkupSafe>=2.0 in /usr/local/lib/python3.10/dist-packages (from jinja2->torch) (2.1.3)\n",
            "Requirement already satisfied: charset-normalizer<4,>=2 in /usr/local/lib/python3.10/dist-packages (from requests->transformers) (3.3.2)\n",
            "Requirement already satisfied: idna<4,>=2.5 in /usr/local/lib/python3.10/dist-packages (from requests->transformers) (3.6)\n",
            "Requirement already satisfied: urllib3<3,>=1.21.1 in /usr/local/lib/python3.10/dist-packages (from requests->transformers) (2.0.7)\n",
            "Requirement already satisfied: certifi>=2017.4.17 in /usr/local/lib/python3.10/dist-packages (from requests->transformers) (2023.11.17)\n",
            "Requirement already satisfied: mpmath>=0.19 in /usr/local/lib/python3.10/dist-packages (from sympy->torch) (1.3.0)\n"
          ]
        }
      ],
      "source": [
        "pip install transformers torch"
      ]
    },
    {
      "cell_type": "code",
      "execution_count": null,
      "metadata": {
        "id": "IEr5zAdQOiqf"
      },
      "outputs": [],
      "source": [
        "import torch\n",
        "from transformers import DistilBertTokenizer, DistilBertModel"
      ]
    },
    {
      "cell_type": "code",
      "execution_count": null,
      "metadata": {
        "id": "he_KDx5GO-7L",
        "colab": {
          "base_uri": "https://localhost:8080/",
          "height": 177,
          "referenced_widgets": [
            "8ad458098abd42829f8dcb2d37d24adc",
            "4bac7c819ed74537a79019273ed2e47e",
            "2a1b4e4f9ba0486a93b5c6939a7173a6",
            "182dd4932f424ea4912f4437b5fa706e",
            "0a65c99c019a45a7ab1b3ce72036a98e",
            "19b932078fcf49ac995bbf7639e9d121",
            "e132e8a2e03e457a92f9974cc5cbfa0d",
            "b86ebff849de4b48be24595b9c196d77",
            "c55e714a725e47109b89e1b39b5609eb",
            "84cb4ba4be0447d2ae7ce650a828b192",
            "1c0608337f234350842b686031b43555",
            "aca94711d4de48968a2904246f4ce31c",
            "16c6f75d1d8d4424a59d2bf1417819d8",
            "4621afe96c7340b8a89e879a7f282dee",
            "3049293329554bbd9a3140881d8f783b",
            "8bee087361414f32a1bcfc1d2e89bcfb",
            "8e22e438279241758124a9adab1bf5d3",
            "0c0b3200339c4ae48ae82735b35f45cf",
            "1200dbf082ec4738beabe9bebcb3f5c4",
            "a741c15a2feb4c0da115283c8169074d",
            "6134f2fc35824119a53a2e099f23d758",
            "60c75138d22144ac8aa3017c3149575a",
            "b14442b8decc4151841d5d1582779c8f",
            "7bf76f155b0c4cbda5e5cdc7a46f6cfc",
            "cee07e4c4c91409689e0e2d09d2c00da",
            "ce56886db4b54efb912a8b89c08fe75c",
            "19d968e14d2d4f5d8d26a7470c1d4083",
            "725136b905084949873497568bda4cd3",
            "0f3223d75dbd47aaad0734f048d1ad8a",
            "47880c3bc42b4dc49275f317e29e30c3",
            "dc62042f5350451689d53f20acb3a522",
            "dfb09515fd454a9dad898e0a3fe0e39f",
            "c9710f18a7c34f46b02da960e0388b36",
            "38d54921d9794fd9a5a6b3fddb30592c",
            "bef4b7567e744da0907c8733a481412c",
            "e6ae0b7bee604f96b7be157e3e10dda3",
            "d941d7aa2bd049e9b7b3a49f1417b17e",
            "959935f9fca14877b43bef0483d82bd7",
            "e7898d5baab640649961f127a01d1e36",
            "aed8b3b263f04c15a1a7673dab5f62e5",
            "0c4172ee8f82492b90ff3a8ca88f1d10",
            "cdeeb178333c470ab54808dfdc372627",
            "2bbce6bf37524b538f7c864c23e637ae",
            "60d46cf01bf94291b089a7662ccaef10",
            "02e8d11ae0b445ed833732ca1556bf90",
            "887fda46d37d47ebb93ff834ecf7eccf",
            "00a212361a5647119dcccfee97b0f678",
            "8ad98537786347c3b050bbc6dbee2e88",
            "20e7a9ebbf154aad887580165c459e82",
            "f19ede0616324b82989cc76a02128d1f",
            "32f53cb46b284f91984cbd3f97292206",
            "6825d1a43d4448c793caa736e010bf2e",
            "c141350565314acba8d2db74bd7cd572",
            "07d4ffa5bd8645bb87bd830a3dfa728a",
            "9894a126783e4946811761fcd2e7c106"
          ]
        },
        "outputId": "941ba742-e416-43aa-e406-96c7399612c8"
      },
      "outputs": [
        {
          "output_type": "display_data",
          "data": {
            "text/plain": [
              "tokenizer_config.json:   0%|          | 0.00/28.0 [00:00<?, ?B/s]"
            ],
            "application/vnd.jupyter.widget-view+json": {
              "version_major": 2,
              "version_minor": 0,
              "model_id": "8ad458098abd42829f8dcb2d37d24adc"
            }
          },
          "metadata": {}
        },
        {
          "output_type": "display_data",
          "data": {
            "text/plain": [
              "vocab.txt:   0%|          | 0.00/232k [00:00<?, ?B/s]"
            ],
            "application/vnd.jupyter.widget-view+json": {
              "version_major": 2,
              "version_minor": 0,
              "model_id": "aca94711d4de48968a2904246f4ce31c"
            }
          },
          "metadata": {}
        },
        {
          "output_type": "display_data",
          "data": {
            "text/plain": [
              "tokenizer.json:   0%|          | 0.00/466k [00:00<?, ?B/s]"
            ],
            "application/vnd.jupyter.widget-view+json": {
              "version_major": 2,
              "version_minor": 0,
              "model_id": "b14442b8decc4151841d5d1582779c8f"
            }
          },
          "metadata": {}
        },
        {
          "output_type": "display_data",
          "data": {
            "text/plain": [
              "config.json:   0%|          | 0.00/483 [00:00<?, ?B/s]"
            ],
            "application/vnd.jupyter.widget-view+json": {
              "version_major": 2,
              "version_minor": 0,
              "model_id": "38d54921d9794fd9a5a6b3fddb30592c"
            }
          },
          "metadata": {}
        },
        {
          "output_type": "display_data",
          "data": {
            "text/plain": [
              "model.safetensors:   0%|          | 0.00/268M [00:00<?, ?B/s]"
            ],
            "application/vnd.jupyter.widget-view+json": {
              "version_major": 2,
              "version_minor": 0,
              "model_id": "02e8d11ae0b445ed833732ca1556bf90"
            }
          },
          "metadata": {}
        }
      ],
      "source": [
        "tokenizer = DistilBertTokenizer.from_pretrained('distilbert-base-uncased')\n",
        "model = DistilBertModel.from_pretrained('distilbert-base-uncased')"
      ]
    },
    {
      "cell_type": "code",
      "execution_count": null,
      "metadata": {
        "id": "x-kTKsLjPGSi",
        "colab": {
          "base_uri": "https://localhost:8080/"
        },
        "outputId": "df271b11-4363-4daf-a3b5-5c897f2b4c42"
      },
      "outputs": [
        {
          "output_type": "execute_result",
          "data": {
            "text/plain": [
              "{'input_ids': tensor([[  101,  4487, 16643, 23373,  2003,  6429,   999,   102]]), 'attention_mask': tensor([[1, 1, 1, 1, 1, 1, 1, 1]])}"
            ]
          },
          "metadata": {},
          "execution_count": 17
        }
      ],
      "source": [
        "text = \"DistilBERT is amazing!\"\n",
        "inputs = tokenizer(text, return_tensors=\"pt\", truncation=True, padding=True, max_length=512)\n",
        "inputs\n"
      ]
    },
    {
      "cell_type": "code",
      "execution_count": null,
      "metadata": {
        "id": "fACE8JYjgYEX",
        "colab": {
          "base_uri": "https://localhost:8080/"
        },
        "outputId": "b67e6d69-91a3-4384-eee4-1a1a8ac50b11"
      },
      "outputs": [
        {
          "output_type": "stream",
          "name": "stdout",
          "text": [
            "['di', '##sti', '##lbert', 'is', 'amazing', '!']\n"
          ]
        }
      ],
      "source": [
        "tokens = tokenizer.tokenize(text)\n",
        "print(tokens)"
      ]
    },
    {
      "cell_type": "code",
      "execution_count": null,
      "metadata": {
        "id": "dQSwOmgViEpj",
        "colab": {
          "base_uri": "https://localhost:8080/"
        },
        "outputId": "1e60c1ba-ee77-4376-c403-124800db8a5f"
      },
      "outputs": [
        {
          "output_type": "stream",
          "name": "stdout",
          "text": [
            "ID: 101 -> Token: [ C L S ]\n",
            "ID: 4487 -> Token: d i\n",
            "ID: 16643 -> Token: # # s t i\n",
            "ID: 23373 -> Token: # # l b e r t\n",
            "ID: 2003 -> Token: i s\n",
            "ID: 6429 -> Token: a m a z i n g\n",
            "ID: 999 -> Token: !\n",
            "ID: 102 -> Token: [ S E P ]\n"
          ]
        }
      ],
      "source": [
        "input_ids_list = inputs['input_ids'][0].tolist()  # Convert tensor to Python list\n",
        "\n",
        "for id in input_ids_list:\n",
        "    print(f\"ID: {id} -> Token: {tokenizer.decode(id)}\")"
      ]
    },
    {
      "cell_type": "code",
      "execution_count": null,
      "metadata": {
        "id": "XSVdXY8RPWcW"
      },
      "outputs": [],
      "source": [
        "with torch.no_grad():  # We don't need gradients for this demonstration\n",
        "    outputs = model(**inputs)\n"
      ]
    },
    {
      "cell_type": "markdown",
      "metadata": {
        "id": "sLs4AedTuFlH"
      },
      "source": [
        "###returns a tensor of shape [1, 7, 768] (assuming you're using DistilBERT-base and a batch size of 1).**\n",
        "\n",
        "###The output tensor can be visualized as a 3D array:\n",
        "\n",
        "###The first dimension (of size 1) is for each input sequence.\n",
        "###The second dimension (of size 7) corresponds to each token.\n",
        "###The third dimension (of size 768) is the embedding vector for each token.\n",
        "###For our example, the output tensor is basically a list of 7 vectors, each of size 768. Each vector is a contextual embedding of the corresponding token."
      ]
    },
    {
      "cell_type": "code",
      "execution_count": null,
      "metadata": {
        "id": "dqxaCqeVPZru"
      },
      "outputs": [],
      "source": [
        "cls_embedding = outputs.last_hidden_state[:, 0, :]\n",
        "cls_embedding1 = outputs.last_hidden_state[:, 1, :]\n",
        "cls_embedding2 = outputs.last_hidden_state[:, 7, :]\n",
        "cls_embedding3 = outputs.last_hidden_state[0]"
      ]
    },
    {
      "cell_type": "code",
      "execution_count": null,
      "metadata": {
        "id": "kSRK_HLr1sxy",
        "colab": {
          "base_uri": "https://localhost:8080/"
        },
        "outputId": "ff98f266-8650-4eb2-e125-145afb606e4d"
      },
      "outputs": [
        {
          "output_type": "execute_result",
          "data": {
            "text/plain": [
              "tensor([[-0.2015, -0.0688,  0.1207,  ..., -0.0610,  0.3574,  0.3081],\n",
              "        [-0.0166, -0.0162,  0.1889,  ..., -0.1643,  0.4605, -0.0148],\n",
              "        [-0.5549, -0.6477,  0.6902,  ..., -0.3045,  0.2095,  0.4269],\n",
              "        ...,\n",
              "        [ 0.0724,  0.4566,  0.0987,  ..., -0.1905,  0.2917, -0.5696],\n",
              "        [-0.1629, -0.1394,  0.0578,  ...,  0.1936,  0.4371, -0.2020],\n",
              "        [ 0.9252,  0.3082, -0.3010,  ...,  0.1568, -0.5969, -0.1635]])"
            ]
          },
          "metadata": {},
          "execution_count": 22
        }
      ],
      "source": [
        "cls_embedding3"
      ]
    },
    {
      "cell_type": "code",
      "execution_count": null,
      "metadata": {
        "id": "CNANlumF05Vr",
        "colab": {
          "base_uri": "https://localhost:8080/"
        },
        "outputId": "661a2298-6b7b-41c0-bd19-ccc239a3b648"
      },
      "outputs": [
        {
          "output_type": "execute_result",
          "data": {
            "text/plain": [
              "tensor([[ 9.2517e-01,  3.0822e-01, -3.0101e-01,  4.7908e-01, -3.9386e-01,\n",
              "         -7.9996e-01,  4.0936e-01, -3.3544e-01,  6.0459e-01,  1.5788e-01,\n",
              "          3.2878e-01, -1.7056e-01,  3.7715e-01, -5.5319e-02, -6.3176e-01,\n",
              "         -7.8357e-02, -1.1143e-01, -5.8848e-02,  3.9124e-01,  8.3777e-02,\n",
              "          6.2398e-01, -3.0552e-01,  6.3378e-01,  1.3704e-01,  1.8767e-01,\n",
              "          2.9084e-01, -5.6048e-01,  4.5486e-02, -4.6161e-01, -5.0407e-01,\n",
              "         -2.2868e-01, -4.1771e-01, -1.2273e-01,  4.2102e-01,  3.7814e-01,\n",
              "         -1.3103e-01,  2.9615e-01,  6.9940e-02, -3.5369e-01, -4.5209e-01,\n",
              "         -4.8102e-01,  2.9196e-01, -3.8154e-01,  2.9326e-01, -1.3298e-01,\n",
              "         -4.7033e-01,  2.6733e-01,  3.1325e-01, -1.1071e-01,  6.1927e-01,\n",
              "          1.7381e-01,  3.2380e-01, -2.0656e-01, -2.7290e-02,  3.0203e-01,\n",
              "          2.3318e-01,  1.5106e-01, -7.1531e-01,  9.8843e-03, -2.1928e-02,\n",
              "          1.2921e-01,  6.9806e-01, -4.1247e-01, -1.9097e-01,  4.2005e-01,\n",
              "          2.2770e-02, -1.7920e-01, -1.0529e-01, -8.1183e-01, -5.4312e-01,\n",
              "         -2.3316e-01, -8.4351e-01,  6.4779e-01,  1.9171e-01,  8.1760e-02,\n",
              "          4.6776e-01, -6.4025e-01,  6.0031e-01,  3.1935e-02,  4.6819e-01,\n",
              "          2.5292e-01,  1.4352e-02,  9.1435e-03,  4.0280e-01,  1.9749e-01,\n",
              "         -2.1392e-01, -8.3003e-02,  1.8420e-01, -1.6516e-01, -1.5642e-01,\n",
              "          2.8784e-02,  1.2974e-01,  5.7069e-02,  5.7627e-02, -9.1595e-02,\n",
              "          2.3551e-01, -2.4333e-01, -1.0057e-01, -1.7435e-01, -8.2667e-02,\n",
              "          1.7343e-01, -2.2666e-01,  4.4121e-03,  9.8000e-01,  1.4199e-02,\n",
              "         -1.2573e-01,  3.7142e-01,  2.5079e-01,  4.1470e-01,  1.2545e+00,\n",
              "          8.5724e-01,  2.0821e-01,  2.3709e-01, -2.4691e-01, -3.3710e-01,\n",
              "         -3.7073e-01,  4.3344e-01,  2.2562e-01,  1.9900e-01,  7.3954e-02,\n",
              "         -7.0589e-01, -6.7569e-01,  4.6539e-01,  1.2953e+00, -2.5814e-01,\n",
              "          1.1916e-01, -1.9663e-01, -6.9798e-01, -9.3671e-02, -5.9943e-01,\n",
              "         -4.8511e-01,  4.0929e-01,  5.1329e-01,  6.8087e-01, -7.3702e-02,\n",
              "          3.8451e-01, -2.3624e-01,  1.8349e-01, -6.3553e-01,  1.8795e-01,\n",
              "         -2.1269e-02,  8.9775e-01,  5.0536e-01, -8.3857e-01,  2.7253e-01,\n",
              "          3.4592e-01,  7.9680e-01,  8.2269e-02,  4.6828e-01, -4.4379e-01,\n",
              "          1.0494e+00, -3.3818e-01, -5.3215e-01, -2.2994e-02, -5.4035e-01,\n",
              "         -6.3507e-02, -1.5892e-01, -1.9023e-01,  7.0076e-01,  8.9399e-01,\n",
              "         -5.4005e-02,  3.5186e-01,  9.7935e-02,  1.7656e-01, -5.0068e-01,\n",
              "         -2.0942e-01, -9.0454e-01,  2.1051e-02,  3.1775e-01,  3.3051e-01,\n",
              "         -4.7281e-01, -1.4452e-01, -1.2294e-01,  3.6073e-01, -4.5730e-01,\n",
              "          3.0928e-01,  1.0267e-01,  7.6697e-02,  9.6756e-03, -5.0218e-01,\n",
              "         -1.0209e+01, -3.7969e-01, -8.0083e-03,  2.1055e-01,  2.2269e-01,\n",
              "         -2.4579e-02, -3.6334e-01, -4.1454e-01, -2.0160e-01, -9.9501e-01,\n",
              "          2.0940e-01, -1.5019e-01, -6.6390e-01,  3.5753e-01,  5.4656e-01,\n",
              "         -3.4257e-01, -1.4521e-01,  9.5879e-03, -3.0919e-01, -2.3393e-01,\n",
              "         -3.8033e-02, -9.4038e-02,  3.4476e-02,  4.7805e-01, -4.1732e-01,\n",
              "         -1.6116e+00,  1.9939e-01, -3.2115e-01, -8.3756e-03,  2.6572e-01,\n",
              "         -1.3381e+00,  1.2668e-02,  3.7011e-02, -5.1714e-01, -1.5849e-01,\n",
              "         -4.0059e-01,  2.9731e-01, -5.5820e-01, -8.6078e-01, -1.5526e-01,\n",
              "         -4.3630e-01, -2.3449e-01, -4.1572e-01,  1.4369e-01,  4.7750e-01,\n",
              "         -1.4772e+00,  5.7597e-01,  8.5374e-01,  6.0171e-01,  1.1562e-01,\n",
              "         -1.0205e-01, -1.5043e-01,  7.8403e-01, -9.4526e-02, -2.7652e-01,\n",
              "         -1.6121e-01, -5.6119e-02, -2.4325e-01, -3.1670e-01, -7.2917e-01,\n",
              "         -1.1335e-01,  4.3242e-01,  2.0020e-01, -1.7708e-01, -2.9172e-01,\n",
              "         -2.9791e-01, -3.5980e-02,  9.3831e-01,  8.2297e-01, -3.8827e-01,\n",
              "         -2.0252e-01, -4.3290e-01,  4.1162e-01, -5.5871e-01,  4.9874e-01,\n",
              "          4.3359e-01,  3.1259e-02,  1.1025e-01,  1.0446e+00, -5.8900e-01,\n",
              "          6.0055e-01,  6.7404e-01,  5.8034e-01,  7.9658e-02, -5.0509e-01,\n",
              "          6.6141e-01,  1.8409e-01,  7.1056e-02, -1.5288e-01,  3.0561e-01,\n",
              "         -2.5101e-02, -1.3199e-01, -3.6499e-01,  7.8364e-01, -1.7454e-01,\n",
              "         -7.2003e-01,  3.5971e-01, -1.9216e-01,  4.0549e-01, -3.4527e-01,\n",
              "         -7.7212e-01,  1.9099e-01, -1.2823e-01,  5.8637e-01,  3.4579e-01,\n",
              "         -5.4443e-01, -4.9756e-01, -2.0973e-03,  4.2731e-01, -8.7662e-01,\n",
              "         -1.3764e-01, -5.5140e-01,  8.3227e-02,  3.2754e-01, -5.7828e-02,\n",
              "          1.1658e-01,  8.2509e-01, -2.3676e-01, -5.3440e-01, -6.2565e-02,\n",
              "          2.2808e-01, -5.2281e-01, -4.8385e-02, -2.1093e-01, -3.6144e-01,\n",
              "          7.1457e-03,  3.8843e-01,  3.0403e-02,  1.0434e+00, -1.6797e-01,\n",
              "          3.6567e-01, -5.7591e-01, -2.2420e-02,  2.4464e-01, -1.7261e-02,\n",
              "         -1.9046e-01, -3.0898e-01, -3.8929e-02, -8.9770e-02, -5.1870e-01,\n",
              "          3.6718e-01,  4.0073e-01,  1.8677e-01,  4.0668e-01,  1.7980e-02,\n",
              "         -4.8931e-01, -5.3605e-01, -4.9935e-01, -9.8720e-02,  2.0886e-01,\n",
              "          3.9358e-01, -2.0115e-01,  1.0459e+00, -4.6435e-01, -5.3716e-01,\n",
              "         -1.6205e-01,  2.0454e-01,  2.3779e-01, -2.3823e-01, -6.3364e-01,\n",
              "         -7.3707e-01, -1.4355e-01,  8.4153e-02, -3.0560e-02, -2.9318e-01,\n",
              "          4.2976e-02,  3.1252e-01, -2.2016e-01,  6.6184e-02,  6.5852e-01,\n",
              "         -3.3017e-02, -5.4205e-01, -7.4991e-01, -1.5589e-01, -5.0465e-01,\n",
              "         -5.9141e-01, -1.7020e-02,  3.4032e-01,  4.4773e-01,  3.2321e-01,\n",
              "         -3.6337e-01, -5.4382e-02, -5.8677e-01, -7.4178e-01,  3.1168e-01,\n",
              "          2.4105e-01, -1.1879e-01, -3.2106e-01,  5.5256e-01, -2.6796e-01,\n",
              "          5.4816e-01,  5.5861e-01, -2.5297e-01,  8.4411e-02,  2.5006e-01,\n",
              "          3.4268e-01, -3.4118e-01,  9.5510e-02, -1.9921e-01, -1.9194e-01,\n",
              "         -7.8819e-01, -9.0377e-01, -3.5925e-01,  1.3979e-01, -4.8395e-01,\n",
              "          2.6131e-01,  6.7904e-01,  1.9580e-01,  4.0926e-01, -2.7344e-02,\n",
              "          4.9416e-02,  4.0501e-01, -1.3751e-01, -5.2884e-02, -6.5519e-02,\n",
              "          5.0378e-02,  2.5109e-02, -6.3751e-01,  4.4073e-01,  2.6434e-01,\n",
              "          1.3463e-01,  3.4757e-02, -1.7048e-01,  5.6076e-01,  2.5764e-01,\n",
              "          1.0683e-01,  1.9027e-01,  3.2925e-01, -5.3494e-01, -3.5071e-03,\n",
              "          9.5036e-01,  7.2875e-02, -1.4180e-01,  6.5580e-01, -6.1270e-01,\n",
              "         -5.6319e-01, -3.0813e-01, -8.9789e-02,  3.4006e-02, -6.3645e-01,\n",
              "          2.3995e-01,  4.9613e-02,  1.0628e-01, -6.3629e-01,  1.3822e-01,\n",
              "          8.8937e-01, -1.5457e-01,  4.7690e-01,  4.0194e-01,  2.3292e-01,\n",
              "          4.5331e-01,  5.9060e-01,  5.1905e-02,  4.0720e-02,  2.8152e-01,\n",
              "         -1.4654e-01,  2.7357e-01, -4.7611e-01,  3.5625e-02,  4.0559e-02,\n",
              "         -1.0336e-01, -5.3161e-01, -3.3611e-01,  4.0099e-01,  7.7587e-01,\n",
              "          8.4779e-01,  5.2265e-01,  5.7090e-01,  3.4297e-01,  4.2278e-01,\n",
              "         -9.1858e-01, -2.4875e-01,  3.4042e-01,  9.3275e-01, -2.6250e-01,\n",
              "          3.2623e-01,  6.1000e-01,  1.1256e-01,  1.1395e-01,  2.3702e-01,\n",
              "          1.7764e-01, -9.1775e-01,  1.7188e-01, -5.4576e-01,  1.6303e-01,\n",
              "          4.8498e-02, -8.7960e-01,  2.1034e-01, -4.6939e-01, -5.3203e-02,\n",
              "          2.6278e-01,  3.8238e-02, -5.4240e-01, -7.1478e-01,  4.2509e-01,\n",
              "         -6.1202e-01, -3.8488e-01,  2.2985e-01,  4.1885e-01, -3.5569e-01,\n",
              "          5.8275e-01, -3.1883e-01, -2.9088e-01,  8.3665e-01, -1.4461e-01,\n",
              "         -4.0275e-01, -6.1606e-02,  3.6624e-02,  1.7317e-02, -9.5725e-01,\n",
              "         -1.5958e-01,  1.4164e-01,  2.4238e-01,  2.9417e-01, -1.2567e-01,\n",
              "         -5.4930e-01,  5.9275e-01, -3.3212e-02,  3.5849e-01, -4.1705e-01,\n",
              "         -7.5356e-01,  1.4280e-01, -6.4842e-01,  4.5644e-01,  5.1524e-01,\n",
              "         -2.2301e-01,  7.8273e-01,  3.2099e-01,  4.9053e-01,  3.4312e-01,\n",
              "         -7.1420e-01, -6.8252e-02, -1.6295e-01, -1.9046e-01,  2.1464e-01,\n",
              "         -4.1960e-02, -2.8818e-01, -2.3278e-01, -4.8347e-02, -5.0691e-01,\n",
              "         -3.6610e-01, -5.7567e-02,  3.7278e-01,  3.3667e-01,  3.6363e-01,\n",
              "          1.3677e-01,  9.2594e-01, -3.4246e-01, -8.5756e-01, -3.1103e-01,\n",
              "          1.7053e-01,  3.1092e-01,  4.4765e-02, -1.0188e+00, -6.7963e-01,\n",
              "          2.9676e-01, -7.5249e-01,  1.7731e-01,  2.7306e-01,  7.6042e-01,\n",
              "         -6.4131e-01, -9.2298e-02,  4.1722e-01,  3.2565e-01, -4.0349e-02,\n",
              "         -4.1708e-02,  4.1178e-02, -3.1148e-02, -4.5825e-01, -2.7425e-01,\n",
              "         -1.5656e-01, -6.5489e-02,  3.6376e-01, -1.3915e-01,  1.6604e-01,\n",
              "          1.3386e+00,  7.7115e-02, -8.5213e-01,  2.8017e-02, -1.4697e-01,\n",
              "          6.7980e-02, -3.0801e-01, -4.6274e-01, -4.2306e-01, -1.9986e-01,\n",
              "          1.1023e-01,  1.4410e-01, -3.5771e-01, -1.3105e-01,  1.3597e-01,\n",
              "          8.2961e-01, -8.7908e-01,  3.3680e-01,  1.9638e-01, -2.1128e-01,\n",
              "          2.1360e-01,  2.7585e-02,  3.0947e-01, -1.4565e-01,  6.3943e-01,\n",
              "         -3.4896e-01,  3.0548e-01, -7.1193e-01,  3.0366e-01,  2.4853e-01,\n",
              "         -4.8607e-01, -4.9430e-01, -2.2768e-01, -5.0197e-02,  3.6619e-01,\n",
              "         -2.4650e-01, -2.2975e-01,  2.9219e-02, -2.2906e-01,  1.7105e-02,\n",
              "          4.1304e-02, -7.8949e-02, -3.1399e-01,  7.5678e-01,  7.6684e-02,\n",
              "         -4.5288e-01,  1.0207e-01, -1.1863e-01,  5.7250e-02, -1.9929e-01,\n",
              "          4.9225e-01, -2.1404e-01,  1.2729e-01,  4.9583e-02,  7.1006e-01,\n",
              "          1.9483e-01, -1.7550e-01,  1.5216e-02,  7.6230e-02,  1.3497e-01,\n",
              "          3.1258e-01,  8.6365e-02,  2.0321e-01, -4.6925e-01,  2.5018e-01,\n",
              "          3.3114e-01,  6.3422e-01, -1.3580e+00, -1.2723e-01,  1.7387e-01,\n",
              "         -6.3032e-01,  6.0220e-02,  5.6945e-01,  2.6029e-01,  3.5548e-01,\n",
              "          2.0849e-01, -1.6856e-01,  3.4865e-01,  1.7292e-01, -6.3189e-01,\n",
              "         -2.8630e-01, -5.2099e-01, -3.5612e-02,  6.6286e-01,  8.6895e-01,\n",
              "         -9.6001e-02,  3.9397e-01,  3.1528e-01, -3.4208e-01,  3.0255e-01,\n",
              "          3.5285e-01,  9.8973e-02, -7.2535e-01,  3.6675e-01,  9.8186e-02,\n",
              "         -1.3391e-02,  4.6269e-01,  1.8882e-01,  9.1436e-02,  1.7495e-01,\n",
              "         -3.2773e-01,  2.2561e-01, -2.5151e-01,  1.2377e-01,  1.2607e-01,\n",
              "         -1.6268e-01,  1.3020e-01, -7.2369e-01, -3.8323e-02,  3.6634e-01,\n",
              "          7.1573e-02, -4.9875e-02,  2.0576e-01, -9.2197e-02, -4.7079e-01,\n",
              "         -8.5063e-01, -6.1583e-01,  2.2837e-01,  8.8138e-01,  3.4715e-01,\n",
              "         -2.8948e-01, -8.4251e-01,  2.3172e-01,  7.2587e-01,  5.6464e-01,\n",
              "         -3.9022e-01, -6.7682e-01,  1.0858e-01,  4.5654e-01, -3.1011e-01,\n",
              "          2.1521e-01, -6.8115e-01, -9.9393e-03,  2.8144e-01, -1.2138e-01,\n",
              "         -3.7746e-01,  8.9392e-02,  1.0043e-01, -3.8877e-01, -3.5501e-01,\n",
              "         -6.0384e-01,  9.7717e-02, -1.5745e-02,  1.6906e-01, -6.1796e-01,\n",
              "          1.6678e-02, -2.9651e-01,  4.6810e-01,  9.4748e-02,  4.8080e-01,\n",
              "          2.0084e-01,  3.1931e-01,  3.2058e-01,  8.4636e-01, -5.2643e-01,\n",
              "         -1.0601e+00,  4.4876e-01,  2.0554e-01, -1.7367e-01,  9.9347e-01,\n",
              "         -6.4840e-01,  3.7415e-01, -3.7924e-01, -7.4396e-01, -1.3783e-01,\n",
              "         -3.7666e+00,  3.7908e-01, -2.1099e-01,  1.2355e-01, -2.6468e-01,\n",
              "          5.7559e-01,  1.2929e-01, -2.4444e-01, -5.4582e-02, -2.7008e-01,\n",
              "          1.8966e-01, -5.3912e-02, -2.2966e-01,  3.2914e-01,  1.7628e-01,\n",
              "          4.5578e-01,  2.1490e-01, -5.5004e-01,  3.7108e-01,  1.0747e-01,\n",
              "          2.8272e-01,  2.2043e-01,  4.2986e-01, -4.0494e-01, -2.0403e-01,\n",
              "         -1.2965e-01, -4.9155e-01, -6.6706e-01, -1.3273e-01,  2.3532e-02,\n",
              "          2.2931e-01, -1.8340e-01,  5.7959e-01, -2.9042e-01,  7.1402e-01,\n",
              "         -6.0843e-03,  3.9861e-01, -3.8104e-01, -1.4082e-01, -3.8493e-02,\n",
              "         -3.9285e-01, -9.0229e-01,  2.4321e-01, -6.4914e-01, -8.5827e-02,\n",
              "          1.5680e-01, -5.9687e-01, -1.6345e-01]])"
            ]
          },
          "metadata": {},
          "execution_count": 23
        }
      ],
      "source": [
        "cls_embedding2"
      ]
    },
    {
      "cell_type": "code",
      "execution_count": null,
      "metadata": {
        "id": "e8pS9pyJ0iys",
        "colab": {
          "base_uri": "https://localhost:8080/"
        },
        "outputId": "fc2f46d1-81fe-40f0-f019-1e60c8484ca6"
      },
      "outputs": [
        {
          "output_type": "execute_result",
          "data": {
            "text/plain": [
              "tensor([[-1.6598e-02, -1.6250e-02,  1.8886e-01,  1.6606e-01,  1.3328e-01,\n",
              "          1.2637e-01,  5.7070e-01,  5.2433e-01,  1.0405e-01, -9.1614e-02,\n",
              "         -3.8632e-02, -4.3474e-01,  2.1243e-01,  5.1855e-01,  1.0874e-01,\n",
              "          2.5485e-01,  1.4920e-01, -8.9226e-02, -8.2888e-02, -1.3754e-01,\n",
              "         -2.8135e-01, -2.8285e-01, -2.0032e-01,  8.0535e-01,  2.1278e-01,\n",
              "         -1.5092e-01,  4.2087e-02,  3.3375e-01,  1.7454e-01, -3.7740e-01,\n",
              "          6.5581e-01,  3.4183e-01,  3.1558e-02, -2.8515e-01, -7.5867e-01,\n",
              "          1.7018e-01, -4.4284e-01,  7.7506e-02,  1.3016e-01,  2.8330e-01,\n",
              "         -3.9885e-01, -3.3802e-01,  3.7604e-01, -1.5366e-01, -3.3388e-01,\n",
              "          9.2844e-02, -5.6121e-01, -1.6367e-01, -2.9149e-01, -3.8234e-01,\n",
              "         -3.5035e-01, -1.2334e-01,  3.2070e-02,  2.6125e-01,  2.8671e-02,\n",
              "          5.0789e-01, -5.1107e-01, -6.6422e-02,  2.4402e-01,  1.2804e-01,\n",
              "          2.3853e-01,  2.9926e-01,  2.8493e-01, -3.1266e-01, -1.6440e-01,\n",
              "         -4.8137e-01, -1.2374e-01,  1.6187e-01, -3.7824e-01,  4.6626e-01,\n",
              "          5.5742e-02,  1.7887e-02, -1.6861e-01, -3.4110e-01, -7.4776e-03,\n",
              "         -1.4778e-01,  2.8357e-01,  2.9902e-01,  4.8079e-02,  9.8930e-02,\n",
              "          8.4164e-02,  4.3422e-02,  4.9309e-01,  5.2411e-01, -1.2303e-01,\n",
              "          2.7774e-01, -1.7652e-01,  9.4774e-02,  1.8683e-01, -2.2374e-01,\n",
              "         -5.7013e-01, -4.5080e-01,  2.1750e-01, -9.4742e-02, -4.2683e-02,\n",
              "         -8.4658e-01, -2.3560e-01,  3.4030e-02,  7.7398e-01,  2.7721e-01,\n",
              "          5.1607e-01, -4.0929e-02, -4.9096e-01,  3.0916e-01, -4.8648e-01,\n",
              "         -1.6411e-01,  1.8230e-03, -6.2251e-02, -1.1295e-01, -6.6477e-01,\n",
              "         -5.8788e-02,  1.4960e-01,  2.8301e-02, -2.1012e-01, -1.7651e-01,\n",
              "          3.0815e-01,  8.0972e-02,  4.1001e-01, -3.4278e-02, -3.0122e-01,\n",
              "          4.6739e-02,  4.0152e-01,  7.5634e-01,  1.9416e-01, -3.0350e-01,\n",
              "          5.0035e-02, -1.7771e-01,  8.8173e-01,  6.8261e-02, -3.6265e-01,\n",
              "         -2.6064e-01,  3.2097e-01, -2.0980e-01, -4.1625e-02, -2.1806e-01,\n",
              "         -1.2987e-01, -8.5039e-02, -1.1683e-02,  2.7251e-01, -1.2737e-01,\n",
              "         -7.6988e-02,  5.8525e-01, -6.4865e-01,  3.6225e-01, -3.0944e-01,\n",
              "         -1.4241e-01, -2.3902e-01,  8.3184e-02, -3.6115e-01,  4.4901e-01,\n",
              "          2.0849e-02,  6.2085e-01,  2.8512e-02, -1.7129e-01, -2.7283e-01,\n",
              "          3.4322e-01, -3.2046e-01,  2.8534e-01,  7.2242e-03, -1.9368e-01,\n",
              "          5.0516e-01, -3.8103e-01,  1.0224e-01, -4.6729e-01, -1.7377e-01,\n",
              "         -6.3807e-01, -1.5422e-01,  1.6534e-01, -1.4062e-01,  2.6588e-01,\n",
              "         -1.9738e-01, -4.1404e-01,  4.0783e-01, -4.1477e-01,  1.4786e-01,\n",
              "          1.7423e-01,  1.4836e-01,  9.3866e-02, -3.8973e-01,  1.9426e-01,\n",
              "         -2.4927e-01,  8.9383e-01,  1.3717e-01,  7.0397e-02, -5.4185e-02,\n",
              "          3.5071e-01,  7.1102e-01, -5.2825e-01,  2.5053e-02,  5.3560e-01,\n",
              "          5.5658e-01,  6.3567e-02, -3.2624e-01, -7.5885e-02,  4.9663e-02,\n",
              "         -1.8237e-01, -5.2826e-02, -2.2131e-01, -5.7914e-01, -4.0610e-01,\n",
              "         -5.6421e-01, -9.4377e-02,  2.4228e-01,  1.1028e-01, -6.2424e-03,\n",
              "          9.4427e-01, -1.5379e-01, -2.4573e-01,  6.7245e-02, -8.2491e-02,\n",
              "         -1.2497e-01,  3.0072e-02, -2.4959e-01, -5.9725e-01,  2.6368e-01,\n",
              "         -4.7959e-03,  2.0211e-02, -1.2792e-01,  8.4797e-02,  3.1367e-01,\n",
              "          2.3866e-01, -6.5109e-03, -6.6108e-01,  3.5650e-01, -3.9974e-01,\n",
              "          9.7627e-01,  2.4676e-01, -3.1128e-01,  1.2595e-01,  6.9633e-02,\n",
              "         -2.1801e-01, -2.2213e-01,  5.1708e-01,  6.1543e-02,  4.1035e-02,\n",
              "          4.4066e-02,  1.6490e-02,  1.6375e-01, -8.9830e-02,  3.0329e-01,\n",
              "          4.1586e-01, -1.9276e-02,  2.4217e-01,  5.4140e-01, -4.7906e-01,\n",
              "          3.7776e-01,  1.9759e-01,  1.3730e-02,  5.4996e-02, -2.5855e-01,\n",
              "          2.2520e-01, -2.7498e-02, -3.0003e-01, -2.4083e-01,  3.3517e-01,\n",
              "         -5.1474e-01,  1.1623e-01,  2.7825e-01, -1.8978e-01,  7.1558e-01,\n",
              "         -2.8562e-01, -1.8928e-02,  3.0774e-01, -5.3934e-03, -1.7628e-01,\n",
              "         -2.5525e-01, -7.5775e-01,  2.7659e-01,  2.4090e-01,  2.1710e-02,\n",
              "         -1.6571e-01, -1.4476e-01,  3.5746e-01, -4.4870e-01, -8.5053e-01,\n",
              "         -3.5096e-01,  6.3995e-01, -1.5568e-01, -1.4719e-02, -2.1551e-01,\n",
              "         -2.7763e-01,  2.9054e-01, -2.6948e-01,  4.6501e-01, -9.3111e-01,\n",
              "         -1.9351e-01,  4.8639e-01,  1.2255e-01, -2.9367e-01, -3.7560e-01,\n",
              "          4.9664e-03, -5.9158e-02, -1.3469e-01, -1.9899e-01,  2.2819e-01,\n",
              "         -1.6437e-01,  9.0694e-02,  1.6171e-01, -5.1410e-01, -2.0064e-01,\n",
              "         -2.2545e-01,  9.0963e-02, -1.5691e-01,  3.9337e-01,  4.8504e-01,\n",
              "          2.6773e-01, -2.6597e-01,  2.2915e-01, -4.5639e+00, -3.8493e-01,\n",
              "         -4.6625e-01,  3.8103e-01,  4.6127e-01, -5.8779e-01, -1.4580e-01,\n",
              "         -3.7823e-02, -1.3797e-01,  4.4770e-01, -5.5505e-01,  3.4395e-01,\n",
              "         -1.7656e-01,  5.3816e-03,  2.8464e-01,  3.7106e-01,  3.2197e-01,\n",
              "         -3.9586e-01,  4.7087e-03,  4.8669e-01, -1.1129e-01,  7.3961e-02,\n",
              "         -2.4037e-02, -1.8679e-01,  1.0982e-01,  5.6170e-03, -1.0853e+00,\n",
              "         -2.2038e-01, -7.7467e-01,  2.3811e-01, -2.8879e-01,  2.2936e-01,\n",
              "          1.7009e-01,  5.5031e-01,  2.8172e-01, -8.3125e-02, -5.2962e-01,\n",
              "         -5.0104e-01, -1.5230e-01, -2.7705e-01,  3.4001e-02, -5.9366e-01,\n",
              "          3.1376e-01,  3.7062e-01,  2.8139e-01, -5.5734e-02, -5.7378e-01,\n",
              "         -3.5524e-01,  4.7870e-02,  2.8376e-01, -3.4565e-01, -1.7804e-01,\n",
              "          5.5229e-02,  1.9331e-01,  3.4306e-01, -1.2770e-01,  4.5310e-02,\n",
              "          2.1857e-01, -1.9383e-02, -2.5466e-01,  7.4681e-03,  2.7604e-01,\n",
              "         -2.0173e-01,  8.2528e-01, -6.7120e-01,  1.5482e-01, -4.0528e-01,\n",
              "         -3.6688e-01,  2.9178e-01,  3.0028e-01, -8.4704e-02,  2.2617e-01,\n",
              "         -5.6957e-02, -1.2597e+00, -5.1277e-02, -4.1163e-01,  7.8601e-02,\n",
              "         -1.9509e-01,  1.6023e-01,  2.8722e-01, -2.7099e-02, -4.9569e-01,\n",
              "          6.0416e-01,  3.1978e-01,  8.0989e-02,  1.5294e-01, -3.7186e-02,\n",
              "         -4.4571e-01, -3.4185e-01, -3.2478e-02,  3.9056e-01,  4.7467e-01,\n",
              "          1.4530e-02, -1.1791e-02, -3.8658e-01,  1.1002e-01,  2.8612e-01,\n",
              "         -4.2419e-01,  8.3465e-01, -1.7119e-01,  1.3978e-02, -8.4067e-03,\n",
              "          6.0103e-01, -4.2043e-01,  1.0493e-01, -1.1747e-01, -3.3240e-01,\n",
              "         -2.3078e-01,  7.3604e-02,  3.5114e-01,  4.7993e-01, -1.4370e-01,\n",
              "         -1.9173e-01, -2.2251e-01,  8.4075e-02, -3.7914e-01,  1.1981e-01,\n",
              "          3.9619e-01, -1.1390e-01,  3.2386e-01, -2.4040e-01,  6.1707e-01,\n",
              "         -4.5169e-01, -6.4206e-01, -9.0767e-02,  2.5772e-01,  3.2403e-01,\n",
              "         -3.7415e-01, -3.0351e-01,  1.3593e-01, -2.5149e-02, -5.3231e-01,\n",
              "         -1.8804e-01, -3.8434e-01,  3.4072e-01, -2.3141e-01, -5.5840e-01,\n",
              "         -5.9646e-01, -5.2143e-01,  9.1022e-02, -5.3768e-04,  3.8308e-02,\n",
              "          1.1737e-02,  3.9417e-01,  5.7672e-01,  1.7428e-01,  4.5146e-01,\n",
              "         -2.5892e-02,  6.9712e-02,  2.1452e-01, -6.3078e-02,  1.7433e-01,\n",
              "          3.0102e-02, -2.2461e-01,  1.8155e-01, -5.4065e-01,  3.6539e-01,\n",
              "          9.8948e-02, -6.6736e-02, -3.1927e-01, -5.5476e-01, -1.7687e-01,\n",
              "          1.5509e-01,  2.1366e-01,  1.3955e-01,  8.2793e-01, -1.7663e-01,\n",
              "          9.8001e-03, -2.7156e-02,  1.0650e-02, -6.6898e-02,  2.6734e-01,\n",
              "          2.1625e-02,  3.0829e-02,  1.4043e-01,  2.8494e-01, -2.4637e-01,\n",
              "          1.3570e-01,  1.6489e-01,  4.0371e-01, -1.5994e-02,  1.6502e-01,\n",
              "         -3.1272e-01, -2.8532e-01,  3.9282e-01,  1.8369e-01, -3.2952e-01,\n",
              "         -4.4331e-01,  2.2343e-01,  4.8972e-01,  1.9774e-01,  2.9868e-01,\n",
              "         -2.8560e-01, -4.4403e-01, -7.4021e-01, -2.0908e-01,  6.3158e-02,\n",
              "          2.1778e-01,  4.9744e-01,  2.8005e-01,  1.2736e-02,  1.6001e-02,\n",
              "         -4.0440e-01, -1.0035e-01,  8.2442e-01, -3.9648e-01,  3.7730e-01,\n",
              "          4.8635e-01, -1.8468e-01,  2.6989e-01, -2.1054e-01, -7.2080e-01,\n",
              "         -3.3225e-01, -2.1016e-01, -3.2626e-01, -1.1579e-01, -1.1412e-01,\n",
              "         -1.5945e-01, -2.2173e-01, -2.3435e-01,  2.9547e-01, -4.1467e-01,\n",
              "         -1.9049e-02,  7.3812e-02, -2.0411e-01,  3.3835e-01, -3.8048e-02,\n",
              "         -2.2906e-01, -6.1919e-01,  3.9781e-01,  7.0279e-02, -4.2536e-01,\n",
              "          3.0122e-01,  1.1355e-01,  4.2342e-01,  3.5278e-03,  3.9450e-01,\n",
              "          4.9049e-01, -1.1215e-01,  9.7969e-02, -8.8714e-03, -7.4854e-02,\n",
              "          2.7685e-01, -9.6962e-02,  3.0887e-01, -3.5619e-01,  2.8837e-01,\n",
              "         -1.0383e-01, -2.2729e-01,  2.5780e-01,  1.7974e-02, -4.0915e-01,\n",
              "         -9.3321e-03, -3.4710e-01,  3.0204e-01, -8.8835e-02,  4.2936e-01,\n",
              "          1.4737e-01,  1.1288e-01,  4.2876e-01,  6.9710e-02, -2.6006e-01,\n",
              "          3.1768e-01,  2.1697e-01,  1.9259e-01,  2.8774e-01, -1.1929e-01,\n",
              "         -2.2779e-01, -1.6783e-01,  9.2441e-02,  8.2742e-02, -3.8204e-01,\n",
              "         -8.4131e-02,  5.3884e-01, -5.5292e-02,  1.9959e-01, -1.0110e-01,\n",
              "          3.1919e-01, -3.0670e-01, -3.0752e-02,  7.5409e-01,  5.6597e-01,\n",
              "          4.4333e-01,  2.9769e-01,  4.9826e-01, -1.4287e-03, -6.1093e-01,\n",
              "          2.7446e-01, -5.5762e-02,  1.9514e-01,  5.4121e-01, -1.2015e-01,\n",
              "          3.4010e-02,  6.1936e-01,  4.7806e-02,  3.6247e-01,  1.3053e-01,\n",
              "         -8.1463e-02, -5.2074e-01,  2.8737e-01, -1.9481e-01, -3.1027e-01,\n",
              "          1.3465e-01,  3.5052e-01, -7.3598e-01, -5.5685e-02,  6.6668e-02,\n",
              "         -4.4215e-01, -3.4002e-01, -1.9208e-02,  5.2770e-01, -3.1568e-01,\n",
              "          8.9799e-02,  4.8911e-01, -1.6429e-01, -1.5116e-01,  2.5782e-01,\n",
              "          1.5081e-01, -2.9534e-01,  6.5653e-02,  1.1728e-01,  2.0842e-01,\n",
              "          8.9778e-02,  5.6661e-02,  4.5738e-01,  5.7202e-01, -1.0680e-01,\n",
              "         -1.4951e-01, -9.6984e-02, -4.0863e-01, -1.9793e-01,  5.8866e-01,\n",
              "          3.5630e-02,  4.1178e-01, -1.6929e-02, -3.7365e-01,  1.7537e-01,\n",
              "         -3.9494e-01,  1.5231e-01, -3.3918e-01,  1.6296e-02,  2.5451e-01,\n",
              "          1.6659e-01,  6.8066e-01,  1.4976e-01,  3.3529e-01, -3.7276e-01,\n",
              "          2.3726e-02,  4.9438e-01,  3.0959e-02, -1.3015e-03,  1.9789e-01,\n",
              "          2.9094e-01,  3.7536e-01,  3.5928e-01, -3.8819e-01,  3.5848e-01,\n",
              "          1.8511e-01, -4.0934e-01, -5.9172e-01, -4.0594e-02, -5.4064e-01,\n",
              "          3.6777e-01, -2.9854e-01, -2.6523e-01,  3.4096e-01,  7.7374e-02,\n",
              "          3.9497e-02, -3.2924e-01, -1.1311e-01, -7.8110e-02, -7.4653e-02,\n",
              "         -5.4574e-01,  5.3006e-01,  3.6011e-01, -3.0134e-01, -2.8430e-01,\n",
              "          5.6250e-02,  4.2832e-01,  6.8826e-02, -3.3642e-01,  3.7916e-01,\n",
              "         -6.6456e-01,  9.0112e-02, -2.3576e-02, -3.6276e-01, -4.4583e-01,\n",
              "         -3.0294e-01,  5.0339e-02, -3.5504e-01,  5.2242e-01,  1.7784e-01,\n",
              "         -3.4762e-01, -3.8380e-01, -1.0140e-01, -4.1752e-01,  1.1475e-01,\n",
              "          3.9672e-01, -6.1999e-01, -1.2499e-01,  6.8766e-01, -6.2375e-02,\n",
              "          7.2958e-02, -6.0574e-01,  7.5023e-02,  1.2115e-01, -4.2916e-01,\n",
              "          3.7342e-01, -2.0650e-01,  2.5954e-01, -2.4097e-01, -7.3985e-02,\n",
              "         -6.8040e-01,  5.7489e-02, -3.4294e-01,  2.4207e-02,  1.3532e-01,\n",
              "          1.8116e-01, -6.2297e-02, -1.3223e-02, -2.4300e-01,  2.5559e-01,\n",
              "          1.8563e-01,  2.2126e-01, -1.0957e-01,  1.3618e-01, -2.7942e-01,\n",
              "          5.2061e-01, -6.8311e-02, -2.8601e-01,  1.4100e-01,  5.1735e-02,\n",
              "          4.5270e-01, -1.2929e-01,  3.4655e-01,  9.9281e-02,  3.0908e-01,\n",
              "         -3.7250e-02, -4.3384e-01, -1.8036e-01,  4.5058e-01,  1.7423e-02,\n",
              "          4.0618e-01, -4.9311e-01, -1.8971e+00, -4.5718e-01, -4.6920e-01,\n",
              "         -1.7420e-01,  3.3880e-01, -2.6427e-01,  1.2923e-01, -1.0314e-01,\n",
              "          1.1760e-01, -1.3693e-01,  6.9598e-02,  2.5403e-01, -3.6001e-01,\n",
              "         -1.6429e-01,  4.6048e-01, -1.4817e-02]])"
            ]
          },
          "metadata": {},
          "execution_count": 24
        }
      ],
      "source": [
        "cls_embedding1"
      ]
    },
    {
      "cell_type": "code",
      "execution_count": null,
      "metadata": {
        "id": "hLdTjn4RPbCB",
        "colab": {
          "base_uri": "https://localhost:8080/"
        },
        "outputId": "66caea57-7099-47da-d496-3bfd2993db7f"
      },
      "outputs": [
        {
          "output_type": "execute_result",
          "data": {
            "text/plain": [
              "tensor([[-2.0151e-01, -6.8778e-02,  1.2073e-01, -1.7594e-01, -4.6503e-02,\n",
              "         -2.4070e-01,  3.0335e-01,  5.4316e-01, -1.7485e-01, -1.5461e-01,\n",
              "         -1.8231e-03, -1.2418e-01, -1.3184e-03,  3.5246e-01,  1.5064e-01,\n",
              "          1.3530e-01, -1.2328e-01,  3.0548e-01,  1.6039e-01, -2.6012e-01,\n",
              "         -1.3042e-01, -3.4376e-01,  5.7071e-02, -6.2676e-02,  6.1050e-02,\n",
              "         -7.8781e-02, -7.6578e-02, -5.9111e-02,  2.7158e-01,  9.8975e-02,\n",
              "          5.4113e-02,  1.2378e-01,  3.6470e-02, -1.7289e-01, -1.0377e-01,\n",
              "          9.1288e-02,  8.7544e-02,  1.8524e-02,  8.8331e-02,  6.5841e-02,\n",
              "         -1.0795e-01, -4.4374e-02,  1.5454e-01, -4.0554e-02, -2.1985e-01,\n",
              "         -2.1346e-01, -2.3629e+00, -3.6666e-02, -1.0363e-01, -1.7586e-01,\n",
              "          2.9385e-01,  1.8366e-02,  1.2149e-01,  1.7259e-01,  1.4576e-01,\n",
              "          1.7673e-01, -4.7363e-01,  4.9239e-01, -3.7577e-02,  2.3654e-02,\n",
              "          1.1391e-01,  1.4429e-01, -9.0516e-02,  1.5709e-03, -1.5315e-02,\n",
              "         -3.2772e-02,  4.4378e-02,  2.0585e-01, -6.0122e-02,  3.3984e-01,\n",
              "          6.9624e-02, -1.9992e-01,  2.2573e-01, -4.4581e-02, -6.7743e-02,\n",
              "         -9.1641e-02, -4.9157e-02,  8.4937e-02, -5.2755e-02,  1.2617e-01,\n",
              "         -1.4057e-02,  1.1814e-01,  3.3959e-01,  1.6455e-01,  1.6149e-02,\n",
              "          1.9362e-01, -1.1865e-01, -1.0184e-01,  9.5010e-02,  3.9617e-01,\n",
              "         -4.2786e-01, -8.8637e-02,  9.8901e-02,  2.2705e-01,  4.1642e-01,\n",
              "         -2.9706e-01,  8.1966e-02, -6.8765e-02,  1.4592e-01,  1.4220e-01,\n",
              "          9.9810e-02, -1.7416e-01,  4.5258e-02, -3.3326e-01,  9.8819e-02,\n",
              "          1.0323e-01,  2.0574e-01, -2.7091e-01,  1.3583e-01, -2.2738e+00,\n",
              "          3.3755e-01,  1.6073e-01, -2.3985e-02, -4.3594e-01,  1.4971e-02,\n",
              "          4.4777e-01,  3.1324e-01,  9.6171e-02, -2.0231e-02, -9.1088e-02,\n",
              "          1.2478e-02,  2.7314e-01,  1.1027e-01, -5.8019e-02,  1.0029e-01,\n",
              "          2.3040e-01, -8.3871e-02,  1.0012e-01,  9.2426e-02,  9.5164e-02,\n",
              "          2.6124e-01,  3.2925e-01,  8.1193e-02, -1.6491e-01,  1.7013e-02,\n",
              "          1.9666e-02,  9.7518e-02, -1.4116e-01, -4.0766e-01,  9.0627e-02,\n",
              "         -1.8021e-01,  7.9770e-03, -3.0050e+00,  3.3189e-01,  3.6301e-01,\n",
              "          6.5148e-03, -9.9920e-02,  2.0235e-02,  3.7491e-02,  4.1631e-02,\n",
              "          7.0595e-02,  6.3546e-02, -3.6755e-01,  1.0687e-02, -2.0918e-01,\n",
              "          2.9242e-02, -1.8330e-01,  3.0038e-02,  1.5682e-01,  1.7848e-01,\n",
              "          7.3113e-02, -3.3493e-02,  2.5790e-02, -2.9537e-01, -3.1904e-01,\n",
              "         -4.3927e-02,  3.3945e-01,  2.5163e-01, -1.0684e-01, -9.4140e-02,\n",
              "         -4.2270e-02,  5.6990e-03,  2.2351e-01,  6.2510e-02,  1.4118e-01,\n",
              "          8.5718e-02,  2.7373e-01,  2.9297e-01,  4.6535e-03, -9.7426e-02,\n",
              "          1.1381e-01,  3.6986e-01,  5.5833e-02,  1.9519e-01,  2.3451e-01,\n",
              "         -1.0365e-02,  2.3720e-01, -1.3970e-01,  1.3986e-02,  1.6329e-01,\n",
              "          1.9065e-01, -2.1376e-02,  5.8541e-02, -1.1386e-01,  1.9476e-01,\n",
              "          1.3272e-01,  8.3875e-02, -4.0811e-01,  2.4938e-01, -1.3938e-02,\n",
              "         -1.3924e-01,  2.2836e-01, -7.0390e-02,  5.7865e-02, -1.1600e-01,\n",
              "          3.4642e+00,  9.8864e-03, -1.7371e-02,  5.4837e-02, -1.1641e-01,\n",
              "         -1.3687e-01,  1.6975e-01,  7.3658e-02, -2.3911e-01, -1.3442e-01,\n",
              "          1.4885e-01,  3.5265e-01,  6.7635e-02,  1.5587e-01, -1.7843e-02,\n",
              "          5.6923e-02,  6.7845e-02, -1.6866e-01, -2.7263e-02, -9.6836e-02,\n",
              "          1.8418e-01,  2.1495e-01,  1.9725e-02,  2.0035e-01, -1.1147e+00,\n",
              "         -9.0062e-02, -2.1682e-02, -6.9003e-02,  2.2731e-01, -2.0969e-01,\n",
              "         -1.1728e-01,  1.0702e-01, -2.3910e-02,  1.6883e-01,  1.1139e-01,\n",
              "          3.7081e-02,  2.3765e-01,  2.2414e-01,  3.2480e-01, -1.1229e-01,\n",
              "          2.5593e-01,  2.9421e-01,  1.0983e-01,  7.5339e-02, -9.3728e-02,\n",
              "          2.9185e-01, -2.1076e-01, -1.2367e-01, -5.7721e-02,  9.0757e-02,\n",
              "         -3.3197e-01,  1.5737e-01,  1.5632e-01, -2.2413e-01,  6.8081e-02,\n",
              "         -1.7175e-01, -3.1056e-01,  1.8344e-01,  8.2651e-02, -2.1060e-01,\n",
              "         -1.0862e-01, -2.5905e-02, -2.6630e-01,  1.2297e-01, -1.3901e-02,\n",
              "         -1.4179e-01,  2.4289e-01, -1.5478e-01, -3.5888e+00,  1.6653e-01,\n",
              "         -1.0356e-01,  1.7906e-01,  2.7297e-01,  1.3067e-01, -3.1438e-02,\n",
              "         -5.6125e-02,  2.3070e-01, -4.4334e-01,  3.0435e-01,  1.2134e-01,\n",
              "         -1.1590e-02,  2.1300e-01, -3.8253e-01,  1.8756e-01,  1.2598e-01,\n",
              "         -8.0506e-02, -2.5299e-01, -2.8246e-02, -1.6755e-01,  2.6168e-01,\n",
              "         -2.4427e-01,  2.1901e-01,  2.0783e-02, -3.0473e-01,  1.2150e-02,\n",
              "         -1.0752e-01,  2.0657e-01, -1.4230e-01, -2.9581e-02, -5.4581e-02,\n",
              "          1.1288e-01, -1.0859e-01, -6.0670e-02, -2.8676e+00, -5.5197e-02,\n",
              "          7.6722e-02, -1.8283e-02,  2.6582e-02, -1.0831e-01,  2.2340e-01,\n",
              "         -1.2676e-01, -2.2693e-01,  1.2137e-01,  2.9909e-02,  2.4504e-02,\n",
              "         -4.7588e-02,  2.2097e-01,  2.5268e-01,  5.3647e-02,  1.2558e-01,\n",
              "         -1.1637e-01,  2.2791e-01,  2.2150e-01, -5.2713e-02, -1.9250e-01,\n",
              "         -6.2373e-02, -2.7538e-02,  7.1925e-02,  9.0566e-02, -3.4101e-01,\n",
              "         -1.0993e-01, -3.0350e-01, -9.0545e-03, -1.4094e-01, -2.0079e-01,\n",
              "         -1.7762e-02, -1.7271e-02, -1.1677e-01, -3.0859e-01,  5.4296e-02,\n",
              "         -2.1431e-01,  2.2558e-01,  4.4876e-02, -5.7770e-02,  4.0213e-01,\n",
              "          1.5947e-01,  1.5108e-01,  2.7542e-01, -1.0366e-01, -2.3198e-02,\n",
              "         -5.2685e-02, -6.7021e-02,  2.2508e-02, -1.5821e-01,  5.0662e-02,\n",
              "          1.2382e+00, -1.8004e-01,  4.0206e-02, -1.3127e-01,  3.8675e-01,\n",
              "          1.9741e-01,  2.2075e-01,  9.0782e-02,  4.1926e-01,  7.6292e-02,\n",
              "          9.3052e-02, -2.7572e-03, -8.4919e-02, -1.4261e-01,  1.1770e-01,\n",
              "         -3.3685e-01, -7.5791e-02,  7.1842e-02, -1.8818e-01,  1.9288e-01,\n",
              "         -1.6157e-01, -7.7350e-01, -3.9917e-01,  1.3604e-01, -6.7914e-02,\n",
              "         -4.6134e-02,  1.0993e-01,  6.9189e-02, -3.5866e-01, -1.8052e-01,\n",
              "          1.8810e-02,  2.2858e-01, -7.6448e-02, -1.3720e-01, -1.6139e-01,\n",
              "         -4.0046e-02, -3.9053e-01,  1.3458e-01, -2.3345e-02,  1.1187e-01,\n",
              "          4.8843e-02,  2.1526e-01, -9.0177e-03,  6.1896e-02,  1.6560e-01,\n",
              "         -5.6840e-01,  2.7471e-01, -1.4033e-01,  4.4150e-02, -9.4714e-02,\n",
              "          1.3284e-02,  1.2320e-01, -1.8908e-01, -1.7290e-01, -1.5816e-01,\n",
              "          1.9210e-01,  8.9532e-02,  3.0746e-01, -3.0049e-02,  2.0505e-01,\n",
              "         -1.0215e-01,  6.4138e-02,  1.0789e+00, -1.8490e-02,  6.7738e-02,\n",
              "          2.7396e-01, -7.5175e-02,  2.0280e-01,  3.1824e-02,  9.7086e-02,\n",
              "         -2.8849e-01,  7.8495e-02,  2.7472e-02,  8.8888e-02,  6.6881e-03,\n",
              "         -6.6504e-02, -2.5281e-01, -1.6253e-01,  6.8415e-02, -1.8549e-01,\n",
              "         -1.0495e-01, -5.0436e-01,  7.0471e-02, -1.6294e-01, -1.4360e-01,\n",
              "         -9.3707e-02,  1.3048e-01,  1.3501e-01,  2.0320e-01,  2.1030e-01,\n",
              "         -1.3350e-01,  4.8651e-01,  2.5034e-02,  2.6330e-01,  5.8301e-02,\n",
              "          2.2129e-01, -8.4325e-02,  3.5681e-01, -1.1847e-01, -1.9595e-01,\n",
              "          1.4560e-01, -1.9039e-01,  1.6627e-01,  3.5865e-02,  1.0475e-01,\n",
              "          1.0616e-01,  1.1897e-02,  3.9554e-02,  1.5082e-01,  3.0507e-02,\n",
              "         -1.3552e+00,  2.0120e-01,  2.7412e-01,  1.7410e-01,  1.5225e-01,\n",
              "         -1.4220e-01, -2.6037e-01,  4.7302e-01,  6.6219e-02,  2.4144e-01,\n",
              "         -2.2642e-02,  1.4325e-01, -3.3088e-02, -6.9455e-02, -1.2012e-03,\n",
              "         -5.2814e-02,  1.4034e-01, -3.2045e-02,  4.4598e-02,  1.5560e-01,\n",
              "         -3.0043e-02,  1.8478e-01,  1.0729e-01, -5.2380e-02, -8.1405e-02,\n",
              "         -9.1559e-02,  4.0331e-02,  2.9997e-01,  3.3807e-02,  2.7321e-01,\n",
              "         -1.2254e-01, -3.2030e-01, -6.3839e-01, -1.3294e-01,  6.7073e-02,\n",
              "         -7.3310e-02,  1.6280e-01,  1.0845e-01, -4.2965e-03,  1.3244e-01,\n",
              "         -3.8964e-01,  3.1924e-01,  3.8681e-01, -8.6563e-02,  4.2269e-01,\n",
              "          1.8410e-01, -1.3747e-01,  2.5031e-01, -1.1220e-01, -2.6572e-01,\n",
              "          1.4757e-01,  9.9296e-03, -1.9303e-01, -6.3435e-02,  1.1291e-01,\n",
              "         -7.1922e-02, -1.7945e-01,  3.1302e-02, -3.2999e-01, -9.3326e-02,\n",
              "          2.2116e-01, -2.9247e-01, -1.1933e-01,  1.3333e-01, -1.1029e-01,\n",
              "         -3.8781e-01, -1.1118e-01, -2.9483e-01,  2.6065e-02,  1.7580e-01,\n",
              "          3.5961e-01, -1.5851e-01, -2.5394e-01,  1.4056e-01, -1.2851e-01,\n",
              "          6.1034e-02, -4.6991e-02,  9.4105e-02,  1.4970e-01, -3.6249e-01,\n",
              "          1.7612e-03, -1.2694e-01, -1.2202e-01,  2.0196e-01,  4.9482e-02,\n",
              "          8.1857e-02,  5.6341e-02, -1.0086e-01, -1.6982e-01,  7.3924e-02,\n",
              "         -2.5243e-01, -2.4086e-01,  7.5826e-02, -1.1144e-01,  1.9457e-01,\n",
              "          1.2426e-01,  7.7422e-02, -9.0196e-02, -1.5644e-01,  2.7060e-02,\n",
              "         -1.4212e-01,  1.3949e-01,  3.3077e-01,  1.3394e-01,  6.0962e-03,\n",
              "         -4.9053e-02,  1.3612e-01,  1.8512e-01, -2.3836e-01,  8.7983e-02,\n",
              "         -1.9136e-01,  1.3815e-01,  1.5761e-01,  7.6176e-02,  3.7127e-02,\n",
              "         -1.6925e-01, -3.9483e-02, -1.5505e-01,  1.9707e+00,  4.9202e-01,\n",
              "         -6.4683e-02, -1.1092e-01,  1.6976e-01,  4.9756e-02, -2.2137e-01,\n",
              "          5.1732e-02, -1.6884e-03,  5.0764e-01, -1.5548e-01,  2.0479e-01,\n",
              "          4.9314e-02,  2.7486e-01,  4.7913e-01,  6.7228e-02,  1.7291e-01,\n",
              "         -2.1806e-01, -4.3152e-01, -1.0126e-01, -2.7574e-01,  3.9490e-02,\n",
              "          3.9162e-01, -1.1595e-01, -5.7761e-02,  1.5904e-01, -2.9538e-02,\n",
              "         -1.2446e-01, -1.8637e-01,  1.4284e-01,  3.7622e-02, -6.0876e-02,\n",
              "         -9.4429e-02,  2.4966e-01, -2.7637e-01,  8.8646e-02,  2.1445e-01,\n",
              "         -3.1336e-01, -1.5788e-01,  9.7277e-02,  8.4371e-02, -3.6233e-01,\n",
              "          2.3678e-01,  9.8460e-03, -5.9196e-02,  3.8705e-01,  1.7830e-02,\n",
              "         -2.5160e-01,  2.0943e-01,  7.6567e-02, -1.7701e-01,  8.8704e-02,\n",
              "         -1.9562e-01,  2.8242e-01, -1.5153e-01, -3.3824e-01, -2.2643e-02,\n",
              "         -7.3856e-02,  3.0514e-02,  1.8612e-01,  4.8405e-04,  2.2721e-01,\n",
              "          1.7413e-01,  4.6940e-02,  7.8663e-02,  1.0668e-01, -2.8533e-01,\n",
              "          8.5271e-02,  7.5466e-02, -2.7680e-01,  1.2559e-02,  2.9603e-01,\n",
              "          3.8457e-01, -9.6721e-02,  4.9530e-01, -3.2976e-03,  2.8426e-01,\n",
              "          3.6949e-02, -8.0546e-02, -2.7319e+00,  3.0131e-02,  9.2411e-02,\n",
              "          2.6064e-01, -4.4376e-02,  3.5377e-01,  3.2582e-01, -1.0184e-01,\n",
              "          1.3877e-01, -2.9316e-01,  2.5317e-01,  2.2243e-01,  1.9021e-01,\n",
              "          1.8661e-02,  2.1241e-01,  9.6998e-02,  7.8819e-02, -2.9763e-01,\n",
              "         -1.7891e-01,  1.1849e-02,  7.0204e-02,  1.2323e-02,  1.4358e-01,\n",
              "         -2.8423e-01, -4.1635e-02,  1.6632e-01, -3.5389e-02, -2.0121e-01,\n",
              "         -1.1324e-01, -7.7005e-02, -1.4002e-01,  2.6219e-01, -1.7503e-01,\n",
              "          1.2406e-02, -7.9435e-03, -1.8299e-01, -2.8517e-01, -1.3066e-01,\n",
              "          1.4465e-01, -1.4648e-01, -2.6264e-01,  4.8295e-01, -1.4049e-01,\n",
              "          4.1429e-02, -1.4590e-01,  8.1860e-02,  1.1541e-01, -3.2615e-01,\n",
              "          7.7134e-02, -2.2981e-01, -1.4455e-03,  7.0076e-02,  4.9463e-02,\n",
              "         -5.9286e-02,  1.7710e-01,  1.2598e-03, -1.7712e-02, -3.5286e-02,\n",
              "          6.0266e-02, -1.1588e-01, -3.8084e-02, -2.0702e-02,  1.4304e-01,\n",
              "         -9.5690e-02,  3.9083e-02, -1.6169e-01, -1.5772e-03, -2.4039e-02,\n",
              "         -1.3247e-01, -1.4507e-01, -2.0769e-01, -1.3957e-02,  2.3853e-01,\n",
              "          1.9571e-01,  1.2242e-01,  3.1720e-03,  2.9276e-01,  3.8980e-01,\n",
              "         -8.6288e-02,  1.4940e-01, -3.3774e-02, -7.6965e-02,  1.5134e-01,\n",
              "         -1.2082e-01,  1.1373e-01, -7.4599e+00, -2.7842e-01, -1.3747e-01,\n",
              "          3.2430e-03,  5.4236e-02, -2.9814e-01, -1.5795e-02, -2.9765e-02,\n",
              "          5.4835e-02, -2.1543e-01,  1.1717e-01,  1.1866e-01, -6.1965e-02,\n",
              "         -6.1011e-02,  3.5743e-01,  3.0810e-01]])"
            ]
          },
          "metadata": {},
          "execution_count": 25
        }
      ],
      "source": [
        "cls_embedding\n"
      ]
    },
    {
      "cell_type": "code",
      "execution_count": null,
      "metadata": {
        "id": "A03-AHyyoE-w",
        "colab": {
          "base_uri": "https://localhost:8080/"
        },
        "outputId": "84d577cf-e8de-4441-fad8-e989b4f3a7ea"
      },
      "outputs": [
        {
          "output_type": "execute_result",
          "data": {
            "text/plain": [
              "torch.Size([1, 768])"
            ]
          },
          "metadata": {},
          "execution_count": 26
        }
      ],
      "source": [
        "cls_embedding.size()"
      ]
    },
    {
      "cell_type": "markdown",
      "metadata": {
        "id": "YlSnHhUEmrbN"
      },
      "source": [
        "#Distill Bert for tweet classiifcation"
      ]
    },
    {
      "cell_type": "code",
      "execution_count": null,
      "metadata": {
        "id": "qiuMWXDAnx8N",
        "colab": {
          "base_uri": "https://localhost:8080/",
          "height": 424
        },
        "outputId": "18460c56-bb9e-4729-f781-89b1013f6b41"
      },
      "outputs": [
        {
          "output_type": "execute_result",
          "data": {
            "text/plain": [
              "        ID                                              tweet  \\\n",
              "0        1  @cath__kath AstraZeneca is made with the kidne...   \n",
              "1        2  It begins. Please find safe alternatives to th...   \n",
              "2        3  @PaolaQP1231 Well, I mean congratulations Covi...   \n",
              "3        4  @BorisJohnson for those of us that do not wish...   \n",
              "4        5  She has been trying to speak out: writing lett...   \n",
              "...    ...                                                ...   \n",
              "9916  9917  Former Pfizer Chief Scientific Officer on Expe...   \n",
              "9917  9918  @garygilligan Not what the manufacturer's are ...   \n",
              "9918  9919  //That's a complete no for now on the Oxford/A...   \n",
              "9919  9920  Opinion: Vaccine side effects..- possible to h...   \n",
              "9920  9921  @BorisJohnson resign now before you destroy th...   \n",
              "\n",
              "                  labels                                      cleaned_tweet  \n",
              "0            ingredients  astrazeneca is made with the kidney cells of a...  \n",
              "1            side-effect  it begins. please find safe alternatives to th...  \n",
              "2            side-effect  well, i mean congratulations covid19 for being...  \n",
              "3              mandatory  for those of us that do not wish a vaccine so ...  \n",
              "4     side-effect rushed  she has been trying to speak out: writing lett...  \n",
              "...                  ...                                                ...  \n",
              "9916         side-effect  former pfizer chief scientific officer on expe...  \n",
              "9917              pharma  not what the manufacturer's are saying. the ma...  \n",
              "9918                none  //that's a complete no for now on the oxford/a...  \n",
              "9919         side-effect  opinion: vaccine side effects..- possible to h...  \n",
              "9920           political  resign now before you destroy the country. whe...  \n",
              "\n",
              "[9921 rows x 4 columns]"
            ],
            "text/html": [
              "\n",
              "  <div id=\"df-3baaeb1e-2bbc-4369-a2bf-761b99079ad4\" class=\"colab-df-container\">\n",
              "    <div>\n",
              "<style scoped>\n",
              "    .dataframe tbody tr th:only-of-type {\n",
              "        vertical-align: middle;\n",
              "    }\n",
              "\n",
              "    .dataframe tbody tr th {\n",
              "        vertical-align: top;\n",
              "    }\n",
              "\n",
              "    .dataframe thead th {\n",
              "        text-align: right;\n",
              "    }\n",
              "</style>\n",
              "<table border=\"1\" class=\"dataframe\">\n",
              "  <thead>\n",
              "    <tr style=\"text-align: right;\">\n",
              "      <th></th>\n",
              "      <th>ID</th>\n",
              "      <th>tweet</th>\n",
              "      <th>labels</th>\n",
              "      <th>cleaned_tweet</th>\n",
              "    </tr>\n",
              "  </thead>\n",
              "  <tbody>\n",
              "    <tr>\n",
              "      <th>0</th>\n",
              "      <td>1</td>\n",
              "      <td>@cath__kath AstraZeneca is made with the kidne...</td>\n",
              "      <td>ingredients</td>\n",
              "      <td>astrazeneca is made with the kidney cells of a...</td>\n",
              "    </tr>\n",
              "    <tr>\n",
              "      <th>1</th>\n",
              "      <td>2</td>\n",
              "      <td>It begins. Please find safe alternatives to th...</td>\n",
              "      <td>side-effect</td>\n",
              "      <td>it begins. please find safe alternatives to th...</td>\n",
              "    </tr>\n",
              "    <tr>\n",
              "      <th>2</th>\n",
              "      <td>3</td>\n",
              "      <td>@PaolaQP1231 Well, I mean congratulations Covi...</td>\n",
              "      <td>side-effect</td>\n",
              "      <td>well, i mean congratulations covid19 for being...</td>\n",
              "    </tr>\n",
              "    <tr>\n",
              "      <th>3</th>\n",
              "      <td>4</td>\n",
              "      <td>@BorisJohnson for those of us that do not wish...</td>\n",
              "      <td>mandatory</td>\n",
              "      <td>for those of us that do not wish a vaccine so ...</td>\n",
              "    </tr>\n",
              "    <tr>\n",
              "      <th>4</th>\n",
              "      <td>5</td>\n",
              "      <td>She has been trying to speak out: writing lett...</td>\n",
              "      <td>side-effect rushed</td>\n",
              "      <td>she has been trying to speak out: writing lett...</td>\n",
              "    </tr>\n",
              "    <tr>\n",
              "      <th>...</th>\n",
              "      <td>...</td>\n",
              "      <td>...</td>\n",
              "      <td>...</td>\n",
              "      <td>...</td>\n",
              "    </tr>\n",
              "    <tr>\n",
              "      <th>9916</th>\n",
              "      <td>9917</td>\n",
              "      <td>Former Pfizer Chief Scientific Officer on Expe...</td>\n",
              "      <td>side-effect</td>\n",
              "      <td>former pfizer chief scientific officer on expe...</td>\n",
              "    </tr>\n",
              "    <tr>\n",
              "      <th>9917</th>\n",
              "      <td>9918</td>\n",
              "      <td>@garygilligan Not what the manufacturer's are ...</td>\n",
              "      <td>pharma</td>\n",
              "      <td>not what the manufacturer's are saying. the ma...</td>\n",
              "    </tr>\n",
              "    <tr>\n",
              "      <th>9918</th>\n",
              "      <td>9919</td>\n",
              "      <td>//That's a complete no for now on the Oxford/A...</td>\n",
              "      <td>none</td>\n",
              "      <td>//that's a complete no for now on the oxford/a...</td>\n",
              "    </tr>\n",
              "    <tr>\n",
              "      <th>9919</th>\n",
              "      <td>9920</td>\n",
              "      <td>Opinion: Vaccine side effects..- possible to h...</td>\n",
              "      <td>side-effect</td>\n",
              "      <td>opinion: vaccine side effects..- possible to h...</td>\n",
              "    </tr>\n",
              "    <tr>\n",
              "      <th>9920</th>\n",
              "      <td>9921</td>\n",
              "      <td>@BorisJohnson resign now before you destroy th...</td>\n",
              "      <td>political</td>\n",
              "      <td>resign now before you destroy the country. whe...</td>\n",
              "    </tr>\n",
              "  </tbody>\n",
              "</table>\n",
              "<p>9921 rows × 4 columns</p>\n",
              "</div>\n",
              "    <div class=\"colab-df-buttons\">\n",
              "\n",
              "  <div class=\"colab-df-container\">\n",
              "    <button class=\"colab-df-convert\" onclick=\"convertToInteractive('df-3baaeb1e-2bbc-4369-a2bf-761b99079ad4')\"\n",
              "            title=\"Convert this dataframe to an interactive table.\"\n",
              "            style=\"display:none;\">\n",
              "\n",
              "  <svg xmlns=\"http://www.w3.org/2000/svg\" height=\"24px\" viewBox=\"0 -960 960 960\">\n",
              "    <path d=\"M120-120v-720h720v720H120Zm60-500h600v-160H180v160Zm220 220h160v-160H400v160Zm0 220h160v-160H400v160ZM180-400h160v-160H180v160Zm440 0h160v-160H620v160ZM180-180h160v-160H180v160Zm440 0h160v-160H620v160Z\"/>\n",
              "  </svg>\n",
              "    </button>\n",
              "\n",
              "  <style>\n",
              "    .colab-df-container {\n",
              "      display:flex;\n",
              "      gap: 12px;\n",
              "    }\n",
              "\n",
              "    .colab-df-convert {\n",
              "      background-color: #E8F0FE;\n",
              "      border: none;\n",
              "      border-radius: 50%;\n",
              "      cursor: pointer;\n",
              "      display: none;\n",
              "      fill: #1967D2;\n",
              "      height: 32px;\n",
              "      padding: 0 0 0 0;\n",
              "      width: 32px;\n",
              "    }\n",
              "\n",
              "    .colab-df-convert:hover {\n",
              "      background-color: #E2EBFA;\n",
              "      box-shadow: 0px 1px 2px rgba(60, 64, 67, 0.3), 0px 1px 3px 1px rgba(60, 64, 67, 0.15);\n",
              "      fill: #174EA6;\n",
              "    }\n",
              "\n",
              "    .colab-df-buttons div {\n",
              "      margin-bottom: 4px;\n",
              "    }\n",
              "\n",
              "    [theme=dark] .colab-df-convert {\n",
              "      background-color: #3B4455;\n",
              "      fill: #D2E3FC;\n",
              "    }\n",
              "\n",
              "    [theme=dark] .colab-df-convert:hover {\n",
              "      background-color: #434B5C;\n",
              "      box-shadow: 0px 1px 3px 1px rgba(0, 0, 0, 0.15);\n",
              "      filter: drop-shadow(0px 1px 2px rgba(0, 0, 0, 0.3));\n",
              "      fill: #FFFFFF;\n",
              "    }\n",
              "  </style>\n",
              "\n",
              "    <script>\n",
              "      const buttonEl =\n",
              "        document.querySelector('#df-3baaeb1e-2bbc-4369-a2bf-761b99079ad4 button.colab-df-convert');\n",
              "      buttonEl.style.display =\n",
              "        google.colab.kernel.accessAllowed ? 'block' : 'none';\n",
              "\n",
              "      async function convertToInteractive(key) {\n",
              "        const element = document.querySelector('#df-3baaeb1e-2bbc-4369-a2bf-761b99079ad4');\n",
              "        const dataTable =\n",
              "          await google.colab.kernel.invokeFunction('convertToInteractive',\n",
              "                                                    [key], {});\n",
              "        if (!dataTable) return;\n",
              "\n",
              "        const docLinkHtml = 'Like what you see? Visit the ' +\n",
              "          '<a target=\"_blank\" href=https://colab.research.google.com/notebooks/data_table.ipynb>data table notebook</a>'\n",
              "          + ' to learn more about interactive tables.';\n",
              "        element.innerHTML = '';\n",
              "        dataTable['output_type'] = 'display_data';\n",
              "        await google.colab.output.renderOutput(dataTable, element);\n",
              "        const docLink = document.createElement('div');\n",
              "        docLink.innerHTML = docLinkHtml;\n",
              "        element.appendChild(docLink);\n",
              "      }\n",
              "    </script>\n",
              "  </div>\n",
              "\n",
              "\n",
              "<div id=\"df-590368cb-3fd2-40f1-bfc5-7477c26d7cfe\">\n",
              "  <button class=\"colab-df-quickchart\" onclick=\"quickchart('df-590368cb-3fd2-40f1-bfc5-7477c26d7cfe')\"\n",
              "            title=\"Suggest charts\"\n",
              "            style=\"display:none;\">\n",
              "\n",
              "<svg xmlns=\"http://www.w3.org/2000/svg\" height=\"24px\"viewBox=\"0 0 24 24\"\n",
              "     width=\"24px\">\n",
              "    <g>\n",
              "        <path d=\"M19 3H5c-1.1 0-2 .9-2 2v14c0 1.1.9 2 2 2h14c1.1 0 2-.9 2-2V5c0-1.1-.9-2-2-2zM9 17H7v-7h2v7zm4 0h-2V7h2v10zm4 0h-2v-4h2v4z\"/>\n",
              "    </g>\n",
              "</svg>\n",
              "  </button>\n",
              "\n",
              "<style>\n",
              "  .colab-df-quickchart {\n",
              "      --bg-color: #E8F0FE;\n",
              "      --fill-color: #1967D2;\n",
              "      --hover-bg-color: #E2EBFA;\n",
              "      --hover-fill-color: #174EA6;\n",
              "      --disabled-fill-color: #AAA;\n",
              "      --disabled-bg-color: #DDD;\n",
              "  }\n",
              "\n",
              "  [theme=dark] .colab-df-quickchart {\n",
              "      --bg-color: #3B4455;\n",
              "      --fill-color: #D2E3FC;\n",
              "      --hover-bg-color: #434B5C;\n",
              "      --hover-fill-color: #FFFFFF;\n",
              "      --disabled-bg-color: #3B4455;\n",
              "      --disabled-fill-color: #666;\n",
              "  }\n",
              "\n",
              "  .colab-df-quickchart {\n",
              "    background-color: var(--bg-color);\n",
              "    border: none;\n",
              "    border-radius: 50%;\n",
              "    cursor: pointer;\n",
              "    display: none;\n",
              "    fill: var(--fill-color);\n",
              "    height: 32px;\n",
              "    padding: 0;\n",
              "    width: 32px;\n",
              "  }\n",
              "\n",
              "  .colab-df-quickchart:hover {\n",
              "    background-color: var(--hover-bg-color);\n",
              "    box-shadow: 0 1px 2px rgba(60, 64, 67, 0.3), 0 1px 3px 1px rgba(60, 64, 67, 0.15);\n",
              "    fill: var(--button-hover-fill-color);\n",
              "  }\n",
              "\n",
              "  .colab-df-quickchart-complete:disabled,\n",
              "  .colab-df-quickchart-complete:disabled:hover {\n",
              "    background-color: var(--disabled-bg-color);\n",
              "    fill: var(--disabled-fill-color);\n",
              "    box-shadow: none;\n",
              "  }\n",
              "\n",
              "  .colab-df-spinner {\n",
              "    border: 2px solid var(--fill-color);\n",
              "    border-color: transparent;\n",
              "    border-bottom-color: var(--fill-color);\n",
              "    animation:\n",
              "      spin 1s steps(1) infinite;\n",
              "  }\n",
              "\n",
              "  @keyframes spin {\n",
              "    0% {\n",
              "      border-color: transparent;\n",
              "      border-bottom-color: var(--fill-color);\n",
              "      border-left-color: var(--fill-color);\n",
              "    }\n",
              "    20% {\n",
              "      border-color: transparent;\n",
              "      border-left-color: var(--fill-color);\n",
              "      border-top-color: var(--fill-color);\n",
              "    }\n",
              "    30% {\n",
              "      border-color: transparent;\n",
              "      border-left-color: var(--fill-color);\n",
              "      border-top-color: var(--fill-color);\n",
              "      border-right-color: var(--fill-color);\n",
              "    }\n",
              "    40% {\n",
              "      border-color: transparent;\n",
              "      border-right-color: var(--fill-color);\n",
              "      border-top-color: var(--fill-color);\n",
              "    }\n",
              "    60% {\n",
              "      border-color: transparent;\n",
              "      border-right-color: var(--fill-color);\n",
              "    }\n",
              "    80% {\n",
              "      border-color: transparent;\n",
              "      border-right-color: var(--fill-color);\n",
              "      border-bottom-color: var(--fill-color);\n",
              "    }\n",
              "    90% {\n",
              "      border-color: transparent;\n",
              "      border-bottom-color: var(--fill-color);\n",
              "    }\n",
              "  }\n",
              "</style>\n",
              "\n",
              "  <script>\n",
              "    async function quickchart(key) {\n",
              "      const quickchartButtonEl =\n",
              "        document.querySelector('#' + key + ' button');\n",
              "      quickchartButtonEl.disabled = true;  // To prevent multiple clicks.\n",
              "      quickchartButtonEl.classList.add('colab-df-spinner');\n",
              "      try {\n",
              "        const charts = await google.colab.kernel.invokeFunction(\n",
              "            'suggestCharts', [key], {});\n",
              "      } catch (error) {\n",
              "        console.error('Error during call to suggestCharts:', error);\n",
              "      }\n",
              "      quickchartButtonEl.classList.remove('colab-df-spinner');\n",
              "      quickchartButtonEl.classList.add('colab-df-quickchart-complete');\n",
              "    }\n",
              "    (() => {\n",
              "      let quickchartButtonEl =\n",
              "        document.querySelector('#df-590368cb-3fd2-40f1-bfc5-7477c26d7cfe button');\n",
              "      quickchartButtonEl.style.display =\n",
              "        google.colab.kernel.accessAllowed ? 'block' : 'none';\n",
              "    })();\n",
              "  </script>\n",
              "</div>\n",
              "    </div>\n",
              "  </div>\n"
            ]
          },
          "metadata": {},
          "execution_count": 27
        }
      ],
      "source": [
        "df"
      ]
    },
    {
      "cell_type": "code",
      "execution_count": null,
      "metadata": {
        "id": "JUR1KJnRnEdP",
        "colab": {
          "base_uri": "https://localhost:8080/"
        },
        "outputId": "fffffe5d-b34b-4fb1-e14e-46fd1be99f8e"
      },
      "outputs": [
        {
          "output_type": "execute_result",
          "data": {
            "text/plain": [
              "['astrazeneca is made with the kidney cells of a little girl aborted back in the 70s.',\n",
              " 'it begins. please find safe alternatives to this vaccine. uk issues allergy warning about pfizer covid-19 vaccine after patients fall ill  via',\n",
              " 'well, i mean congratulations covid19 for being the first ever “thing” to eradicate influenza. in other news, covid vaccines will spur the rise of influenza in  2021-2022 season. influenza will be returning for a shot at the title belt. nov 2, 2021 on pay per view. order today.',\n",
              " 'for those of us that do not wish a vaccine so will not be given a vaccine passport to go abroad, how do you intend to deal with us, your objective i suppose is to push us to one side and penalise us, this is your great and fare justice system you talk about.',\n",
              " 'she has been trying to speak out: writing letters to government, speaking to unison. she’s been questioning everything that’s been going on for a long time: “vaccine rollout, vaccine injury. realising it’s an experimental agent. it’s going to keep going,”... continue thread....',\n",
              " '😕 i\\'m confused: 💉 with the vaccine, we\\'re still required to socially distance, wear masks, isolate, as we could still spread covid. 🙊 how is a \\'vaccine passport\\' a solution when even having the vaccine doesn\\'t \"keep you safe\"? 🤡 why  do people not see through all this?',\n",
              " 'we do not need any crazy twisted politician telling us whether to take a vaccine. we do not need them to tell us how to run our lives. what we need to do is fight back and ignore the nonsensical narrative.',\n",
              " 'i respect natalie’s view even if it differs from mine. i genuinely hope you don’t encounter problems for not having a vaccine passport, if they are issued',\n",
              " 'taking one for the team  new astra~seen no more      wake up ~~ uk man left paralyzed, fighting for life after getting astrazeneca covid-19 vaccine',\n",
              " 'canadians who received astrazeneca vaccine excluded from seeing bruce springsteen, as broadway opens up  via  people are against aztrasenaca but dr. bonnie henry stands by all vaccines all are safe seems they have no idea if they are or not folks',\n",
              " 'my mom want me to take the vaccine so bad & i’m not with it',\n",
              " 'yes who are being culled through virus and vaccine.',\n",
              " 'denmark, norway, iceland temporarily suspend use of astrazeneca’s covid-19 vaccine over blood clot concerns  via',\n",
              " \"it's also blackmail as in if you don't have the vaccine you can't go abroad,shoping etc that is illegal\",\n",
              " 'i feel sorry for you because you really believe what your saying and you have been watching to much mainstream media. good luck with that vaccine!',\n",
              " 'your choice, go and get a chinese vaccine. i will wait for vaccines which are approved by the eu. we will have enough by the summer. let’s see how much the chinese actually will deliver, how many people willing to accept it and if orban can organize mass vaccination. i doubt it.',\n",
              " 'they should open an investigation on  as fauci used tax payer money $500 million to get a patent 51% ownership under his personal name for covid19 vaccine! his pushing moderna should be illegal how many others does he hold? 40yrs as nih working on aids really? no cure?why?',\n",
              " 'death people and corona trump keeps spreading the virus never did anything and never going to do anything waiting to do business with a non existent vaccine 🤢🤮😷😷',\n",
              " 'where is tracing. only country not doing that. trace tshirt mask wearers. finally by getting covid or a vaccine and according to their own reports like pfizer the max antibody time frame is 8 months. then what? there is no permanent immunity to a virus! or you’d have one cold!',\n",
              " 'given the murky history of the sputnik vaccine i am not trusting this one either ! we shall see what the paper says about safety and efficiency.....',\n",
              " 'a vaccine that’s got liability immunity and it doesn’t stop you getting or transmitting a virus that’s never been isolated. well done. 🤥🤥🤥🤥🤥🤥🤥🤥🤥',\n",
              " \"austrian doctor on  talking about  vaccine blood clots at 16 37. the  shut down all information on blood clots a few weeks ago. but they're still down playing the serious side effects.\",\n",
              " 'all i’m saying is it is a deadend and continues to be proven as such. maybe after mandatory moderna vaccinations and countless side effects we will finally learn . dead giveaway when you can’t sue them for damages due to their lame vaccines.',\n",
              " '13 january 2021 cdc and pfizer investigating death of miami obstetrician who died two weeks after getting vaccine | daily mail online  an in-depth analysis at 6:05: 21:34 14.01.2021',\n",
              " 'since they’re so new, it’s why i won’t get the vaccine.  i don’t wanna hear a commercial in 5 years saying “if you or a loved one had the moderna/pfizer/j&j covid vaccine in 2021, you may be entitled to financial compensation!”',\n",
              " \"what is the point exactly - pfizer itself says the vaccine is useless if the 2nd jab isn't given within the correct time frame or are you 2nd vaccinating your elderly frail patients?\",\n",
              " 'ah! the mandatory vaccine wank.',\n",
              " 'difficult choice, endorsing the vaccine by taking it, or pretending the queue system applies to you.? didn’t the oxford team test it on themselves? 🤣 lol i know they were some of the first to have it.',\n",
              " 'i’ll do neither. get over it. i’m a free american citizen & i’ll go where i want, whenever i want mask free & vaccine free. i love this country the good ole usa 🇺🇸 where i’m allowed to make my own decisions about how i live my life just like you.',\n",
              " 'a flu shot isn’t 100% effective against the flu the flu and we don’t wear masks. the covid vaccine is what 95% if you get both doses they say? but have to wear a mask still 🤦\\u200d♂️. ain’t getting me to get it',\n",
              " 'covid is similar to flu, flu has been around for decades and we didn’t have to self imprison. chances are that covid, just like flu, will not become extinct and will be circulating for many decades. expensive periodic vaccine is much more profitable than a cure.',\n",
              " '51% of americans would refuse or delay receiving the covid-19 vaccine, survey finds - despite the relentless push by the medical and political establishment for americans to roll up their sleeves in acceptance of the new coronavirus vaccine,...',\n",
              " 'not at all. honestly. it is a made up invisible enemy. herd immunity is worldwide, without the vaccine. i am much more afraid of the vaccine imo.',\n",
              " '69y♀️   \"cognitive decline ... an mri of the brain was completed. ... discovery of a butterfly glioblastoma brain tumor. ... she has 4-6 months to live. the doctor stated it is about 3 months old [coinciding with vaccination]\"',\n",
              " ', , , , , , we will not let you play covid-19 russian roulette with a risky and rushed vaccine.',\n",
              " \"guess who's gonna get rich before he leaves the white house off of 71 million people he knows will take a shot in the arm if he says so? that's right. donald trump now wants science on his side. how much stock in pfizer did you buy huh?\",\n",
              " 'breaking: fda announces 2 deaths of pfizer vaccine trial participants from \"serious adverse events.” fed up democrats say no to forced vaccines in ny',\n",
              " \"apart from the fact that those that have already had covid are immune, so won't need the vaccine. the 'vaccine' isn't the only way to immunity, in fact it doesn't even give immunity, it just lessens the symptoms.\",\n",
              " 'and then they get to mandate it, safe or not due to social pressure and momentum. and mrna vaccine tech is has never been tried before on people, so no chance for long term study. should work in theory. not sure “in theory” is good when it comes to altering our own dna though',\n",
              " 'lol by injecting people with rna \"activators\". 😂😂😂🤡🤡🤡',\n",
              " \"that's absolute garbage. i want to be vaccinated but will refuse this one\",\n",
              " 'former gates foundation vaccine scientist calls for halt to vaccinations, predicts “wipe out” of populations',\n",
              " 'big winners are fauci and bill gates. fauci has a stake in moderna through nih, and gates gave them 100 million dollars in 2016 for them to develop mrna vaccines',\n",
              " 'look at this headline: \"oxford and astrazeneca\\'s covid vaccine trial is put on hold as british volunteer has \\'serious\\' reaction \\'that triggered spinal cord infection\\'\". no, it triggered tm. there was no proof of any \"infection\" that i\"ve read about. it was an autoimmune reaction.',\n",
              " '21/n 20/n astra zeneca (az). anthropology of vaccination. a swiss radio (broadcasting usual unopposed globalist propaganda) did a call-in on vaccines. callers were old and vulnerable. we won\\'t reach them. for them, \"no severe covid\" is something. but, az vax won\\'t slow the spread',\n",
              " 'this probably won’t get noticed - but someone please advise  please don’t rush to buy covid vaccines. wait at least 6 months - let the west be our guinea pigs. by then we’ll know for sure if they really work and how bad the side effects get. my take',\n",
              " 'a pharmaceutical made product mandated? this is a joke right...since they have zero liability. public health needs to be reevaluated with all of the new science. money should be invested in true wellness care not drug companies.',\n",
              " 'nobody wants ur backdoor russian vaccine, but pls u take it first.........',\n",
              " 'now about this pfizer \"vaccine\". who is the government tryna give this to again. by my calculations, the people who would want it are the folks who never got covid19. be careful of folks giving you a vaccine that will \"protect\" you from a virus for which you already had it.',\n",
              " 'cdc: dozens of adverse reactions caused by anxiety, not johnson & johnson vaccine source:',\n",
              " \"this is beyond incompetence people should refuse this vaccine as it's not going to be administered correctly. only a matter of time before covid19 kills one of your patients who have had only a fraction of intended protection!\",\n",
              " 'if daddy  were responsible, it would never have been fda cdc approved. would not be called pfizer vaccine, probably dr. bleach danger vaccine and no one would take it. if it were his, all tdumps should get it first. not his..it is pfizer and only pfizers. .',\n",
              " 'don’t trust moderna. he is friend of trump and got the highest grant of usd350 millions to do trials (with zero prior experience of vaccine). he then tied up with some company who was already developing vaccine to show it as his product. share price was 5% down post market.',\n",
              " 'is the oxford vaccine safe? some virologists who have studied adenoviruses are concerned regarding the pathogenicity of adenovirus vector. they opine that the cases of transverse myelitis are likely due to the vaccine. can i have your thoughts/opinions?is there a definite risk?',\n",
              " 'i looked up pfizer the amount of law suits is more than enough for anyone not to trust their vaccine they are not a trustworthy company',\n",
              " \"ah yes, that good old fashioned vaccine that was trialled over the correct amount of time, and not forced upon every living being on the planet... even without this new thing, if you're healthy, you'll still be fine.\",\n",
              " 'not the point that was being made. you can still contract and pass on covid after having the vaccine.',\n",
              " 'i am not an anti vaxxer at all, got my son vaccinated , but please look a bit deeper before taking a vaccine astrazeneca will not take liability for even if they are producing it . this vax is different from all we had so far.',\n",
              " 'americans would like to see the cure/remedy not the vaccine for covid. have you changed your position on vaccinations?',\n",
              " 'e tu janice? you’re actually drinking the vaccine koolaid? sad....it’s not necessary let alone safe!',\n",
              " \"it's not. but looks like definitely it ties govt to 'outlawing' the 'harmless' early treatments: which is criminal. our covid health policy is effectively tied to pfizer's treasury, taking out our volition entirely: our only choice is to vax with pfizer, so i won't.\",\n",
              " 'and in the world we live in, it will have to be tested thoroughly before approval. a vaccine with side-effects would be an absolute boon to the anti-vaxxer movement globally. norway rushed a vaccine for swineflu in 2009 without proper testing with some disasterous effects.',\n",
              " 'we have immune systems. vaccines are filled with animal and human dna, disinfectants, heavy metals, chemicals. for over 30 years the us has paid out over 4 billion in compensations for deaths and injuries because the us gave pharma liability freedom in 1986.',\n",
              " 'if we’re all locked down again wearing masks and college, school and work are all online, there is zero reason to get a flu shot. unless the covid vaccine is near i cannot see our government killing big pharmas flu shot landfall of cash.',\n",
              " 'also we have seen that trial vaccine is not acceptable at all. although it is having lots of side effects too',\n",
              " 'dare i suggest something more sinister with johnson suggesting a vaccine passport aimed at the reopening of pubs would force the young to seek out the vaccine. a vaccine that is experimental offers the individual no protection from getting or passing on the virus',\n",
              " \"how many people have to die from this vaccine before it's stopped! norwegian nursing home patients dead after receiving first dose of pfizer covid vaccine\",\n",
              " \"everyone don't take the pfizer and morenda vaccine! so many side effects and health complications reports from the us, norway and uk.\",\n",
              " 'any vaccine cannot possibly be tested for long term safety, these things normally take years to test. how will it be effective? they cant even cure the common cold after years of research so what makes you believe they can cure covid in a few months? no thanks.',\n",
              " '\"the un children\\'s agency unicef\" doesnt know that on jun 2021 \\'italy halts astrazeneca vaccine for under-60s\" due to clots  iraq is fair game i guess',\n",
              " 'it’s not a vaccine and cannot legally be referred to as such. it’s an experimental, liability-free, dna -altering medical device. in china & russia they have actual covid vaccines. this “vaccine” ain’t it.',\n",
              " 'to have 90%+ corona virus efficacy rate. it had to be an advanced vaccine (nobel prize level). mrna has me concerned, bc tells cells what dna to make (or not). i want to read the full published phase 3 study paper with pharmacology, methodology & stats before considering it.',\n",
              " 'three countries in europe announced today that they are halting the distribution of the astrazeneca covid vaccine, as reports of deaths following the vaccines surfaced.  |  |',\n",
              " 'katie hopkins (love her or hate her) , just posted a video saying 1 in 50 million people get covid, 1 in 2 million that get it die and overall recovery for those who do, is 99.7% ,& uk now want to jail you if you speak out against the vaccine. this is about control not a disease',\n",
              " 'fyi....there are plenty of people walking around without vaccines for all sorts of contagious diseases/viruses. why is covid so different? we must ask why a mandatory vaccine card is even a consideration if the ones who are vaccinated feel that it protects them.',\n",
              " '16y♀️ died pulmonary embolism suspected    \"symptoms: cardiac arrest, circulatory collapse, computerised tomogram thorax abnormal, death, lung assist device therapy, pulmonary embolism\"',\n",
              " 'convulsions after receiving the  | january 14 - this is what the pfizer covid19 vaccine has done to my mom. everyone please pray for her. she was admitted to the hospital',\n",
              " 'so there have been issues, but fda are so desperate they deny it’s the vaccine fda reports facial paralysis in 4 volunteers for pfizer’s covid-19 vaccine, but fda denies vaccine is the cause - business line',\n",
              " 'no vaccine for me, no thanks, keep that needle da fuck away',\n",
              " 'garbage vac and and do not want to use and take risk and not effective with varian covid19 . 19sciencealert: the astrazeneca covid-19 vaccine and risk of blood clots: what you need to know.  via',\n",
              " 'the global vaccine market was worth about £40bn in 2019. how are they going to make trillions?',\n",
              " 'how is this going to affect the people who don’t want or trust the “vaccine” . why are you hellbent on putting this untried, untested, unproven “vaccine” into people for a virus that killed 377 people in the last year. something very wrong.',\n",
              " 'if this is seen as the deadliest disease in our lifetimes, and consequently the vaccine viewed as a miraculous panacea, why is pfizer’s stock price virtually unchanged from the beginning of the year?',\n",
              " 'i will not take a covid vaccination. should it be forced onto me, i will force back. you can take your covid vaccine and stick it up your ass!',\n",
              " 'not me! i\\'m not at all convinced about the efficacy and, above all, the safety of all these \"investigational vaccines\" , currently being trialled worldwide. moreover, the fda approval of pfizer\\'s vaccine, comirnaty, confirmed my doubts.',\n",
              " \"hello, i am scientific researcher and singer-song-writer. once you get the covid-19's vaccine (pfizer vaccine) you can infect other. in addition that pfizer vaccine makes your health goes to bad, it does not prevent people from getting covid-19's infection. i hope you\",\n",
              " 'in the spirit of fairness and equality, should anyone taking the pfizer covid vaccine sadly pass away within 28 days, will they be labelled as a vaccine death, or a pfizer death? warning after 2 people suffer allergic reaction to pfizer/biontech vaccine',\n",
              " 'covaxin takers must sign a consent form saying i know phase 3 trials are underway and efficacy has not been established. so in effect, \"covid warriors\" are now nothing more than experimental subjects',\n",
              " 'miami doctor & husband died from a mystery blood disorder - just days after getting the  covid-19 vaccine.',\n",
              " \"if the vulnerable have had a  'vaccine' (2doses), they are 'protected' from a virus with a +99% survival rate. it's 0.00005% risk to children and 0.1% risk to a healthy 65y.o. to insist healthy 'unvaccinated' people should face restrictions is abhorrent.\",\n",
              " 'i intend to get vaccinated but not with the oxford vaccine. i don’t believe in any medical procedures being compulsory. these opinions don’t make me a bad friend. i think your friend is your friend. it’s a weird time and people are under great stresses, don’t ghost yr friend.',\n",
              " 'no he said he’s healthy and he isn’t a frontline worker. he’s definitely a frontline worker. he’s always standing in front of frontline workers advertising his vaccine. why isn’t he taking it? he’s not telling us something about the vaccine.',\n",
              " 'hitchens is unable to grasp that people can be pro vaccine but also have legitimate concerns about covid specific vaccines, which are not allowed to be discussed.',\n",
              " 'or, march 1st: paul and greg and bob both are offered and take the j&j vaccine.  bob gets covid, is permanently disabled, loses his job and home, and ends up dying homeless on the street.  but hey, he got vaccinated...',\n",
              " 'national vaccine \"covaxin\" with no phase 3 trial data or peer reviews or real time survey; can\\'t convince the world or india. get it done .',\n",
              " \"correct. any vaccine rollout should be for those in the older/at risk/healthcare workers first, then scale upwards as needed. the damage that has been done through covid won't be solved by a vaccine. anyone that disagrees are either dumb/stupid/woke or any or all of the above...\",\n",
              " \"astrazeneca's covid-19 shot trials on hold after suspected reaction  via  can’t see many people of song mind having this , loads of older people i know ain’t going to have the flu jab either this year .... loads have already started taking zinc\",\n",
              " \"health canada approves use of astrazeneca's covid-19 vaccine | cbc news  the department's regulators have authorized the shot for use in all adults 18 and older, finding the shot had an estimated efficacy rate of 62 per cent. only 62% folks , i won't get it\",\n",
              " 'why is the vaccine considered to be the end all? it’s not. pfizer stated you may still be able to get covid...🤦🏽\\u200d♂️',\n",
              " 'in my humble opinion & with respect, we don’t know that. making a statement that “the vaccine save 💯 of lives”, doesn’t make it true. the   has only been around for 5 minutes. we don’t know anything yet. nor does the nhs, boris johnson or world governments',\n",
              " \"i'm simply not going to trust any vaccine that comes out as long as trump's in office or his fingerprint or his administration's fingerprint is on it anywhere. moderna's rushing emergency approval through before  takes office i don't trust it.\",\n",
              " 'he received enough doses of vaccine that he likely has sufficient immunity.  my point is that it is not irrational or anti-science to have concerns about vaccines. there is beginning to be a mob mentality against anyone who has such concerns. i wish we could all talk rationally.',\n",
              " 'plus, covid-19 is akin to the common cold, which has been around for hundreds of years; scientists have been trying to find a vaccine for the common cold for decades without success, so it is suspicious that they could come up with a vaccine for covid-19 in less than one year.',\n",
              " 'vaccine would be against my religion which is the 91st psalm is the best protection there is',\n",
              " \"people really, really! cannot fault democrats or the public for having doubts about a covid vaccine or trump's sudden push to have one released. this administration has worked for 4 years to discredit our institutions and he is trying to make this a campaign issue.\",\n",
              " 'i’m scared of that johnson and johnson vaccine! they’ve had issues with some of their products in the past! 😫',\n",
              " 'she isn’t an anti vaxxer. nor am i. we both have done tons of research and we do not want to take untested and unapproved vaccines that do not finish their clinical trials until 2023. thousands and thousands are having very serious side effects',\n",
              " \"has anyone else noticed the sudden spike in corona terror reporting in the media? phrases like 'new dangerous phase' and 'a vaccine must be rushed/africa needs the vaccine now'. one must wonder if the media are being given media handouts with what to say dictated by the anc.\",\n",
              " 'this vaccine doesnt give you protection',\n",
              " 'oh my! one doesn’t have to be an expert at reading body language to know he’s covering something up. depopulation is his game. no cv19 vax for me. no moderna vax for anyone.',\n",
              " '...we now see the same problems in a staggering number of people who have received the covid-19 \"vaccine\" spike protein also contains reproductive toxicity, and biodegradation data from pfizer show that it accumulates in the female ovaries.\"',\n",
              " 'however if you want to ignore that then fine, people cannot have the vaccine due to health and religious reasons and those are protected categories so to force to someone to have them is illegal and would be discriminatory to deny them service',\n",
              " \"this doesn't solve the problem of  though. we've fallen a long way from covid-19 vaccines being protective against disease (recall the 95% efficacy of ), to now basically conceding that they're pretty much useless for anything except to keep you from dying ☠️.\",\n",
              " \"prof. martin gore, leading  expert, died suddenly following routine yellow fever  💉 why didn't he die previous time? who knows. you never can tell when you will lose in this russian roulette.\",\n",
              " '23 (now 29) senior citizens die soon after taking    in norway pfizer has said that the incident is not alarming & “in line with expectations.\" germany,france,us,israel-all elderly. why are vaccinations of the elderly continuing?',\n",
              " 'rushed through, side effects, complications etc yet, cancers, diseases etc that have promising results, nothing for the next 5/10/20 years...  us experts ok pfizer coronavirus vaccine; emergency authorization expected soon   via',\n",
              " 'at first they came for your minds.fear then they came for your freedoms. lockdown. followed by your rights to earn a living. then they came for your body.vaccination now there coming for your kids bodies. final part of play is they will own everything you posses including you',\n",
              " 'i’m a nurse and i will not take a vaccine for covid-19 that donald trump endorses.',\n",
              " 'this is what they are doing with vaccines, they are pressuring the fda to allow emergency authorization orders. the fda says it is fighting back but if they issue eao then boom, trumpwill be screaming he made the vaccines and ended covid.',\n",
              " 'i’m getting my covid jab tomorrow but i’m thinking of cancelling. like i have a busy bloody week ahead i can’t afford to be ill because of a vaccine i don’t want. like just hoe bad are oxford side effects?',\n",
              " \"1 in 34 have autism..1 in 3 have allergies..1 in 3 are obese..the old people are living longer i agree n you know why..they got 3 vaccine..only 3 except those who take flu shots..my childtem age 40 now got 20 some ..now it's up to 50 some..\",\n",
              " \"taking a vaccine rushed to market is crazy.. could have bad side effects that arent known as no long term testing to find them..right now i'd rather risk covid than a non tested vaccine..\",\n",
              " '\"lisa developed severe headaches after receiving her astrazeneca vaccine and fell ill a few days later. she was treated by the intensive care team for blood clots in her head. tragically she passed away, surrounded by her family, on friday afternoon.\"',\n",
              " 'when a covid vaccine is ready, google/youtube is planning to take down thousands traditionally hosted open discussions around vaccine safety. in tandem with facebook and twitter. discussions between all 3 have already taken place. robert f. kennedy, jr. billionaires making $$$',\n",
              " 'he got one  is getting pfizer to created millions of vaccines that r not yet even proven or auth by fda at a massive cost to the taxpayer not the best program but it’s a plan well sort of not really',\n",
              " \"pfizer 12 week dose warning. (the foto is supposed to be a volunteer receiving the vaccine, surely it is someone giving blood?) 'no data' in its studies to show its vaccine protects against covid when taken 12 weeks apart.’\",\n",
              " \"probably why the original sars vaccine, that at least one covid vaccine is based on, never really worked, as far as i've heard. 🤷\\u200d♀️\",\n",
              " 'i wait for you and your family to have the vaccine first',\n",
              " \"this is fine. americans don't want them. less than 10 million vaccines administered in the us are johnson and johnson. americans aren't stupid and don't want vaccines that are not effective or safe.\",\n",
              " 'oxford vaccine is not so promising. “it is crystal clear that the vaccine did not provide sterilizing immunity to the virus challenge, the gold standard for any vaccine. it may provide partial protection.”',\n",
              " 'inovio...look it up as well as moderna. all 3 of these delivery methods have nano technology that can deliver dna/rna gene coding & mutation. this isnt a joke or up for speculation....its way beyond that now. i have leukemia with 17q deletion so no.',\n",
              " 'first real world data shows oxford vaccine causing more side-effects',\n",
              " 'on jesus they can keep the covid vaccine far away from me 😂',\n",
              " 'federal health officials are investigating emerging reports that the moderna coronavirus vaccine may be associated with a higher risk of a heart condition called myocarditis in younger adults than previously believed. pandemrix all over again.',\n",
              " \"let's hope boris johnson isn't one of those new trainees to stick people with the vaccine. not a good picture to use.\",\n",
              " \"nah ... i've gotten 2 flu-shots; both times it worked, i got the flu!  but that said, i'll trust herd immunity over vaccination ... something about that tuskegee experiment memory.\",\n",
              " 'still a concern. a dr relative said chinese reporters shouldn’t be near pres or vp. personally don’t like pres & vp together. other concern is if they push them to take a vaccine in the fall. there is no way in hell i would let them inject me w/anything.',\n",
              " 'bismillah, people need to know that many are getting sick from some types of the vaccines being used. some but not all covid-19 shots. we should not try to save the financial viability of any vaccine maker. --lost of a bad product is part of their business',\n",
              " '\"this pseudo-scientific, politically-motivated article is nothing but slander. it wants us to die while big pharma comes up with an expensive vaccine in a year, so they can get richer, and even implant us with a microchip in the mean time.\"',\n",
              " \"the problem is that the uk will have paid for all the pfizer vaccine (with your tax) which will then not protect the vulnerable. departing from the vaccine schedule will mean the vaccine is much less effective. it's like pouring money down the drain\",\n",
              " 'reported that pfizer ceo sold his millions of shares as the share price rocketed and made a personal fortune of £millions as a result - nothing altruistic about pfizer is there -ergo can their vaccine be trusted - highly doubtful.',\n",
              " \"i agree that parental consent should be a part of any pediatric medical care, but i'm not sure i get how that was related to my point? i meant some people's immune systems mount better responses than others, so not everyone who is vaccinated is protected to the same extent.\",\n",
              " 'why would you not even address the blood clot situation on your vaccine? and how in the world did you not know about the horrific conditions at the vaccine manufacturing plant? what is going on w johnson and johnson?',\n",
              " 'a condition of the pfizer sale, as reported by clive palmer an australian mp, was that before the sale of their vaccine was completed, pfizer receives full indemnity if anyone is killed or maimed as a result. the govt of the purchasing country would assume full responsibility.',\n",
              " \"this is totally uncalled for to kill off that many shark's. 500,000 sharks could be killed for a covid-19 vaccine\",\n",
              " 'clearly not following the science or data then. even last year, without any vaccinated, there was no study or data to suggest pubs, restaurants or gyms were areas of viral spread. this is just about control and a coercive way to get all under 40’s to take a vaccine they dont need',\n",
              " \"astrazeneca’s covid vaccine (still in the trial phase) has ingredients we know are correlated with brain injury. but take it anyway or you can't ever socialize in public places again.\",\n",
              " 'i don’t think it was a deliberate ploy, just a slack lab that made a stupid mistake. don’t forget that it has frightened the chinese enough to compel huge numbers to have a not fully tested vaccine. russia i think too. you’re going round in circles.',\n",
              " 'paused  vaccine trial. their pr tried to underplay it by not issuing details of the problem. then  found out the trial volunteer had transverse myelitis after investors at  were selectively told. transparent much?',\n",
              " '\"informed consent\" definition. \\'permission granted in full knowledge of the possible risks, benefits and consequences\\'. this is not possible with an experimental, novel \\'vaccine\\' that is still in trial phases. no long-term data. risk>reward. <0% covid risk for healthy <40y.o.',\n",
              " \"i have had so many shots over the years with my military service, i will not do it again. i will not comply federal government and yale are holding clinical trials on how best to 'persuade' americans to take covid-19 vaccines  via\",\n",
              " 'so what  is saying get a vaccination that is 95% effective for a virus that is 99.9x survival rate and they will give a free donut everyday to make you obese that is one of the largest killers in america....🤔 good one',\n",
              " 'why is anybody listening to ian young ? he sits on the advisory board at astrazeneca . conflict of interest as they want to vaccinate everyone. also look at who owns astrazeneca , good old kill bill gates. time for him to go.',\n",
              " 'covid19 everything we tell fisrt world all pharmacitical company like oxford prifzer moderena serium covid19 vaccine claim we alrdy rejet (we say world vaccine effect human body like brain damage that happen stop&ban human trail) without us no one get vaccine',\n",
              " '👉🏿very concerned. can we trust ’s  ? have they done enough research? rt 2 of 1st pple vaccinated in the uk with   shot had adverse reactions, prompting regulator to warn those with a history of significant allergic reactions against having it',\n",
              " '7 dead! out of 30 people who suffered blood clots after receiving the oxford-astrazeneca vaccine, seven have died: uk medical regulator.',\n",
              " 'so reading the pfizer vaccine insert it’s says there has been no studies to see fertility side effects or side effects and interactions with other drugs. if these studies haven’t been done then you can’t guarantee the safety? is this why the manufacturers have no liability?',\n",
              " \".....but covid does not put them at risk. and then we have to wait for 5-7 years for the examination, ”doctors trying to save the boy told  who according to press reports believe that pfizer vaccination and the boy's heart attack are closely related....\",\n",
              " \"tl: dr the   vaccine doesn't reduce overall mortality - based on the clinical trial that provided the data necessary to authorize them. remind me why we're trying to mandate them?\",\n",
              " 'just as moderna was counting it’s profits…people still won’t care. they are convinced vaccine injuries don’t exist..',\n",
              " 'biggest medical scandal in history breaking! un comes clean, admits vaccine death / damage coverup',\n",
              " 'while covishiield is a proven vaccine of moderate efficacy whole efficacy and safety data are in the public domain, while covaxin is an experimental vaccine with no efficacy data (immunogenicity is not same as efficacy) with no safety infrastructure available which is crucial 2/n',\n",
              " 'let me get this straight? vaccine passports while we allow illegal aliens to cross the border unvaccinated?   u are all a joke. like it or not? americans? are rebels',\n",
              " \"i'm thinking it may have mutated to be less deadly, or people were dying from the flu before we could test and got counted as covid-19 deaths.  keep in mind, 2017-2018 in the uk we saw 50 000 excess flu deaths from a dodgy vaccine.  it's entirely possible.\",\n",
              " 'big pharma spent close to 7 billion euros on lobbying in france...which as we know is utterly corrupted in terms of covid response: blocked hydroxychloroquine - like all other western countries - and embraced remdesivir and vaccines. 🤔',\n",
              " ':failed on   &  in 20 years& now -80 c° (certified drugsafetyofficers,too: stopped it) not 4 vulnerable elderly cc  & .   of fatal side effects of covid-19 vaccine after elderly deaths - the local',\n",
              " 'i have a friend who gave a single mmr to her son who immediately displayed symptoms of autism afterwards. he was diagnosed soon after. biggest mistake of her life. they used chelation therapy and he’s totally better. chelation removes heavy metals. vaccination adds them.',\n",
              " 'who the fuck made johnson and johnson responsible for the covid vaccine ???? did we forget that the baby powders they make gave people cancer ????',\n",
              " 'informed consent impossible with the mysterious ingredient in a pfizer vaccine vial',\n",
              " 'you mean like the flu shot,? they never get it right. and you need it yearly. worthless. btw i am not anti vaccine. just anti flu shot . my opinion on covid shot will depend on years of testing first.',\n",
              " 'no we get on with our normal lives (i have) apart from the amount of money i should of earned have you even looked into pfizer who have been sued for millions the people wanting this fucking vaccine are walking mankind into its doom',\n",
              " 'it’s ok, europe is already talking about requiring vaccination proof before us citizens can travel over there. it’s cool put up a fight here, it’s people right....but don’t expect the world to care if we can’t travel lol',\n",
              " \"you need to ensure adequate antibody testing to know who doesn't need the vaccine, and ensure each individual's right to refuse without discrimination.\",\n",
              " \"not this human! just since the corona virus hit american shores it has manifested itself into at least 30 different strains. that's one of the ways smartbugs survive. there's no way to know exactly which strain this vaccine will cover. nope! not for me!\",\n",
              " \"pfizer is not part of that. operation warp speed was to rush unsafe vaccines out by election day by bypassing trials &safety protocal. that never happened. it's over. trump did not create vaccines or have anything to do w/the reason why we're getting vaccines eventually.\",\n",
              " 'astrazeneca to be exempt from coronavirus vaccine liability claims in most countries | article [amp] | reuters - really? let the politicians get vaccinated first! the rest of the world will wait & see if there are any side effects in 4 years’ time!👎',\n",
              " 'pfizer is gonna make 15 billion in covid vax sales. idc how your feeling now. i don’t understand ppl like you saying i’m fine right now. what if in a year you have cancer or an autoimmune illness. both are possible...',\n",
              " 'bribing employees here in tulsa with 2 days off and 80.00 to get the covid vaccine.... what a joke',\n",
              " 'food for thought. cdc official number says 0.26% death rate for those infected.   fluzone (most common flu vaccine) says in its insert that 0.5%  die from complications ....  flu shot is more deadly than covid-19. let that sink in',\n",
              " 'pfizer is working with the government to get the vaccine out fast...so in their minds, they have a legitimate reason to not give stimulus checks with the next bill. the game is fucked up ladies and gentlemen.',\n",
              " 'i do think this is being mooted as a bit of a ruse by the government to encourage people to get the vaccine.',\n",
              " 'modera, pfizer never completed any of their clinical trials with subjects who had any allergy history, vaccine reaction or anaphylaxis. i have multiple allergies, have had 2 vaccine reactions (one being an allergy to thimerosal: mercury) and one anaphylaxis reaction to an ivp.',\n",
              " \"this is from pfizer, no studies done on how it interacts with other vaccines, no data on fertility..... should we risk the fertility of a generation? i have told my kids they are never to get an injection that i don't know about\",\n",
              " 'there’s never been a vaccine created for any coronavirus! i’m not expecting one for covid 19 either! hopefully treatment improvements!',\n",
              " '911 was a planned attack and an inside job. we can see all their signaling years prior. covid 19 is exactly the same thing. they plan these ridiculous distractions! it’s a trojan horse meant to steal freedom and push a vaccine! we do not consent',\n",
              " 'not a problem with me but i’m pro vax however the vaccine is going to have to be more rigorously tested before i’ll have it',\n",
              " 'looking ahead it’s the vaccinated who will be a danger to us',\n",
              " '100 percent ignorant. what the hell.. \"it can also be that if they tested positive, they have to wait 90 days so they will have declined during that time,\"  nearly 200 san diego fire-rescue personnel decline covid-19 vaccine',\n",
              " 'well you are going to be sick from covid-19 or it’s vaccine ..so hey eat created pork...unless you’re jewish and devout',\n",
              " 'i’d rather die than get the covid vaccine... i sure won’t do it for $300 or $400!',\n",
              " 'disease specific like polio and measles etc works. the flu and the corona virus does and will mutate. thus a vaccine is useless. they also often take years or never. to stop the econ while we look is ridiculous. people should protect themselves and unfortunately, people will die',\n",
              " \"yippee it has no serious side effects so does that mean it has other side effects?. what about possible side effects in 2,3,4,5 years. it’s a no from me. coronavirus latest news: new vaccine has 'no serious side effects', says biontech founder\",\n",
              " \"it's a virus with a +99% natural survival rate. it isn't 'going away', we have to live with it. once the vulnerable and high risk have been 'vaccinated' (2doses) - everything should be lifted & life returns to normal. no vax passports or restrictions.\",\n",
              " 'not much discussion in here about what is a vaccine and what is not. these new mrna jabs are not vaccines and are very experimental and come with associated risk. vaccines are unavoidable unsafe ( u.s. law )   💪💉🏃🙈🍻',\n",
              " 'wait wait you make a huge claim like it’s 90% successful and then follow up saying it’s not safe. when your ceos, scientists and their families are willing to get injected that’s when i will believe a single work you say. your company has a track record',\n",
              " 'is it putins vaccine? he has rushed through one that’s not properly tested.',\n",
              " 'you obviously can’t understand that you don’t need a vaccine to fly lmao',\n",
              " '100s of israelis infected with covid after receiving pfizer vaccine amid frenzied inoculation campaign 📰 »',\n",
              " 're:your recent story on contaminated water on us bases, you mentioned one reason there is little investigation is that donors, big companies that produce the toxins, are trying to protect themselves. just might be the same thing going on with vaccine related injuries',\n",
              " 'the fucking ceo of pfizer said out of his own mouth, \"i haven\\'t taken the vaccine because i don\\'t want to cut in line.\" nigga what???????',\n",
              " \"covid vaccine deaths and injuries reported (more than 6,200 and 100's of thousands respectively in uk and us) got me thinking of the jonestown massacre. those cult members were forced to drink their toxic cool aid, but vax enthusiasts jostle for position.\",\n",
              " 'you just proved my point...they are lying to us..keeping false covid \"cases\" up for fear so you will get the vaccines/comply/make them billions!!! dear fauci is director of niaid ...owner of 50% royalty profits for moderna',\n",
              " 'to stay sane with vaccine or not ? covid-19 vaccines | cdc / side effects: more than 3,000 people can no longer carry out their normal daily activities after being vaccinated',\n",
              " \"so we have a so called vaccine for a so called virus which hasn't actually been identified and isolated,so pray tell what this jab is supposed to immunize from ???????  or what ?\",\n",
              " 'the pathetic, politically altered, big pharma \"science\" will result in more death and destruction... we\\'re about to have bigger problems than any virus could ever have.',\n",
              " 'look it up sir. there are terrible side effects after the second vaccine.',\n",
              " 'how about you talk about this? pfizer vaccine may cause infertility?',\n",
              " 'how independent is the uk health watchdog from government, from oxford university and anyone investing in, or a vested interest in, the az vaccine? there are other vaccines available that do not have *tiny* risks of blood clots.',\n",
              " 'i will never agree to a vaccine. if they prepare for a single mass immunisation day, run.',\n",
              " 'another 🤡who thinks people dying from  is funny and who claims to know that the huge increase in covid deaths after the rollout of the genetic engineering jab has nothing to do with the vaccine, yet offers no proof of her assertions 🤔 here’s the uk medical alliance',\n",
              " \"recombinant dna? i will wait for the side effects of those around me. you won't tuskegee me. a new vaccination type. that uses spliced dna . with unknown cons. to make us go to work?\",\n",
              " 'seroconversion simply means the percentage of vaccine recipients who produced antibodies after certain time period, any amount. 100% seroconversion with antibody level 10~20% level of a covid survivor is useless as chinese vaccines are demonstrating.',\n",
              " \"pfizer is now using the old motto 'if you can't beat them join them'. with their gene altering vaccine you don't have to worry about beating covid, you will be covid. excellent selling point. i don't want one.\",\n",
              " 'page 132 of the doc. associated with the pfizer vaccine definitely worth a look for those of an age where reproduction might be on the cards. not an issue for the over 70’s but it does not seem wise to me for healthy young people to have their dna messed with. no legal recourse.',\n",
              " 'open smartnews and read ‘healthy’ boy, 13, dies suddenly in his sleep three days after getting second dose of pfizer vaccine here:  to read it on the web, tap here:',\n",
              " 'too good to be true moderna claims 100% efficacy ⚠️🚫 false flag of safety we know it not true heart inflammation',\n",
              " 'indonesia gets first batch of vaccine from china’s sinovac - bloomberg. - i hope we are not following indonesia in securing sinovac and start vaccination without credible efficacy and safety data. haste makes waste. safety is paramount.',\n",
              " \"you're worried about that? worry about why hasn't the ceo of pfizer has not gotten the vaccine. it's either useless or deadly. a red flag to not take it!!!\",\n",
              " 'the danish health authority has suspended use of the oxford-astrazeneca covid vaccine for 14 days as a precaution while an investigation into serious adverse events proceeds...1/n  ht',\n",
              " 'oh yeah well the chinese beat 50,000 dogs to death with sticks that doesn’t make it right or good i’ ain’t scared of the shit this whole thing was overblown on purpose for a reaction to see how fast and readily the people comply wait till they force-feed you the vaccine',\n",
              " 'right now, i am far more afraid of this vaccine than i am of covid. transparency is a good thing.',\n",
              " 'no dom but i would like to be able to trust and understand what it is that i’m putting into my body and in regards to the covid 19 vaccines honestly i don’t.',\n",
              " 'i wonder if this among others is why pfizer is trying to rush out a premature as hell vaccine...',\n",
              " 'william engdahl: recipients being misled to a criminal extent’: what’s not being said about pfizer’s new coronavirus vaccine – california men charged with voter fraud after allegedly submitting thousands of applications for homeless people',\n",
              " 'gov’t calls for immediate halt of johnson & johnson vaccine over serious blood clotting that left woman dead',\n",
              " \"you're never immune to cold viruses. you can always re infect with the same cold. covid19 is a bad cold virus. it's also safe to say there will never be a vaccine. this thing touted by pfizer is probably a weak infection agent that occasionally installs some resistance.\",\n",
              " \"don't like that, the first users have to be doctor's and if they feel it isn't ready then pfizer shouldn't push things.\",\n",
              " 'you are the scum of earth and corrupt as fuck! trump supporters will never take ur vaccination 🖕🏻🖕🏻🖕🏻',\n",
              " 'effective for what though? the pfizer vaccine has not been trialled to show prevention of transmission of the virus, alleviation of mild symptoms like a cough, yes.',\n",
              " 'moderna is a bill gates funded \"baby\" and recalling his statements of reducing the world\\'s population by 10-15%- it maybe best to avoid this killer.',\n",
              " \"at least now i can just say i have allergy problems and can get out of taking any soon to be mandated vaccines, whether it's pfizer's covid-19 vaccine or anybody else's. (i don't expect that to actually work we care about compliance, not health and safety.)\",\n",
              " \"it's not necessarily the vaccine itself that could cause harm... it's all the other crap they put in. rising autism rates are obviously environmental in some sort of way, it's narrowing it down to exactly what babies are consuming that is causing it.\",\n",
              " 'do you know whats in vaccines? do you have any idea how damaging they are? will you be vaccinated? against a virus thats cyclical, and cell specific, in nature?',\n",
              " \"i have no idea what the rest of this article says, i just oppose flu vaccination, nd lumping it in with things like polio...  i know that rich people spend far less time trying to harm others than you think. they're too busy enjoying their hedonist lives and ignoring you ;p\",\n",
              " 'in the meantime the uk carry on injecting the elderly with a pfizer and biontech covid vaccine containing nano tech! - this need to stop',\n",
              " 'they cause all sorts of  oh i’m sorry isn’t that what they were designed to do? 🤤',\n",
              " 'the flu went down because of global warming and sea level rose; the mask helps to hide the trans-jenner side effects of the vaccine.',\n",
              " 'agree i think the viral vectors vaccines are not working with covid , jnj had too an adverse effect dangerous that we never knew what was about it , this pharma hide everything about that case and they have the same kind of vax that azn !',\n",
              " 'your kids aren’t even approved to take it, it’s only for adults > 16.',\n",
              " 'google seeks vaccine-related infertility rising 34,900% as doctor + former pfizer executive got the rumor',\n",
              " 'swiss policy research: \"little is still known about the long-term safety profile of covid vaccines. back in 2009/2010, it took one year for the public to learn about neurological damages caused by swine flu vaccine adjuvants.\"',\n",
              " 'with my history of ramsey hunt syndrome with palsy, i won’t be getting either the pfizer or moderna vaccines. there appears to be a small chance of contracting bell’s palsy with either vaccine.',\n",
              " 'researchers say astrazeneca vaccine can cause thrombosis in brain in ‘rare’ cases as who says it is ‘not certain’ about it  published march 19, 2021:33pm',\n",
              " \"the covid-19 mortality rate is now probably lower than astrazeneca vaccine's mortality rate\",\n",
              " 'translate the following to australian english: \"we need to get rid of 70k astrazeneca doses that nobody knows. it is a vaccine that causes blood clots. this vaccine has killed many more australians than covid  we need to shove az down the people\\'s throats.\"',\n",
              " 'if they aren\\'t aiming for zero-covid then explain why they\\'re trialing the oxford vaccine on children who\\'re at virtually no risk from serious illness or mortality from the virus? surely once everyone 50+ is vaccinated the \"pandemic\" so to speak will over !',\n",
              " 'why do we need a vaccine????? china has eliminated covid without one 🤔',\n",
              " \"here's oxford uni lamenting that they'd like the virus to stay around a bit longer so they have a chance to force their vaccine to behave (as it's been a failure so far):\",\n",
              " 'shocking 86% of children suffered an adverse reaction to the pfizer covid vaccine in clinical trial',\n",
              " \"test and trace does not work, will never work and is an unbelievable waste of money. we have to learn to co-exist with this virus as we do with all other respiratory viruses. the alternative is never ending isolation and depression waiting for a vaccine that also won't work.\",\n",
              " \"he's a liar, he's bill gates little puppet to push for mandatory covid-19 vaccines to harm/chip and track americans! dr. fauci is on the board of the bill and melinda gates foundation! it's all about power and control with the  and !\",\n",
              " \"many people are courageously sharing that their loved ones are getting sick & dying after vaccination. dismissing their plight whilst waiting interminably for 'peer-reviewed' evidence is the equivalent of the priest & the levite walking by on the other side of the road.\",\n",
              " 'coronavirus: covid-19 vaccine killed 7 children in senegal(west africa) [video]  via',\n",
              " \"religious leaders question ethics of oxford university developing coronavirus vaccine using cell lines from aborted foetus sydney's anglican archbishop has written to scott morrison over concerns about a potential covid-19 vaccine\",\n",
              " 'fauci is the problem. anyone who applies critical thinking can reason this out. unfortunately, most let the hate trump mainstream media guide their thinking. fauci is guiding us to the bill gates depopulation vaccine along with the media. critical thinking is not your forte.',\n",
              " 'interesting that facebook is siding with the mandatory vaccine camp to hinder parents access to information even though there is misrepresentation on risks and casualties by both camps.',\n",
              " 'why the pfizer and biontech vaccine is a cause for optimism and skepticism: vaccine science by press release has to stop.  via',\n",
              " 'so you’re telling me that the vaccine has been tested but yet none of the three manufactures actually has the live virus in their tests 🥴🥴🥴🥴 yall mf trippin',\n",
              " 'i do not believe vaccinated immunity is better then natural immunity and nobody who has had the virus already should be vaccinated. i do believe that those who have not had covid in at risks groups should consult with their doctor about getting vaccinated.',\n",
              " 'they have not identified and isolated the sars-cov-2 virus which is why they use an m-rna pcr test that doesn\\'t identify and isolate any virus. if they had identified and isolated the virus why did they come out with an experimental m-rna \"vaccine\"? covid is a fraud!',\n",
              " 'unbelievable, pfizer admits they skipped the safety tests. a vaccine that needs to be stored at minus 70 degrees? developing a vaccine takes 6 to 10 years. follow the money.',\n",
              " 'ati vaccine trials from the uk will happen in kenya? why? is this why numbers keep going up? is gava planning to make koney by using its people as guinea pigs?',\n",
              " 'and our “experts” know this. this is and was never about public health. you’re going to have to pick a side soon. a liability-free, rushed, non-‘true’ placebo vaccine generating trillions in 💰💰is on your doorstep. be real careful what you wish for. 💉',\n",
              " '7. how long will antibodies last w the vaccine ? experts said when contracting the disease, antibodies originally only lasted 2months. i’ve got wayyy too many more questions & no answers that make me uncomfortable w the covid vaccine.',\n",
              " \"the uk is a ticking time bomb lynn.  and  should tread softly. could you imagine if this vaccination is found out not to work and causes healthy immune systems to break down over the coming years? wouldn't like to be in their shoes.\",\n",
              " 'pfizer and the other vaccine manufacturers will never admit liability for deaths or damage due to their vaccine. all flu vaccines have a mortality rate of 1 death in 10,000, the covid vaccine is 1 in 1,000. it may be an unacceptable loss.',\n",
              " 'not one slide produced to show the benefits of changing the vaccination protocol from the vaccine manufacturers.',\n",
              " 'yhu won’t catch me taking that covid vaccine.. ian turing into no fucking zombie 😭',\n",
              " 'the virus is fake news. they need to pretend its real so they can give everyone a vaccine. trump knows this but cant say it directly but if you are awake you would hear',\n",
              " \"they should be given the astra zeneca vaccine, that's got many side effects\",\n",
              " \"the early ones were fine. bill gates became involved inthe industry in early 2,000 and has shares in pfizer etc. you can bet he's behind the it company that manages our medical data too. he's been planning this for 15 years or so. you will have to have many vaccines each yr...\",\n",
              " 'then make moderna liable for their product! real the 1986 protection act.',\n",
              " 'there is also the matter of the 13 million or so americans who were duped into taking the johnson and johnson vaccine, which appears largely ineffective against delta, and who are not currently cleared to get mrna boosters.',\n",
              " \"if the end game is/was protect the nhs/save lives then clearly that has been accomplished already. i fear that the end game insofar as govt/pharma is concerned isn't hospital admissions/deaths, but actually the vaccine for  nhs/protecting lives appears secondary?\",\n",
              " \"no forced vaccine. if you've had & recovered from covid, you do not need a 'vaccine'. if you're <70, fit & healthy with no conditions or situations that increase risk, you do not need a vaccine for . the already very ill / very old / very fat should consider having it.\",\n",
              " 'if boris johnson and donald trump recovered easily from covid without a vaccine -and both are overweight, then, who needs a vaccine and what for? 🤔',\n",
              " 'some of us wont be watching... your money literally comes from the fda and pfizer #🤷🏻\\u200d♀️',\n",
              " 'it\\'s funny; the side effects (>50%) from the \"vaccine\" are the same as sars-cov2 symptoms so instead of having a fever or fatigue from the virus, you get it from an experimental drug, which has no long term data on safety. great.',\n",
              " 'how on earth can it when it’s a experimental 🤔 ring pfizer hotline they tell you it’s a experimental emergency jab for covid-19 not tested or approved. that is there words not mine !!! so you need to stop bullshitting the public with fake information be very careful what you say',\n",
              " \"what's taken you so long to realise this? the virus is a vector for the passport. the vaccine is vector for the passport. we have lost our freedoms more than any other democracy in the world. and it is not going to end. we have to end this now.\",\n",
              " 'no. that is a violation of a person’s civil rights and the constitution. there is no provision for forced inoculation in the constitution. there is no such thing as a shame bucket and a person who is pro vaccine has no special right to force it on others',\n",
              " \"i have noticed that even if you tell the chinese bots they don't have to take the vaccine and that you'd defend them they actually got to defcon3 and berate you for something you didn't say and try to emphasise they're not anti vax while clearly being anti vax!\",\n",
              " 'that first round of covid-19 vaccine gone wipe half the population out lmao',\n",
              " \"the astrazeneca rna vaccine is made using aborted fetal tissue (stated on the box in med jargon). it's reasonable to assume cells remain in the vaccine. regardless of efficacy that is a perfectly valid religious argument to refuse the vaccine.\",\n",
              " \"hope it's not moderna. anything would be better than a gates, fauci involved vaccine.\",\n",
              " 'hardly independent you weasel, good ol’ gates has his tentacles in there too 😤',\n",
              " 'the  vaccine is dangerous and unproven. teens have died from it. my daughter got sick after just one dose, and that was it for us.',\n",
              " 'oh. so those pastors are aware of the fact that fetal tissue is used in many vaccines, including the latest covid version? too bad their \"flock\" isn\\'t. including you...',\n",
              " 'my family member died three weeks after the vaccine. he had alzheimer’s. apparently this is common and i have asked for studies to prove this is safe for people with alzheimer’s . there is no study, no peer reviewed research.🙈',\n",
              " \"boris is trying to get to 'zero covid' with a vaccine that doesn't stop you catching covid... 🤔 his plan is clearly to keep everyone locked up indefinitely.\",\n",
              " 'i was offered a day ago and refused. i have never been one to suffer from that kind of thing. the bones and joints are failing but the immune system is decent so i will hang fire for the moment. i retain the right to change my mind. same with the corona vaccine.',\n",
              " 'does pfizer assume liability if this vaccine turns out to be as deadly as the vaccine the gates foundation used in africa? does pfizer have any liability at all? i’ll pass!',\n",
              " 'nope. 10% of all vaccine breakthrough cases of covid-19 are severe enough to end in hospitalisation or death. vaccines are not the full answer -- that goes double for the lower-efficacy vaxes like astrazeneca & the sino vaccines. the more unvaxed in a community, the more spread.',\n",
              " 'no other vaccine in history has been based on rna. there is no data on medium term effects let alone long term.',\n",
              " \"it hasn't been done before because it's unethical to do this. this is why they do animal testing, and previous rna vaccine tests on animals, when given the wild virus, killed the animals. it's called ade antibody dependent enhancement.\",\n",
              " 'why aren’t pharmaceutical companies liable for vaccine injury ? if the vaccines are truly safe then why are they protected by ronald reagan’s bill signed in the 8o’s. could this bill be repealed to instill confidence in the vaccine ?',\n",
              " 'btw one of the shortcuts taken was rushing to optimal dose to balance desired vaccine effect vs side effects. and mrna vaccine companies have avoided hiv studies while  voluntary did hiv sub group in phase 2. science vs pr.',\n",
              " 'do you honestly believe that people accept what you are doing and saying with your killer vaccine and your nazi style vaccine passport, do everyone a favour and quit. winston churchill will be turning in his grave. time to end this hoax',\n",
              " 'there are no, and have never been, successful vaccines for any human corona virus, despite decades of research. seems something we should highlight so we know the likelihood of a vaccine in \"months or a year\" is so unlikely',\n",
              " 'pfizer results are still secret... or is is just another case of \"we don\\'t have a clue what we are really messing around with ... but we want to still get paid\" ...\" \"exactly how the vaccine increased the risks of hiv transmission is unknow\"',\n",
              " 'bill gates...plain and simple! there are cures for covid which are being suppressed....keep us in fear to take their vaccine! bill gates wants to reduce the world population...so why would this vaccine be beneficial to our health? covid has over a 99% survival rate....',\n",
              " 'i was joking mr peng , ok the true is maybe working there is cool but that doesn’t mean the products are good , maybe they need to make again the pool after moderna make their employees take their vaccine! hahahaha!',\n",
              " '40 years of research, no vaccine for hiv. at least 100 years of research no vaccine for cancer. ongoing research, no vaccine for the common cold. but now in less than a year you have a vaccine for covid-19 that you want me to take?',\n",
              " '\" this will be when pfizer is ready for the third vaccination. medical fascists will warn us to take the third injection because of the dangerous delta (indian) covid strain.\"',\n",
              " 'i can’t wait to start boycotting places that demand vaccine records...',\n",
              " 'mfs finna start turning into zombies or sum takin that covid 19 vaccine',\n",
              " \"you are doing all this for vaccine uptake, well guess what: we ain't taking them! i'd rather suffer from covid or depression that to allow you to torture us into fulfilling the real agenda! even if you make it mandatory- we will refuse!\",\n",
              " 'with the media pushing hard for vaccine passports/id. boris has one chance left to prove that he is indeed, conservative. if he caves in and divides the people further, he will destroy what is left of his credibility. he has shown little fortitude thus far, so i fear the worst.',\n",
              " 'rfk jr is a very vocal voice against gates foundation. the rna vaccines are part of gates, fauci leadership. they have heavy hand into gilead which is moderna vaccines 💉',\n",
              " \"pfizer's ceo doesn't want to take his own vaccine, and making excuses all day, truth rubbed in your face. they want to get rid of you, by killing you off or leave you disabled so you don't stand in the way of the rollout of the nwo.🤔👇\",\n",
              " 'if scientists understood the etiology of covid 19 we would know who besides the old  & sick are really vulnerable. most  people don’t need vaccine at all.',\n",
              " 'will it be easier 2 get perhaps into a  when ur ? and wot about te others who dont want a  ?  discusses bout dat  😷😷',\n",
              " 'you know most of the people who’ve had the vaccine are really old right? they are already far more likely to die than most others. it’s logic. a 90 year old is more likely to die than an 80 year old at any time interval.',\n",
              " \"i'm thinking it will be hard to prove the vaccine prevents deaths, becuase the people who supposedly die from covid are scheduled to die anyways.  the large majority of deaths are over 80 yrs old.  look at norway, 29 vaccine death, no wait, 0, those were about to die anyway.\",\n",
              " 'they are not announcing all the adverse reactions or deaths caused by the so called “vaccine” 🙁🤬',\n",
              " 'pushed experimental vaccine= useless,dangerous=experitment li woman tests positive for covid-19 after second dose of moderna vaccine  via',\n",
              " \"what vaccine? theres absolutely no guarantee there will be one, or if there is, any time soon, how long it will last or whether it'll confer immunity or simple reduce symptoms (as the current leading oxford/az seems to only do)\",\n",
              " 'peter, it sounds like you are the perfect candidate for the vaccine. please do the world a favour and take yours. have mine too. take a free darwin award on your way. 😂😂😂',\n",
              " 'many other options available, no need to be a vaccine.',\n",
              " 'all the talk of a vaccine - i heard this and it rang true in my soul. \"if a flu vaccine is tainted and they are, why would we believe a covid vax wouldn\\'t be?\" if, big if, i ever had to take a covid vax i would only take one originating from israel. holy land, jesus\\' birthplace.',\n",
              " 'also charges for grievous bodily harm as vaccine did not go through all legal phases before human trials according to the arzneimittel laws. no pre clinical research done, no toxicology or pharmacology reports, as confirmed by pfizer to hockerz, german epidemiologist.',\n",
              " 'he says co2 must go to zero. and there are 4 factors to do that, according to bill. and 1 factor is people and then he says you can lower that factor by maybe 10-15% through vaccination. conclusion, his aim is lowering the population to get his zero co2 goal.',\n",
              " 'wonder if the bbc will be reporting on this today? if a 19 year-old was in icu due to covid you can bet they would be. 👇 19-year-old hospitalized in icu days after getting second pfizer vaccine - the jerusalem post',\n",
              " \"a vaccine is not guaranteed and it's not a silver bullet. the woman working on the oxford one said not to wait for it. if we needed a vaccine for herd immunity then the human race would have died out ages ago.\",\n",
              " \"unfortunately there will be a huge amount of pressure on healthcare workers to be vaccinated with an undertested vaccine just to make trump looking good he's also probably going to buy thousands of doses for the va system\",\n",
              " 'virus is milder and they are hiding it...so it has to be about the vaccine. no other logical conclusion.',\n",
              " 'new zealand woman dies of myocarditis after pfizer covid-19 vaccination',\n",
              " \"as i know even in rich developed countries they still don't provide insurance with that vaccines, there's a cases of deaths in russia from sputnik vaccine which not investigated, including catching virus & death after vaccine (kaluga city head of state hospital death)\",\n",
              " 'this is the logical position. vaccine rushed to market, perhaps bypassing normal safeguards, is not safe. the moderna tech is completely knew. it should be subject to extra scrutiny.',\n",
              " 'a3: drs and scientists are not going to stand for a rushed vaccine. if we don’t feel comfortable with it’s safety profile, we won’t give it! i also try to talk them through the “why” of how this is happening faster - our development is becoming more efficient!',\n",
              " '300 million doses of oxfords vaccine sounds selfish to me',\n",
              " '80y♀️    \"abnormal behaviour, aggression ... blood glucose increased, condition aggravated, confusional state, crepitations, death, dementia ... repetitive speech, salivary hypersecretion, slow speech\"',\n",
              " \"2/ oxford astrazeneca to conduct another trial after scientists' concerns. none of their concerns pertain to: deliberate masking of adverse side effects control group not given a placebo all c19 vax exempt from liabilities ➡️  ⤵️\",\n",
              " \"medical examiner not jumping to conclusions after utah mom dies following covid-19 vaccination  via : don't take the vaccines if you want to live. for some odd reason, the chinese can now monitor you after the vaccine ??\",\n",
              " \"when a healthy volunteer has a serious reaction to a covid vaccine days after & they get told it's a coincidence and not enough evidence that it was the vaccine 🤔 this is what happens. deny deny deny   quickly turn on the volunteers once they get ill👍\",\n",
              " 'ceo on fox: “it was likely a vaccine resistant variant would emerge”. basically the vaccine supplier has told us that  will not work. indeed,  are ready to promote new products “against”',\n",
              " \"why are they rushing this vaccine out? covid-19: four pfizer vaccine volunteers develop bell's palsy - read details here\",\n",
              " 'do you really want people vaccinated?  or is it lives for politics? prove you are making health decisions',\n",
              " 'this recent article from norway about research on  vaccine and bloodclots indicates nevertheless very strong likelihood of causing the clots. view in chrome for translation. then questions on data released. is astrazeneca in coverup?',\n",
              " \"any your completely missing the point, the last rushed vax, left people with narcolepsy or gillian barr, the scientists got it wrong, we have no idea if they are getting it wrong again, none and we won't know until it's been out a few years,\",\n",
              " 'doctors around the world issue dire warning: do not get the covid vaccine!!  via',\n",
              " 'if you’re under 60 the survival rate is actually 99.995%. or you can take an experimental vaccine which will synthesise your dna with full blanket immunity for the producers.',\n",
              " '.  please join  in seeking to block any kind of vaccine passport in ohio! thank you',\n",
              " 'excuse me?? now this country cannot return to normal unless everyone takes a vaccine for covid 19? i never intend to take it! with all the crap these globalists have put in vaccines we would be fools to take any vaccines! baby fetal tissue & toxic crap??',\n",
              " 'what people are missing about poc and the vaccine is that we can’t trust someone who for so long focused on depopulation with our lives. so if the moderna vaccine has nothing to do with bill gates, then let our conversation begin there with poc getting vaccinated.',\n",
              " 'did you know you cannot create a vaccine for a virus that reinfects? dr fauci should know this. so why does keep saying pushing the vaccine narrative? because his boss gates wants to sell more useless drugs. they will invent something that they will say will maybe cures a virus.',\n",
              " \"incredulously, trudeau is still supported and viciously defended.  health canada now stocking chinese army's covid-19 vaccine for human trials  via\",\n",
              " 'also no evidence that asymptomatic contagion exists, questioning entire mask & lockdown strategy. how will anyone prove that a vaccine death is not covid?',\n",
              " \"you're pathetic if you're still even considering vaccine passports or 'covid status certification'. grow a pair and tell those who are pushing for it to f off and take their own responsibility to not go anywhere if that bothered.\",\n",
              " \"i will never take something especially an rna vaccine developed by pfizer's. there has never in history been a vaccine 90% for flu. suddenly they have come up with one less than 6 months??you take it and i will see how you get on in the coming years\",\n",
              " 'so a test is being used that can be tweaked any which way to get the desired result. fragments of a \"virus\" can be detected, but then how do you know its covid that being detected when the virus hasn\\'t been isolated? then we\\'re being sold a vaccine on this? snake oil!',\n",
              " 'did not work again- most vaccinated place on earth- now the bragging stops and people wake up to a duff vaccine',\n",
              " 'i don’t need the vaccine. nothing more nothing less',\n",
              " 'those who break the rules to get vaccine for $$ will find themselves in a serious health trouble.',\n",
              " 'nurses study shows vaxxed and unvaxxed have the same viral load, and shed it the same. also, again, recent data is showing the highly vaxxed countries are showing the biggest infection rates: either this is a mechanism no understood, or, the vax does lessen symptoms - the 3/n',\n",
              " 'uk wake up now! we are just  stock to    we are treated like sheep with an evil shepherd. say no to    it is time to protest & rise in large numbers. we unite, we are strong.    are right!',\n",
              " \"i think that if these vaccines are safe they should not be exempt from legal redress if anyone experiences the opposite. pfizer and biontech say their vaccine is '95% effective' and has passed safety checks\",\n",
              " 'they have to shame women for not wanting to vaccinate with this disingenuous \"study\". just put out april 24, 2020 amid the c0vld vaccine controversy. where\\'s the study on men who refuse to vaccinate their kids? i don\\'t buy it!',\n",
              " \"so sorry to hear that😢 glad he is recovering ❤️🙏. my child is also vaccine injured(confirmed by our new pediatrician) with multiple food allergies, speech delays and severe eczema😢. may i ask how you're detoxing your child?\",\n",
              " 'when will  about the fact that vaccines are neither safe nor effective...the supreme court labeled vaccines  & vaccine manufacturers cannot be held liable for',\n",
              " \"lol - congressional member who had both doses has been diagnosed with covid. he's actually the 3rd one to test positive after the full pfizer vaccine. the first was a rep from ny.\",\n",
              " 'the dow is set to surge 5% to a record as pfizer says covid-19 vaccine is more than 90% effective. fyi -there is no such thing as a safe vaccine',\n",
              " \"health care worker dies after second dose of covid vaccine. 'the message is, be safe, take the vaccine — but the officials need to do more research. we need to know the cause,' said the wife of . rip\",\n",
              " 'no evidence any  prevents viral retransmission so mandated vaccination is for appearances not for science.',\n",
              " 'a must read thread on why one should not take  covid vaccine.',\n",
              " \"to inject or not inject their children should always be the parents choice. you wouldn't inject a person with peanut oil if they have peanut allergy even if it's a small amount, it's fatal to them.vaccine ingredients do not have important safety studies to prove they are safe\",\n",
              " \"global health experts came under increasing pressure on tuesday to clear up questions over the safety of astrazeneca's covid-19 shot, as sweden and latvia joined countries suspending their use in a further blow to europe's vaccination rollout.\\u200b\",\n",
              " \"if the vaccine is safe, why does he insist on indemnity? would you really want to be injected with an untested vaccine which could have severe side effects or even kill you? myself, i'll take my chances with covid-19 thanks!\",\n",
              " \"when someone finally makes a vaccine for covid-19, i hope to goddamn hell it's developed anywhere but in us or in china, because i won't trust it from either source\",\n",
              " 'yep only a moron would take the pfizer/biontech vaccine, syncytin-1 will make u infertile if ur immune systems responds to it and if any mrna gets into your chromosomes its hello cancer. swine flu and h1n1 rushed vaccines caused a lot of side affects worse than the virus',\n",
              " 'medical choice is a fundamental constitutional freedom you can be force vaccinated \"by any means necessary\" in many states!  focus on your immune system.',\n",
              " 'some moderna vaccine doses may be cut in half to accelerate rollout: official  via  why bother take it ????',\n",
              " 'if u fw them covid vaccines u a jack n the box 😂😂😂',\n",
              " \"1. we are far from being convinced the vaccine went through the rigourous trials and testing that produce a safe vaccine 2. pushing the vaccine is based on corrupt pcr testing 'case' results. covid case numbers are false 3. cases don't drive disease response, illness&death does\",\n",
              " 'boris is a liar and has sold out. the vaccine was never our ticket to freedom, that was a lie too.',\n",
              " 'that would seem to follow the trend of those in the study and that’s what my question was lol why would i get a vaccine when naturally the body doesn’t seem to carry the antibodies after being infected. we’d have to get the vaccine at least 2x a year if i’m understanding it right',\n",
              " 'not really, vaccine is not a guarantee to give an immunity.',\n",
              " 'probably gonna avoid facebook for a while. a friend posted a long rant about how no one needs to die from covid because hydrochloroquine is the cure and it’s cheap. thus no one should have died from it and we don’t need a vaccine. and i was the only comment disagreeing.',\n",
              " 'vaccines are russian roulette. all risk and no reward.',\n",
              " 'except putting fauci in control and fast forwarding an untested vaccine!!',\n",
              " 'thank you. i grew up with a girl who was permanently disabled from a vaccine. for my 1st kid, i asked docs. first = totally dismissive. harm often happens on second shot, so i asked again (different doc). she said \"risks are 1/million but if your child is that one. . .\" better.',\n",
              " 'i can’t wait to get vaccinated so i can continue laying in bed all day',\n",
              " 'like vaccine is the only option, nothing else? look at  doing great without vaccine, total deaths 7!! no vaccine there. same with other countries. intelligence,vitamin d, smart quick measures,masks all play role. they basically conquered it there.',\n",
              " 'urgent warning!! whistleblower reveals many pregnancy complications following experimental covid injections – “vaccine leaving a trail of devastated mothers”',\n",
              " 'from  34 y.o. ♀️ new york after     \"she went to the er and underwent urgent mri showing multiple brain lesions consistent with acute disseminated encephalomyelitis.\" not recovered.',\n",
              " 'search results from the  database 74y♂️ moderna  1 day after vaccination. \"patient was found unconscious without a pulse. patient remained in asystole without pulse or respirations despite cpr.\"',\n",
              " \"i worry about the long-term safety of any vaccine developed on this accelerated timeline, but in terms of short-term safety and efficacy i'll rely on the trial data to judge them.\",\n",
              " 'yeah, because they could secure huge grants like moderna and ino is backed by gates, means, it gets cepi and who directly, perfect connection',\n",
              " '3/ the denominator is far lower than 215,000 (the numerator will have a lag too, but the other way). if the lag is one day, almost 4% of the first 88,000 recipients have had a serious adverse event - after the first shot of the pfizer vaccine...',\n",
              " 'heart attack on a plate made this moment possible. so does moderna vaccine',\n",
              " 'it depends on what kind of vaccine in australia you are going to use. if it is pfizer people in australia have to be very careful (too many death after this vaccine in norway and other country)',\n",
              " 'if the vaccines are safe then let the vaccine companies be liable for vaccine injury. they shouldn’t have any lawsuits anyways, right? they’re safe?',\n",
              " 'it’s 2030 and the three month annual lockdown starts on new years day as the “common covid” vaccine is rolled out. the nhs is a private company so the rich pay for their vaccine then go on holiday abroad while the poor are locked indoors and “hampers” are delivered to them.',\n",
              " '\". that change patients lives.\\' really ? ok, then publish all your toxicological data about your   ‼ (including accumulation of mrna-lnp in ovarian tissue).',\n",
              " 'definition of karma ? health minister javid gets the  and passes it on to double vaccinated johnson who is one the 10% for whom the vaccine is ineffective in preventing hospitalisation from the more virulent & transmissible  !',\n",
              " 'hospital worker with no prior allergies in intensive care with severe reaction after pfizer covid vaccine a healthcare worker was taken to intensive care at bartlett regional hospital in juneau, alaska, for an allergic reaction she suffered after being…',\n",
              " 'pfizer death - new zealand woman dies after receiving pfizer vaccine',\n",
              " 'sounds like a well timed ad to subconsciously make people associate injections and unknown gene manipulations, a positive thing. just in time for your covid vaccine, which i suspect will alter your genetics as well. hmmmm...',\n",
              " 'pfizer ceo sells most of his stock the day the  vax was announced sounds promising? an experimental mrna vax with no animal studies, long term studies & no placebo safety test 🤑',\n",
              " 'ya & as a bachelors n science degree holder in kinesiology, i know more than i need to understand that moderna therapeutics is a gene manipulation company that changed its name right before covid to moderna inc. watch the movie gattaca. by the way steroids r gene manipulation 2.',\n",
              " 'are you kidding? my sister was vaccinated with pfizer, and she still contracted covid in ,florida with no underlying issues. so it’s not a guarantee.',\n",
              " 'i am horribly concerned about releasing a vaccine before it’s ready. what is the medical impact of a vaccine that is not proven? could a covid-19 vaccine that is not fully proven actually infect a healthy person with full on covid-19?',\n",
              " 'when were slaves wearing masks? 🤔 the chances of creating a vaccine is very small as there’s not been one created for any coronavirus! and since this is affecting majority of the world do you believe all the govts are agreeing on this strategy when they all can’t agree normally?',\n",
              " \"here's why i'll not be taking the   when it's announced - and why you shouldn't either. i'm a scientist and i hate having to write this!\",\n",
              " \"the medicines and healthcare products regulatory agency mhra urgently seeks an artificial intelligence (ai) software tool to process the expected high volume of covid-19 vaccine adverse drug reaction (adrs). so line up and let's see what this wonder vaccine does for your health.\",\n",
              " 'celebrities and politicians should be the first one to get the covid vaccine...... just want see the outcome of it!',\n",
              " 'if azar succeeds in ousting hahn, i will not be taking any covid vaccine ... and neither should anyone i care about.',\n",
              " 'hey   - an ground breaking story would be talking about the  deaths in germany that are being labelled as comorbidity deaths instead.     but yet, covid deaths from comorbidities are still labelled as covid deaths.   at work here - please report!!',\n",
              " 'i’m not an anti-vaxxer but...just kidding. i’m really not an anti-vaxxer. lol speaking of which, my sister got the pfizer vaccine on the 19th. she tested positive yesterday after first experiencing symptoms of a low grade fever and a cough on the 26th.',\n",
              " \"he is not bothered about the side effects of covid vaccine. he says it'll take 2yrs for any side effects to show in body. imagine if multiple doses were to be given to all 7bn people ⁉️\",\n",
              " 'anti-vax myth sharing ‘should be an offence’ and, if i prefer not to have this vaccine?      welcome to  and his dystopian britain.',\n",
              " 'coronavirus: woman dies of blood clot after astrazeneca vaccine',\n",
              " 'maybe its just me, but i don’t really feel like rushing to get a covid vaccine.',\n",
              " \"hello prime minister, with an increase of blood clots in people who've had the oxford asz vaccine, it might be time to suspend it for further testing. if in fact asz is causing blood clots, you wouldn't want the consequences of that on your conscience, would you?\",\n",
              " \"nobody should be masking or 'testing children' for  unless very ill. they have 0.00005% risk from it. concentrate on getting vulnerable & high risk 'vaccinated' (2doses). +99% of people will recover & build natural immunity. 'cases' data is propaganda.\",\n",
              " \"bro, you're going to end up with a astrazeneca situation if you go anywhere near vindicating this vaccine sphithiphithi. i studied the astrazeneca process from top to bottom and everything looked proper, and where did that end up? the bottom line is, this is hurried.\",\n",
              " 'i have heard enough lying on tv this morning about the pfizer vaccine. americans should not take the vaccine until germany, france, canada and south korea have approved it. if it is so good and safe, it would have been approved there as well.',\n",
              " 'time to unfollow. shame really. enjoyed everything up until you stated on the vaccine bulllshit',\n",
              " 'i would have rather gotten covid again than this fucking vaccine holy shit',\n",
              " 'i think natural selection will run its course when the covid vaccine is created and everyone starts dying/getting deathly sick from it.',\n",
              " 'whilst   &  are pushing for   and actually gives  to  for their dodgy ,  takes steps to make them pay for the  they are causing',\n",
              " \"i knew there was an adamant and outspoken  community. what i wasn't aware of was this sadomasochistic  group who are creepily orgasmic over being injected with whatever  wants to inject them with\",\n",
              " \"mandatory vaccine? from people who can't accurately count the deaths, don't know whether hydroxychloroquine works, who send elderly people with covid back to nursing homes? you first.\",\n",
              " 'those who wish to protect themselves w/vaccine can. once they have done so, they have nothing to fear from those that choose not to. therefore no rationale exists for the idea and it is nothing more than a coercive assault on civil liberties!',\n",
              " 'i know, people refuse to believe it, but it’s true. so unhygienic, the conditions are deplorable. and this is the pfizer vax, experimental mrna technology, with the -80 storage conditions? 3% adrs?',\n",
              " 'notice there are no \"experts\" denying the the warnings against vaccine passports. instead the \"experts\" are promoting them harder than ever trying to drown out the liberty loving population.',\n",
              " 'isn’t that why they tell you wash your hands?😏🤷🏽\\u200d♂️ if nobody can get smallpox even in a filthy environment then we don’t need your vaccine 💉',\n",
              " \"the people who authored the paper belong to a group at oxford uni called the 'uehiro centre' who have been pushing all mandatory vaccinations, vaccine passports and all sorts.\",\n",
              " 'no - get the wretched govt vaccinated- on camera- including the shapeshifter johnson...... we can wait to see the result.....',\n",
              " \"sinopharm won't be trusted. so you have one vaccine. but unless you were vaxed in uk (or eu, us +17) likely that will not be allowed either\",\n",
              " 'the so called vaccine has been proven to not be one but an even more dangerous synthetic pathogen acceleration science creation!',\n",
              " 'the french national agency for the safety of medicines (ansm) confirms   induced prothrombotic immune thrombocytopenia (vipit): 9 cases out of 1.4 million vaccination, 7 patients under 55 years and 2 patients over 55 years👇',\n",
              " 'the same vaccine that made some people sick ? hard pass',\n",
              " 'really is that good then why is pfizer asking/demanding for legal immunity. doesn’t matter people see this legal crime for what it is, you hurt, or kill people with your product you are not hiding behind the government-we will be coming for you. when the law becomes the crook',\n",
              " \"reading through this thread, do the people planning these vaccinations not have grandparents? do they no know any disabled people? nationwide, our vaccination plans are a huge mess and not getting any better. it's a disaster.\",\n",
              " 'this \"study,\" characterised by an oxford spokesperson, has not even made it to \"pre-print.\" at the moment, it\\'s little more than a press release. the astrazeneca vaccine is still seen as dubious in the united states because of the major confusion in dosages and openness.',\n",
              " '🇨🇦📢stop moderna alert for children side damaging effects already happening 12-17 heart inflammation 🛑 must investigate do they have to die before its stopped      bait is not the answer',\n",
              " 'making   via press releases. another company tells us possibly bad news about side effects via press release --- \"mild to moderate side effects\" says  without offering details. come on, guys!',\n",
              " \"why would anyone trust them and their vaccine if they are willing to play political games??... don't touch me with it...\",\n",
              " 'would be 8/22000 (vaccine group) if they had followed up with all 22k volunteers. pfizer has announced they followed up w/ 9536 in the vax group for safety evaluation so who knows what side effects the other half developed.',\n",
              " 'is  misleading the public with its 90% effective claim of its',\n",
              " 'my mom really wants me to get the vaccine cause of school, but i didn’t want it to begin w lol what should i do?? & if y’all have gotten it did y’all have any side effects? 😅',\n",
              " 'i can’t accept a covid-19 💉 because ema (🇪🇺) did not approved coronavac (approved by the who) or covaxin for use in the 🇪🇺, and doesn’t include these 💉 in the “green pass”. this is why i refuse 🇺🇸 & 🇬🇧 💉!!!!!!!!!!!!!!!!!!!!!!!!!!!!!!!!!!!!!!!',\n",
              " 'death rates skyrocket in israel following pfizer ‘experimental’ (coldly-calculated) ‘covid’ vaccines – david icke',\n",
              " 'let’s wear masks and shut down the economy until all obese people are fit and thin or until they can get their asses jabbed with the gates/fauci chinese virus vaccine! is that what we should do?',\n",
              " 'if you bring in vaccination passports then you are going to make turn a lot of law abiding citizens into criminals. i urge you to throw this idea away.',\n",
              " \"hmmm rt : people in japan who received pfizer inc.'s covid-19 vaccine seem to have suffered anaphylaxis at a higher rate than in the united states and europe\\u200b\",\n",
              " 'so egocentric and selfish of you to involve a child that cannot consent to a jab that we don’t know the long term effects of. also children are not the ones most affected by covid 19.',\n",
              " 'the pfizer vaccs authorized with 21 days gap. 12 weeks not just unauthorized but illegal. no scientific evidence that is useful with the bigger gap. so it`s not a \"vaccine rollout\" it`s a gigantic human experiment with the risk of developing creating a resistant covid mutation.',\n",
              " \"fully vaccinated with pfizer? you’re 6 to 13 times more likely to get delta than someone with natural immunity, study says • children's health defense\",\n",
              " \"we've had a vaccine for flu for years yet 24,000 deaths from flu every year i have never had flu and refuse the vaccine and i will refuse the covid 19 one too everyone i know who has the flu vaccine get the flu at some point whether first injection or fourth hancock is a tosser\",\n",
              " 'pfizer vaccine probably linked with heart inflammation cases among young men: israel',\n",
              " \"not even in the least! i don't want to be a beta tester for big pharma either. we all know how little pfizer cares for patient safety. in the corporate world, profits trump safety every time; pun fully intended.\",\n",
              " \"exactly. if, on balance, you don't feel you need or want a vaccine - do not be browbeaten into it. then we can all just choose the level of risk which suits us rather than risking the tyranny of the majority, as well as potentially causing more harm than good for younger people.\",\n",
              " 'with their vaccine, did pfizer and biontech find the goose that laid the golden eggs? they have  not goose, keep this w/ you',\n",
              " 'don\\'t \"swallow\" the vaccine agenda...take ivermectin it kills propaganda as well as you know what.',\n",
              " 'if you factor in the method of counting \"dead from covid\"... how many dead are we up to \"from\" the vaccine?',\n",
              " 'listen to when he says \"research\" what pfizer is about to do is exploit a weakness and then sell the virus that doesn\\'t work with the vaccine to give to the nwo. be careful. us panel recommends approving pfizer’s covid-19 vaccine for emergency distribution',\n",
              " \"so if gates says the vaccine is safe then they all must fall n line with him. and you wonder why people are so skeptic. who is bill gates to have so much money, power and influence? that's the real question\",\n",
              " 'they are using just over half sinopharm, the rest az. sinopharm does have lower efficacy. the 30% of cases in vaccinated people makes sense. 20% hospitalisation vaxxed is very concerning. may not reach herd immunity with these vaccines',\n",
              " 'sharron thinks all athletes and fans should be vaccinated. you see sharron thinks we all should be just to leave our house. so my q to sharron is why do want to vaccinate healthy people? should those who have had “covid “ be vaccinated. why are you pushing, untested vaccine?',\n",
              " 'wait until the children are back at school and have been given the flu vaccine that’s sheds the live virus for up to 30 days after. then they’ll really ramp up the testing 🤬🤬🤬',\n",
              " 'yep ,you can trust pfizer..a brand new type vaccine rolled out in record time .they have immunity granted against any court action against them that might occur through vaccine damage ..no idea if there are any long term side effects or how long immunity actually lasts for.great.',\n",
              " 'pfizer lead-scientist mike yeadon, expert on viruses says, .....\"cease the mass-testing of healthy people now\".! lockdowns do absolutely nothing!. the government health board must be fired! ..a must watch! mike yeadon\\'s the real deal!  via',\n",
              " \"still no news from her ...🤔 and thay want us to believe she's fine .\",\n",
              " 'boris johnson + bill gates + vaccine + big western pharma= be afraid. be very afraid.',\n",
              " 'if a vaccine only works for a approximately a year— does a year of social distancing and masking, set the human immune system back to the level of a “uncontacted tribe” in the amazon? —if so it’s extremely dangerous. humans would then be totally reliant on vaccines. zero natural',\n",
              " \"that program is being bought to you by bill gates. fb is censoring any negative comments about bill gates and vaccine/chip implants?? how long before twit follows bill's orders??\",\n",
              " \"and...our human rights here in the uk. such as not coercing citizens into taking a vaccine. worse still, guilt tripping parents to get young, healthy kids vaccinated. you're a disgrace talking about china when you've followed their lockdown regime\",\n",
              " 'informed consent is make data readily available to people that informs number of deaths from vaccination and number of illnessess and reaction. the damage is not being furnished to the public. this is the public health emergency, not covid 19.',\n",
              " 'my gp has just asked me if i want to be a volunteer for a covid vaccine. the fecking cheek of them, so ill and they do everything they can to block my hospital drs getting tests for me. refusing my 24hr blood pressure test now. 🤬',\n",
              " 'of reactions were observed with the moderna vaccine, it could be speculated that it could be linked to a common ingredient between the 2 vaccines, referring particularly to polyethylene glycol (peg), which is used in the lipid nanoparticules (lnp= mrna carrier). there has been',\n",
              " 'hallo, you can read it here: it\\'s not looking good for the pfizer vaccine. ⬇️⬇️ from the cdc; 3,150 people vaccinated in one day are \"unable to…  see you soon. 🤖',\n",
              " 'i\"m not at all a vaccine expert, but i would have thought this a minimal bar instead of focusing on this easy stuff, can we focus on the hard stuff: how are they gonna do 4 years of real time safety testing in 4 months',\n",
              " 'correct! a spokesperson from  said  vaccine makes you sterile, pure poison in it, all to depopulate the nation!! they should all go down for war crimes!!',\n",
              " 'there is this country called sweden. look them up. also much of sun belt stayed mostly open, far lower death rates than northeast. let virus burn out. do you ever question gottlieb for conflicts of interests being on board of pfizer, pushing mrna vax? why r we listening to him?',\n",
              " '\"vaccine efficacy\". this mrna potion doesn\\'t stop you catching this common cold virus anyway. apparently all it does is \"lighten your symptoms\". in which case simple paracetamol does much the same job for many. new strains of influenza regularly make the flu \"vaccine\" useless.',\n",
              " \"we the people reject moderna's gene editing vaccine.the transformation of our genes would carry on to future generations by sperm +eggs!\",\n",
              " \"there's no law that says that the government can't mandate that stuff, . you are free to not get the vaccine and spread the disease in your own home, on your own property. the government is also obligated to get the country open and people's lives back to normal.\",\n",
              " 'pfizer vax was developed with funding from eu,germany and...china,no money for r&d from us govt or chump. so enjoy injecting a vaxx made with chinese money.i know people like u loves china hahaha',\n",
              " \"please take 60% efficacy (double mutant) vaccine astrazeneca so that it doesn't work.\",\n",
              " 'do you also make the microsoft windows start-up sound when you burp and the error sound when you fart, or is it just me? oh, and check out this weird scar i got after my infertility-inducing pfizer mind-control vaccine...',\n",
              " \"so many people believe a vaccine may create immunity but the infection itself will not. of course there's no $ behind natural immunity & it doesn't fit the commonly promoted narrative. several reports are out questioning natural immunity. is it simply due to $ & politics?\",\n",
              " 'i will refuse it because it is rushed out, research in vaccine side effects takes years not months, plus pfizer demanded immunity from legal action from ppl who suffer side effects, no way taking vaccine',\n",
              " \"it's already been stated by official sources including , reiterated, confirmed and reiterated once more that the vaccine does not provide immunity whether you take one, two or twenty doses. it's merely designed to lessen symptoms. so what is this shit,  ?\",\n",
              " 'the therapeutic goods administration has confirmed the fatal blood clotting suffered by a 48-year-old australian woman was likely linked to the astrazeneca covid-19 vaccine 💉🇦🇺',\n",
              " '48 people dead after taking flu vaccine in south korea -',\n",
              " 'the covid vaccine will just be effective at lining big pharma pockets of lots of cash',\n",
              " 'we all want a vaccine. news should be in the market that in a year or two, we should be past this. but apparently not. and the moderna vaccine at best starts to get distributed in early 2021. damage will already be done.',\n",
              " 'someone sack dr shillary from gmtv 😡😡 who is he to want to take peoples choice away and try to cause a divide and label people as lepers if they dont have covid vaccine',\n",
              " 'nih owns half of the key patents for the covid vaccine. nih’s stake in the vaccine explains why fauci let mederna skip animal trials. money! money! money!',\n",
              " 'the chinese inactivated vaccine has much lower efficacy and these mrna and viral vector vaccines are try vaccines. if you understood how they worked and how a virus worked you would agree with me',\n",
              " \"astrazeneca working on a vaccine will temporarily stop . serious side effects : transverse myelitis affecting the spinal cord, which leaves you paralyzed for good . no cure. astrazeneca 's cure for the virus ( and the host) is paralysis.🤑\",\n",
              " 'i watched a video from a nurse the moderna vaccine has ai, its designed to change dna or alter like gmo they are trying to change us to transhuman',\n",
              " 'this is the same ceo that sold ~60+% of his stock in pfizer on the day of the vaccine announcement. sell the news, don’t take the vaccine, he seems super bullish on the long term successful prospects if this vaccine.',\n",
              " '1/2 also, in the uk, after vaccination with the pfizer-biontech vaccine: 158 reports of thrombocytopenia (one fatal), 68 reports of immune thrombocytopenia, and 307 reports of non-site specific thrombosis (six fatal).',\n",
              " \"or people see the vaccine is having an adverse effect i am not a scientist, but even i know it isn't the best of ideas pumping shit into elderly people in their 80s and 90s\",\n",
              " 'stand steel. god is in control. g5. for the high level of radiation causes the symptoms. the test is a lie . the real corona virus is in the vaccine . mister president donald trump knows everything. the ds& new world order r responsible',\n",
              " 'i liked your article, the pfizer vaccine is a frozen mrna from covid genetic rna (which a virus is) no one knows once injected what that protein and its expression in the human will express (phenotype ) rna develops into a protein mam , proteins express .',\n",
              " 'not taking that damn vaccine, i’d rather get covid again and get my own antibodies',\n",
              " 'at last some truth about vaccine debacle coverup and spin. australia could have been like israel, singapore, denmark or nz! and where was  , cheerleaders for the \"oxford vaccine\"! hunt must go by next election! senior australians remember betrayal!',\n",
              " 'it is much more nuanced now. so criticism of vaccines requires precision. which vaccine specifically? what about it? concerns over preservatives? each vaccine and disease model must be addressed individually. much of the current hysteria is based on a faulty study done by',\n",
              " \"the vaccine literally doesn't stop u from getting covid\",\n",
              " \"not yet. but i got covid 3 x (if i include january last year and 2x since). last year jan i was very sick, but both more recent times, i was asymptomatic. so i think i will keep believing i belong to the 99.7% who survive.. so we can save the vaccine for the 0.3% who don't. 😎\",\n",
              " '‘these oxford doctors of medical law and ethics have advised the uk government to equate anyone who refuses to take the covid-19 vaccine voluntarily with someone with a mental health disorder.”',\n",
              " 'california halts injections of moderna covid vaccine batch due to ‘higher-than-usual number of adverse events’  the mnra covid-19 vaccines are showing very negative irreversible side effects and worst case, even death not yet identified!!!',\n",
              " \"if the pfizer is only 39% effective against corona's delta variant, why is big covid so aggressively attacking the unvaccinated? hello?\",\n",
              " 'never heard worse! any attempt at vaccine passport will finish the leisure and travel sector.',\n",
              " 'yep. trump gave moderna almost $500m for vaccine development even though, since their inception, they haven’t produced anything that’s made it close to the approved for human usage stage. they lost $1.5b over the last few years — lost around $500m in 2019 alone.',\n",
              " 'i was talking about mortality risk from astrazeneca vaccine.',\n",
              " \"'vaccinating' young people <40 (with <0.005% risk from covid exposure & mostly mild / asymptomatic) is more about profits than health. get the vulnerable & high risk 'vaccinated' (2 doses). the long term effects of lockdowns will be far more devastating than  .\",\n",
              " \"spoiler: a vaccine for covid will not stop pneumonia, etc, because it's not targeted toward pneumonia, just to covid. that's how vaccines work. spoiler 2: az is inferior to pfizer in prevention of asymptomatic covid. it doesn't do it. pfizer does.\",\n",
              " 'and still people think it\\'s about a chinese bat-virus. and still people think the \"vaccine\" will get them back to normal. and still people think the \"vaccine passports\" are a temporary thing which will be used until the pandemic is over. people are not paying attention.',\n",
              " \"if you are <40, healthy & fit and have no conditions or situations that may put you at extra risk, you don't need a vaccine for . 0% risk from infection. high asymptomatic %. if you've had covid, you have immunity. the 'vaccine' may not prevent transmission or infection.\",\n",
              " 'makes you wonder why those who stand to financially gain the most from mass vaccination of the population want to keep possibility of cheap therapeutics secret. nor have the gov invested billions in research....questions need to be asked of   & answered',\n",
              " \"it's actually covid-19 that's causing big pharma to push the vaccine.\",\n",
              " 'this is a disastrous turn of events - astra zeneca, for example, was granted immunity from prosecution for any damage caused by its hastily-developed products since july. vaccines *must be safe & thoroughly tested* as everyone will be asked to take them.',\n",
              " \"yes, indeed. debs cohen is brilliant. imho. we will be the lab rats. but heh, let's fly the flag and accuse anybody who raises legitimate queries about these particular vaccines as anti-vaxxers or covid deniers. too many unknowns.\",\n",
              " 'federal govt has shut down public system that tracks vaccine injury and death. too much data on there already, need to hide that from public because ppl might not want to be part of list of dead?',\n",
              " 'covid can also fuck up your health long term even if you’re young. and that’s proven. the vaccine long terms are unknown/unlikely because it’s essentially the same as all other vaccines.',\n",
              " 'netanyahu said, \"he\\'ll take the first does of the pfizer vaccine.\" my concern is, what if the vaccine injures or ends up killing another 6-million. the vaccine could end up killing more israeli\\'s than the rockets launched into israeli territory by gaza terrorist.',\n",
              " 'i would not accept corona-vaccine now, because it might cause the very thing it’s supposed to prevent. that happened in the early days of polio vaccine.',\n",
              " 'that\\'s more like you arlene! why not come right out and say it\\'s one of your famous red-lines? no vaccines to ireland! \\'cos if you give them a vaccine they \"will keep coming back and looking for more”. 🐊🐊🐊',\n",
              " 'no data exists to prove 1st dose post 6 wks = beneficial. this is pfizer, who & faucci’s conclusion. 2nd dose delay = dangerous policy not science. in israel, vaccinated population data efficacy after 1st dose low 30%. initial data but supports pfizer/who conclusion.',\n",
              " 'he said johnson & johnson is helping make a vaccine......... think about all the things johnson &johnson has done to people ..... smh',\n",
              " 'this an abc dem poll: more like 2 in 5 would reject. this poll says vaccine from (dem state) government. republican red states would leave it to mds & informed consent. \"1 in 4 americans would refuse covid-19 vaccine from government\"  via',\n",
              " 'doctors killed people with aids/hiv etc. medicine .... and they written corona death first media create fear to get trp... then bill gates company create fake corona vaccine to get huge money...',\n",
              " '\"novavax have made no effort to contact anyone advising them that the effectiveness of the vaccine will wear off and i now feel that i\\'m entering the winter months without any, or reduced, protection against covid.\"',\n",
              " \"leave them to their fate..mrna  'software of life' darpa-funded biochip to ‘save’ us from covid-19? once firmly implanted inside the body, human cells are at the mercy of any  program delivered via this substrate, unleashing a nightmare of possibilities.\",\n",
              " 'these are the side effects of the new johnson & johnson vaccine, fda says  read this as the cdc says if you have fever as a symptom do not take another shot of vacctine',\n",
              " 'california health care worker dies days after receiving 2nd coronavirus vaccine shot, report says',\n",
              " 'pfizer’s experimental covid-19 vaccine—what you’re not being told -   it is not just this website but bill gates who funded this research talked about exactly this 2 or 3 years ago in a youtube video. \"we will change your dna\"',\n",
              " 'it may have actually happened. although, it is unlikely that the vaccine caused the death. my brother works for a guy whose mom got the shot, got sick and died 3 days later. almost made my brother not get the vaccine. most people i know do get sick from it.',\n",
              " '\\u2066\\u2069 weather it’s moderna, inovio, or trump it doesn’t matter. one thing i know is this country is a complete fraud.the virus was made by american scientists to create a crisis to do unlimited quantitative easing here and globally. this was a 20 trillion $ move',\n",
              " 'regardless, this obfuscation and bizarre pr nightmare clean up tactic will make the mast pro vax crazy, skeptical. nice going pfizer!😜',\n",
              " \"fake doctor. 🤣. radiologists aren't doctors. they are cave trools. sitting in a dark room never touching a patient. brags about being rewarded as a vaccinated health worker. like he ever was at risk from attending infected patients. 😂. a total clown who brings shame on\",\n",
              " 'many reasons. people died from the vaccine itself, ure blind.',\n",
              " 'not authorised! an emergency rollout!clearly states talk to ur doc to weigh out ur risks.u would know that u need years to actually be able to respond that question scientifically!u, like everyone else,is clueless when it comes to long term side effects of dis vaccine on foetus.',\n",
              " 'of course we can trust a rushed, untested russian vaccine.',\n",
              " 'and what abt  with weak immunogenicities like the  or jnj single shot?',\n",
              " 'yup nicky and many patriots have been warning us about un 21 and chinese take over of the world. covid is a tag team effort to as trudeau arrogantly said \"depopulate the world. so women\\'s rights, became women\\'s health, became the vaccine and',\n",
              " 'hey russ the neurological damage is being done by the vaccine. bells palsy for one not to mention the people having severe allergic reactions. pfizer released one of the people had an allergy to eggs but there are no egg products in the vaccine... what causes these reactions?',\n",
              " 'your chances of staying alive with or without the \"vaccine\" are roughly equal. want to fend off the \"? lose weight, get in shape, get lots of sun. make vitamin d.',\n",
              " 'step seven- when people start dying from the 4th wave, or really when the antibody dependent enhancement causes cytokine storms that will kill people. they’ll say it’s another covid mutation worse than before.but blame it on those that were not stupid enough to get the vaccine.',\n",
              " 'ppl dd no take the covid vax. pfizer vaccine enters in the nucleus of the cells where dna is. this should never happen& their lipids have peg(pegylated artificial material)that will remain the body&pass to your offspring &create genetic disorders.',\n",
              " \"no. i'm not an expert, but all the fantastic scientists out there are still scratching their heads as no one has yet discovered the etiology of the covid 19 disease. until they do all this vaccine stuff is just tits on a bull. g6pd deficiency might be a clue.\",\n",
              " 'cringing how they are trying to roll out this vaccine to blacks...',\n",
              " \"wait for phase 3 covid-19 vaccine testing to be completed and results verified, by science before taking it! your life depends on it! past vaccine disasters show why rushing a coronavirus vaccine now would be 'colossally stupid'\",\n",
              " 'they actually had to stop the polio vaccine in canada, as people were catching polio from it.',\n",
              " \"wtf!!! pfizer vaccine not approved! they're trying to fool us!\",\n",
              " \"see? i told you people the vaccine wouldn't work! the virus keeps mutating.\",\n",
              " 'it’s not a good vaccine. south africa returned over a million doses and opted for johnson and johnson instead as it didn’t work on south african variant!',\n",
              " \"who on earth would take a vaccine that's not been completely trialed? stage 3 of this so called rigorously safe vaccine isn't expected to be complete for another 24mths dec 2023 put this in your search engine & read it for yourself 👇 pfizer 123 vaccine trial protocol\",\n",
              " \"you'd trust pfizer with your penis but not your arm?\",\n",
              " 'agreed, especially with the flu vaccines of late. and a number actually contract seem to contract the flu, or some mild version, during the vaccination itself.  as i said; in some areas, we seem to be over-vaccinating.',\n",
              " 'believe 2b a lie 2frighten the citizens! doctors & hospitals are diagnosing patients with covid-19 when they’re dying from stroke, heart attacks, cancer, asthma & flu! why? they get paid more from insurance companies as well 2have people get vaccine 💉!',\n",
              " 'yes i hate it like i’ll snap you about what those masks are doing to my skin in a sec, we also have literally the cheapest vaccine ever w so many side effects and it’s a mess here i stg, they also want people to get tested 3 times a week so ofc the numbers go up if u test more',\n",
              " 'the cdc is looking into a \"handful\" of additional severe cases of severe side effects possibly linked to the johnson & johnson vaccine.',\n",
              " 'i am hoping the pfizer ones are trashed and what is not justice is hcq & zinc ... that would be an awesome trump card',\n",
              " 'sweden suspends moderna shot indefinitely after vaxxed patients develop crippling heart condition  wonder how the vaxies are feeling now.',\n",
              " 'having an autistic child destroyed my family. i took my healthy baby to the doctor that gave the vaccine that caused it. i live with guilt and regret every day of my life. i know that was what caused it and you will  never convince me otherwise.',\n",
              " \"if you're <60, healthy and have no conditions or situations that may put you at extra risk, you do not need a vaccine for . if you've had covid, you do not need this vaccine. the already very ill / very old / very fat should consider it. 99.7% natural recovery.\",\n",
              " 'vaccine related??? i am beginning to think the elderly should not have at all.',\n",
              " 'i dont mind that part of it i have nothing to hide they have been watching for years.just dont want an untested vaccine tested on me or be an outcast if i dont',\n",
              " 'the only way a \"vaccine\" could have been formulated in this amount of time is if the virus was man made to begin with.',\n",
              " 'the same \"safety standards\" that were applied to the swine flu vaccine? that didn\\'t turn out too well for the guinea pigs who were coerced into having it.',\n",
              " \"we have never sunk so low. do you need to show 'flu' vaccination records to swim or enter a shop? divisive, hateful, unscientific, hysteria-induced nonsense.\",\n",
              " 'wonder how many abortions they had to do to get the mrc-5 & wi-38 cell lines... then also include the 9 abortions that occured to get the walvax-2 cell line in 2015',\n",
              " 'wow just wow!!! nothing sells drugs quite like indoctrination from an early age! nice work  🥴',\n",
              " 'actually, you’re completely wrong. this has nothing to do w/ “planning”, it has everything to do w the liberal media narrative of “a covidvaccine being needed”. the fact is that many ppl. do not want & simply won’t get vaccinated. nice try, but stop pushing your bullshit agenda.',\n",
              " 'pfizer vaccine is sterilizing women. research!!!! protect your body',\n",
              " \"you ain't de saviour of the workd and will never be so stop trying so hard to be one.. like these vaccines will cure corona virus 🙄\",\n",
              " 'i hope so .. do not think i am anti vaxxer .. but i am sorely angry at half a dose  being rolled out without trials or tests .. add, when the reactions to  are being downplayed or supressed ? it alarms me .. especially whe seeing this  supports  !',\n",
              " \"this doesn't mean that eventually the bharat biotech vaccine won't be proven to be effective, but this approval is politically tainted imho and only undermines the credibility of the vaccine. they should have either released more data or waited a couple of months.\",\n",
              " 'why because johnson faked the vaccine for political reasons. even the fda is saying that the uk vaccine is rubbish',\n",
              " '1. the us fda has updated its warning labels for the johnson & johnson covid-19 vaccine to include an observed increased risk of rare neurological disorder guillain-barre syndrome. it was reported that 100 gbs cases were recorded in about 12.5 million vaccine doses administered.',\n",
              " \"here's your deadly second wave.... pfizer covid vaccine trial shows alarming evidence of pathogenic priming a paradoxical immune enhancement phenomenon where vaccinated people may still develop the disease, but get much sicker and die\",\n",
              " \"💉 everyone is praising moderna's new antibody vaccine. but as i understand how it works, is that the antibodies in the vaccine only last several months before they lose their potency in the body against covid. so more than one shot is necessary, more tests needed. 💉\",\n",
              " 'the majority will have had covid ie immunity! israel are now not giving the vaccine to anyone who’s had covid... hope this country follows suit but i doubt it as they’ve all got interests in big pharma',\n",
              " 'if you can bottle that optimism up mate sod the vaccine you’ll make bloody millions 👍',\n",
              " 'wow ... finished in march. less than 3 months after covid existed ... you have to wonder what the vaccine really is dontcha !',\n",
              " 'i’m not taking any vaccine without that information and a reasonable amount of transparency about the vaccine’s efficacy and safety.   just blew its public trust. stupid move.',\n",
              " 'widow says her healthy 56 year-old husband died from pfizer’s vaccine',\n",
              " 'one care worker remains in german hospital after biontech pfizer vaccine overdose: eight workers in an elderly care home received five times the recommended dose.',\n",
              " \"coz i'm gonna take a rushed russian vaccine for a viral bug with an infection fatality rate of 0.02%, having already tested negative for 2 tests? be serious!\",\n",
              " 'the covid vaccine may not have fetal cells but it does have mrna that will alter dna. i will die before i fall in line with a mandatory shot. and i don’t care what tracker is seeing this.',\n",
              " 'i honestly don’t think a covid vaccine will be rolled out for school kids by oct/nov. and wouldn’t a vac authorized for use on children need to be tested on school age children first? covid vaccines have the potential to provoke  & the perps know it.',\n",
              " 'it’s what we’ve been afraid of. hopefully rare, severe allergic reactions to the vaccine will be the only side effects of the pfizer vaccine which is only 50% effective after the first injection. only time will tell.',\n",
              " \"covid-19: study shows one vaccine dose leaves uk's over 60s 'seriously vulnerable' - sky news  vaccine roll out in tatters study shows first dose  only 33% for over 60’s - vaccine our way out ? i don’t think so - not now\",\n",
              " 'in the pocket of  and  who have already have an option to sell 2 billion doses of vaccine to india. a vaccine which has been rushed, already been paused due to severe reactions in test subjects and has no control sample for comparison',\n",
              " 'someone tell  that canada is a laughing stock when it comes to vaccinations and that trudeau is responsible. further will the cbc apologize to all those who will be infected and die because they weren’t vaccinated in a timely fashion?',\n",
              " 'just a gentle reminder that a covid-19 vaccine will not prevent you from getting it. that’s why you gotta get a flu shot every year and still end up getting the flu.',\n",
              " 'andy murray needs to understand that covid-19 vaccines are not mandatory in every country or line of work. if andy wants to take the vaccine, please take it for your own protection(as i plan on doing), but don’t force anyone to take it.',\n",
              " 'show me peer reviewed double blind data with a control group and i will try and take the vaccine. none of this politically rushed bollocks from moderna.',\n",
              " 'this is what happens when big pharma co. get involved seriously. covid-19 vaccine 90 percent effective in early analysis, pfizer says',\n",
              " 'we need lots of infections to test vaccines...apparently moderna told european countries that their \"great infection reduction is their biggest problem\" lol...the big question is..how is china testing 5 vaccine candidates with no active infections',\n",
              " 'a vaccine for a disease with less than 1% mortality. more brit healthworkers will be harmed by vax than from covidhoax',\n",
              " '‘covid’ vaccine-maker pfizer fined $4,747,652,947 for violations since 2000. yep, just who you would trust with your life and your children’s lives',\n",
              " \"i don't know about the  crowd but there ain't no way in hell i would risk taking a vaccine from the\",\n",
              " 'look at it forensically. most of the losses are people old, sick or obese. this cuts government health care spending. the vaccine is of dubious value but pharma is making billions. the whole covid story reeks of govt control and crony capitalism.',\n",
              " \"i'm all for vaccinations and am looking forward to the oxford vaccine data, but i don't think i'll be jumping in line for this one!\",\n",
              " 'people who died after receiving the vaccine didn’t die from the vaccine, but somehow 519,360 people died of covid with “contributing variables”.  you’re not willing to apply that logic consistently.',\n",
              " 'because vaccines don’t stop transmission. covid is so highly transmissible that even mask wearing is silly, stop pushing a dangerously under-tested vaccine on ppl. immunity can be achieved naturally 🤯',\n",
              " 'obviously not, since it’s not even a vaccine as admitted by pfizer. you can still contract covid, and transmit it, you just have a chance of reducing symptoms, and a 4% chance of severe side effects complete with unknown long term effect, since it’s a gene therapy.',\n",
              " \"right. if you think for yourself and think it's ridiculous for healthy people who won't die from a virus to be wary of an untested, experimental vaccine, then you must be in a cult. u do know they've been working on mrna vaccines for a while, but have never passed animals trails?\",\n",
              " 'and second, what else does it do? there has been no published evidence to support the russian ministry of health’s statements that the vaccine generates useful antibodies and has limited side effects.',\n",
              " 'oh well, their puppy moderna vaccine is allegedly also a crap and what? they like it...🤣🤣🤣',\n",
              " '\\'use of a vaccine without knowing its protection potential is unethical, says immunologist vineeta bal \"',\n",
              " 'all through this bs covid scam from the start there were no reports of bs new variants untill you rolled out you poisonous experimental dna altering vaccine. we all know that we have been lied to and that you are a narcissistic scumbag. your crimes are stacking up.',\n",
              " \"when politicians like  and  (who said she would never take trump vaccine - as if  did the formulation and not pfizer and j&j) really shows how disgraceful they have become and the media's promotion of it is 👎👎\",\n",
              " 'my mother is one of these. she was fine, had the vaccination and now she’s seriously sick in hospital because of the astrazeneca mrna treatment. this has never been tested, it’s being tested on us. it’s been tested on my mother.',\n",
              " \"is this for other countries or our country, what about the people who have antibodies that don't need to take the vaccine & years down the road when teens become adults this is unnecessary & highly unethical against the  law  , we dont do this for hiv/std stop\",\n",
              " 'treating covid-19 with hcq, a relatively cheap, old medication, widely tested over last 60 years is bad because the new covid vaccine will be better.   that is the only reason.',\n",
              " '1/2 the newest israeli data indicate ~complete vaccine failure on every level. remember: israel used only the pfizer mrna shot and followed pfizer dosing schedule.',\n",
              " 'i don’t know what the repercussions for those 3k people are, i guess if one of them could still have died of covid? im not sure on your point of that sorry. i’m not against getting the vaccine, i’m against forcing people to get it so they might be allowed to get a job or buy food',\n",
              " 'bill gates confronted about widespread vaccine side effects vaccine oligarch bill expressed apathy in a cbs interview about the fact that his moderna covid vaccine, which nih has a financial stake in, is testing horribly in vaccine trials.',\n",
              " 'hey janice i seen today that they want to start testing a new covid vaccine on people in nursing homes. just more proof that they don’t care if our elderly die or not. 😤😢',\n",
              " \"gene editing, is where they take a piece of the sequence of the virus and edit it into our dna this is the reason why they want you to take the vaccine. in order for your immune system to respond to it. but there's a problem with that. you freaking genius\",\n",
              " 'currently pfizer is claiming, without evidence, that its vaccine is “90% effective.” but this claim is little more than corporate propaganda designed to drive up stock prices through false projections.',\n",
              " 'my doctor would have to look over very carefully and do research before i would trust the first gen of a covid vaccine. drug companies just don’t have that much of our best interest at heart. they care about money. and that is it.',\n",
              " 'the overwhelming majority of the 578 seriously ill in hospital are vaccinated. the unvaxxed are a tiny proportion of those hospitalised with covid. with the side effect profile of pfizer, natural immunity assisted by ivm prophylaxis would be a safer bet.',\n",
              " 'vaccinations are not foolproof & not all the diseases have a cure like black tb very common and other parasitic diseases that have no cure or vaccine!',\n",
              " 'why do you think you can inflict a vaccine on the population? why is your whole plan based on that? flu is killing so many more people and we don’t lock down for that and only the vulnerable have the vaccine that is not alway successful. what’s so special about this virus?',\n",
              " 'why would you give your 12 yr old a vaccine against a virus that 98% chance they wont even catch it. never mind get ill from it? isnt that like prescribing oxycodone for a hangnail?',\n",
              " 'do you bother to check the blood group of the aborted fetol cells that you use?? because negative blood groups receiving positive cells will cause massive auto immune/rejection issues 🧐',\n",
              " 'fear mongering. even vaccination for 18-45 years is not needed. every single country has stopped covishield for under 40 ppl risk outweigh benefits.. where is risk benefit analysis?',\n",
              " \"to all those salivating for the precious ...try to activate that 3 pounds of brain you've been bestowed with      before pushing d coming generations into a hellhole\",\n",
              " 'tests  with  over a week after receiving pfizer  - ➡️  via',\n",
              " 'still not taking the astrazeneca vaccine no matter how much you people are trying to convince us. a friend in the uk had it and he was sick for a week after 1st jab.',\n",
              " '\"while several medical conditions can cause a pulmonary infarction, the most common cause is pulmonary embolus. \" and i\\'ve got at least 4 of them from the astrazeneca vaccine',\n",
              " 'to market!! how do we know this? because it’s all planned!! moderna have never brought a human vaccine to market before, they are also using rna which has never been used in vaccines before and they were bailed out by the bank copied and pasted!',\n",
              " 'pfizer’s latest study realized today. two people have died from cv19 vaccine trial group. also the side effects on pregnancy unknown recommend no breast feeding or pregnancy for at least a year of course it’s experimental most vaccines take decades of testing',\n",
              " \"nigeria sues pfizer for $7bn over 'illegal' tests on children and someone out there thinks they wanna save your life\",\n",
              " \"instead of putting all of our hope into a vaccine, why don't we treat people in early stages of covid with hqc? this treatment can be given safely even without a diagnosis!  greatest tragedy of our lifetime. msn will not tell the truth about this drug because they hate trump!!\",\n",
              " \"serum inst also uses the oxford researchers' modified virus same poison. different label scroll up the current thread for info on oxford vax no vaccine can be effectively and extensively tested in 5 years, let alone 5 months. plus, pharmas have zero liability in india avoid\",\n",
              " \"the idea of 'zero covid' is pathetic. viruses mutate, on a global stage. when covid mutates past the reach of this 'vaccine', those vulnerable will need another. like flu. global companies are creating new markets for their unnecessary products.\",\n",
              " \"would they be so keen to roll it out if they risked getting sued if it goes horribly wrong? they plan to test it on the elderly first - if they die what's the betting it won't be   it will be their pre-existing conditions?\",\n",
              " \"read more. the most vulnerable are the elderly esp the frailest. the vaccine won't protect all of them unfortunately. even with the vaccine the majority of victims will be elderly.\",\n",
              " 'because children don’t need the vaccine in the first place!!',\n",
              " 'well if you’ve had it with no serious problems, the evidence shows clearly that getting that first vaccine jab sends your ab levels streets ahead of someone who’s never had it. but you’re more likely to get a short term reaction to it because of that. existing antibs go to work.',\n",
              " 'my doctor said, “absolutely do not get the vaccine. there is not enough research.” that is after i asked her how she would treat me if i came in with covid. i told her i would not rule out hydroxychlorquine, but i plan to suck it up.',\n",
              " \"/pfizer's also the 'vaccine' - which is no vaccine but gene therapy - that has the highest rate of adverse effects. shooting it into people without informing them that this is a medical experiment violates the .\",\n",
              " 'reason why i am an anti vaxxer and the majority of others are too, this vaccine is highly dangerous and causes long term damage in all areas of the brain, and other organs of the human body, long term irreversible deterioration.',\n",
              " 'the total no of death in these 6 countries is 44,390 which is x6 of number of confirm cases in africa alone and these white supremacist dumbfucks still want to start testing the covid-19 vaccines in africa. africans are not lab rat',\n",
              " 'is anyone finding the timing of these vaccines coming out one after other in less than a year...uncanny?',\n",
              " 'people in a rush to get vaccine for a virus that was spreading the globe for 6 months while the government told us it was no big deal. now it’s a big deal right?',\n",
              " 'your body, your choice.. very true. what do we do when you have to have said vaccine passports for a job interview, drivers license, marriage license or even to enter certain establishments or public venues. the ramifications of such is what concerns me the most.',\n",
              " 'uk to offer under-30s alternative covid-19 vaccine amid evidence linking astrazeneca jab to blood clots but in australia, we look like guinea pigs are getting vax astrazeneca',\n",
              " 'i\\'m not anti vaccine i\\'m anti this \"vaccine\" not just because i dont trust it but the agenda behind it too.',\n",
              " 'you mean the mandatory vaccine from liberals who promote a false freedom ? and btw trump and biden are both corrupt ... why are acting like money doesn’t runt politics and money is evil so who runs who politics ? evil',\n",
              " 'i’m not taking a rushed vaccine. rushed vaccines can be dangerous and should only be allowed for viruses that cannot be controlled, covid can be controlled if people actually took it seriously.',\n",
              " \"if the threat was real and significant and the vaccine was safe and effective then surely healthcare workers wouldn't require any encouragement! 🤷\\u200d♂️\",\n",
              " \"via  who 'aware of 23 reported deaths' in norway after pfizer vaccination, seeks to follow probe\",\n",
              " 'imagine being fine for over a year and then erupting into celebration for getting an appointment to get an experimental vaccine that no one on earth knows what will happen because of said shot in the future....',\n",
              " \"good site. it's accurate. what are we injecting? the culling of the human race begins: see the horrifying ingredients in astrazeneca's covid-19 vaccine  via\",\n",
              " \"less than 10 million vaccines distributed in the us has been johnson and johnson because americans know they don't work well and they have killed people.\",\n",
              " 'major factors, chinese vaccine cannot put into the table, efficacy & transparency. the processes in the development, including clinical trials, which only god knows what is going on. hearing the regime to even put sinovac as one of the front runners is highly questionable.',\n",
              " 'successful cv19 drug, ivermectin is out of patent hence the push for a vaccine, which will hold a patent.. its all about the money......flamin psychopaths!!!!',\n",
              " 'a dna vaccine has never worked - and it has dangers of dna-integration into the human genome (unlike a mrna vaccine like moderna - which may not work, but doesnt have that danger). pls dont hurry with it.',\n",
              " \"he's not developing the vaccine because he doesn't know a thing about the medical field. but because he's stinking rich, he has a lot of influence and control as to how he (gates of hell) can fulfill his evil depopulation agenda. by the way, moderna is one that is developing it.\",\n",
              " \"all you who are against people not having the vaccine, can i ask why you've had the vaccine? as far as i'm aware you can still catch covid and still pass it on even if you've been vaccinated. covid passports have fuck all to do with covid.\",\n",
              " 'people don’t realize these court battles take time! even after a judge rules in your favor, it could be months before a settlement is reached. but the clock is ticking on this one. moderna is going to be forced to pay out if they want to sell their vaccine.',\n",
              " 'who will save those innocent people of india from over obsessed leader, a failed health minister and vaccine mafia',\n",
              " 'after the news broke that 23 elderly patients died in  following their immunization with the - mrna  against , the country has launched a detailed investigation into the reported fatalities that has shocked the world.',\n",
              " \"here in au they are about to test a covid vaccine on ferrets! why ferrets? didn't think animals could get covid.\",\n",
              " 'pfizer! the company fined billions for fraud, falsifying data, bribing drs, wants to make  vaccine ! and when that vaccine injures or kills, guess who cannot be sued for damages!!!',\n",
              " 'yes, the vaccine is rubbish. just like the flawed pcr test which in jason’s words is a ‘bit rubbish’',\n",
              " \"trump and dr. fauci had meetings with robert kennedy jr. about vaccines but a week later pfizer made a 1 million dollar contribution to trump's inaugural.🙄 also rfk is soon to publish a book on👇  !!!! 🤨\",\n",
              " \"your covid vaccine jab only protects you from severe illness... it does not stop you from catching and spreading the virus to anyone else, non vaccinated or vaccinated ! therefore there's no point in a vaccine passport..is there????\",\n",
              " 'dad-of-four, 48, died of covid after getting first dose of pfizer vaccine 2 days before he was diagnosed - the sun',\n",
              " 'suits them better to have the majority of the population terrified and compliant .... how would they make their mass millions back on the vaccine scam if the majority knew it could be treated with anti malaria drugs?',\n",
              " 'just say \"we don\\'t know.\" \"no proof\" \"no evidence\" \"no link\" \"no connection\" this is the part of the show where they play both ends.    swiss drugs regulator says no link between , death of 91-year-old',\n",
              " 'well if people are so scared of a virus that kills <0.5% then it’s likely they would also be scared of a hastily approved vaccine. the virus doesn’t worry me at all but even i wouldn’t have that vaccination.',\n",
              " 'no! you get locked down because boris johnson & co choose to do so. nothing to do with people who have & hadn’t had the vaccine deaths are zero! this says no lockdown. if the govt decide otherwise you only have them to blame!',\n",
              " \"how convenient,.it's like you had a crystal ball when you voted yesterday. i personally would have liked the truth and an apology. no thanks, i worked at pfizer and the nhs, i have my opinion on this vaccine\",\n",
              " 'we have become covid-19 obsessed and people will be paying a big price later this year. this is a silent lockdown worse in many ways then april. the vaccine does not work on the new strain some are saying so vaccines may not be the silver bullet',\n",
              " \"from the article as well. this is what is really scary - the possibility of no immunity. not sure how the vaccine will save us if we can't develop immunity.\",\n",
              " \"seems like a lot accepted the vaccine... a lot more than rejected even.... stanford was so wrong it shouldn't have even been leaked.\",\n",
              " \"johnson & johnson had asbestos in baby powder, what makes you think johnson & johnson won't put battery acid in covid vaccine?? if you are a vaccine influencer or you have cyril on your header ,don't comment.\",\n",
              " '1) covid itself has not killed hundreds of thousands 2) vaccine is only approved for emergency use 3) vaccine is new rna tech 4) this is not a killer virus, the death rate is .02%.....just for starters',\n",
              " 'don’t worry, they will figure out how to fudge the numbers right before the vaccine comes out, to encourage the uptake.',\n",
              " 'the same moderna vaccine trial that misreported antibody results, and had to backtrack to say only 8 subjects gained antibodies? the same trial that excluded subjects with obesity, heart conditions or respiratory issues, one of which affects the majority of america?',\n",
              " \"cdc: almost 400 reports of heart inflammation in children after pfizer's covid-19 vaccine -\",\n",
              " 'for ethical reasons, nobody should be forced to take a covid vaccine. pro-life group urges people to reject covid-19 vaccine over ties to aborted fetal tissue',\n",
              " 'so much propaganda evident in this video. not denying india helping on humanitarian grounds , however both the vaccines have been released without phase 3 trials. how can they release a vaccine which is in clinical trial mode !',\n",
              " 'shocking report on covid vaccine adverse effects: the roll-out continues anyway',\n",
              " 'again italian region stops using astrazeneca covid shots as teacher dies after vaccination: calls for vaccine to be suspended following reports of blood clots in norway',\n",
              " 'in argentina for a couple of years there is no passport, driving license, education or health care without vaccination. this has all been planned for a long time. evil.',\n",
              " '\"further investigation is clearly justified\" where is the investigation? \"98 million persons exposed to contaminated polio vaccine in the u.s from 1955 through 1961\" .',\n",
              " 'yes, they are cutting corners in their desperation to get a vaccine. when they have it they will be forcing it upon the population.',\n",
              " 'anyone who dies with 28 days of receiving an untested vaccine should have it recorded as a cause of death the news headline should read: \"people dying after having a covid 19 vaccine\" would that be a balanced bias?',\n",
              " 'turns out the elderly and vulnerable who have had multiple annual flu vaccines were the demographic that were most likely to die from covid 🤷🏼 not a great advert for the flu vaccine is it?the flu mortality even with a vaccine is huge',\n",
              " 'they will definitely not! our compliance is being bought with the maybe’s. you just know we will have vaccine resistant variants popping up all over the place. we need to wake up!! our gov’t is playing us!',\n",
              " \"covid vaccine booster shots for the delta variant are being over-hyped by drug companies • trump appointee, scott gottlieb, is still grifting americans into vaccination that's unnecessary, while africa is 98% unvaccinated.\",\n",
              " 'but we really do not understand the disease...we are still studying it but we have a vaccine.... from moderna??? who is making the money?',\n",
              " 'i used to get the flu shot every year however the covid vaccine was too rushed and i started looking into the flu vaccine. thanks to the rush job on covid i will never get a flu shot again.',\n",
              " 'tha vaccine isn’t grow prevention. it’s to help you after you catch the stuff',\n",
              " 'if u r paid $4k to test the moderna vaccine skipping animal testing, or hcq 200mg tid seven days and azm 500mg day 1, and 250mg daily for 4 days which one do you take?',\n",
              " 'the cdc can’t seem to get their shit together about this virus and they think i’m gonna get a vaccine for it? l o l',\n",
              " '\"oxford: blood-clot risk roughly same between all vaccines\" i said protectionism 2 months ago. and i still stand by this.',\n",
              " 'i have gca, treated with corticosteroids. despite having vaccinated the entire family, i won’t take a vaccine that doesn’t have detailed data on short & long-term side effects for my condition. i cannot afford a situation where i am unable to pay my mortgage.',\n",
              " 'uk government clearly massaging covid19 death figures. no one is dying from old age. what a farce!  get back to work.    we are not waiting for your vaccine or your big brother app. not accepting either. this is not china.',\n",
              " '3. large medical or employment networks, or governments, make the vaccine mandatory. this hasn’t happened, and i seriously doubt it will. i give this a less than 1% chance but you seem to think this is the most likely outcome. if this happens, i’m right there with you. 4. ...',\n",
              " 'who’s going to try trumpys new covid vaccine? as much as i hate him, i don’t wish your children to have no parents. if any of you have any sense at all, don’t try it. the vaccine hasn’t gone through phase 3 which deems it safe... ctd',\n",
              " 'no i’m stating what you see them as just because people don’t take the vaccine doesn’t make them an anti vaxer',\n",
              " \"2/16/2021 no autopsy performed after gloucester woman's death minutes after receiving pfizer vaccine\",\n",
              " 'what progress 😏? mrna moderna high risk of adverse effects, oxford vax neither prevents transmission nor infection. they should drop this nonsense and stick to hcq, ivm, budesonide, zn etc,,,',\n",
              " \"the covid-19 vaccine should be tested on politicians first. if they survive, the vaccine is safe. if they don't, the country is safe.😊😉\",\n",
              " 'tbf flu does kill more than covid and will do in the years to come as there is no proper vaccine for it, this guy is such a fucking jerk off though. does he really think the billions on that is good use of nhs money.',\n",
              " 'and potentially the most worrying thing - the nhs refusing treatments/visits to those not vaccinated. this is when most people will have to give in...',\n",
              " 'my uncle just turned 66, he passed away 3 days after taking the pfizer covid vaccination. i’m burying him today.',\n",
              " \"coronavirus vaccine created by  causes allergic reaction during uk wide trial stages. this is just 1 of a number of short term effects it can have, wait until the long term effects start to raise there head. it's evidently not ready to be rolled out.\",\n",
              " \"he just said that he'd give two vaccines to all the 3rd world countries. if it doesn't have anything to do with covid-19, that's okay, he'll lose the money. hey ., you deduct this from your taxes, well you don't pay any, and we must pay your deduction and your share!\",\n",
              " 'got us dependent on his second rate computer operating system. now he wants us be dependent on his vaccine. do you want a windows operating system in your body?',\n",
              " 'yep flu season is coming soon and they will say its covid to push the figures up to push people to take the vaccine!💷💷💷💷💷💷',\n",
              " 'here\\'s a clue...when you get a virus your body automatically get antibodies ... your body is designed to do better than a vaccine. keep putting that shit in your bodies and you will be like \"italy covid\" unable to fight survive a virus. don\\'t f with your immune system.',\n",
              " 'nothing is 100% safe, even tylenol has side effects which is in the moderns vaccine. i can take safe tylenol from home. your vaccines are rushed and people still got sick with covid-19 while taking the moderna vaccine. it’s not guaranteed to protect people from getting covid-19!',\n",
              " 'by the way, a little birdie told me the pfizer vaccine to not “technically” fda approved. 🤨 too much to tweet but some shenanigans went on behind the scenes.',\n",
              " \"if the cdc can't administer a vaccine for the correct strain, how can we trust them to develop a vaccine that's effective against coronavirus? sorry, they've lost so much credibility. i understand not all information was available. but too much false info was communicated\",\n",
              " 'the mainstream media seems to have been instructed by big pharma to keep the cameras in front of the morgue until the vaccines are brought. this strategic live reporting is key here to prove this pandemic true in the public eye.',\n",
              " 'vaccine will make some companies v rich!!',\n",
              " 'anyone with an ounce of intelligence when it comes to this global covid psyop and depopulation vaccine agenda is much like a brick of pure gold ,,they are out there but rare thanks to the global msm brainwashing and fear mongered programming...even real doctors',\n",
              " 'if you belive wikipedia ,i wish you lots of luck , its content changes few times a week. and we talk about mortality, this is the result of vaccination',\n",
              " \"the european union's drug regulator said on wednesday it is reviewing the death of a woman in belgium who suffered a blood clot and low platelets after receiving johnson & johnson's (jnj.n) covid-19 vaccine.\\u200b\",\n",
              " \"australia: woman's death 'related' to astrazeneca vaccine  via arutzsheva_en\",\n",
              " \"i only see two main possibilities - chadox1 did not protect the chimps despite being boosted and the challenge being 8 weeks after the 2nd jab because: a. it is not a very good vaccine or b. infectious dose is the difference. can't have your cake and eat it, oxford.\",\n",
              " 'why would we need a \"vaccine\" for a mild flu? people had better wake up.',\n",
              " 'the moderna candidate has markedly more common acute side effects. i suspect it may be slightly more effective overall, over time, but there is essentially no difference in the short run.',\n",
              " '6 days after     \"i was about 6 weeks pregnant when i received the vaccine on 12/26/20. i had a miscarriage on 1/1/21. i have a pregnancy history of one prior healthy full term pregnancy in 2019.\"',\n",
              " \"if the oxford astrazeneca vaccine becomes dominant due to low cost it will leading to a prolonged covid-19 pandemic because 30 to 40% will have no protection that's up to 2.8 billion people spreading what will be more virulent mutated strains fauci said 85% % is needed\",\n",
              " 'are liars, frauds & cheats, highest number of cases in the vaccinated.',\n",
              " 'why is fauchi and gates pushing a vaccine for covid-19 that is yet to be available, without any test on long term effects like ability to have healthy children for generations to come, all to save humanity from a virus that does not affect more than 1% of the population? money?',\n",
              " 'the media admitted most of those diagnosed with covid were vitamin d deficient. also according to the pentagon troops will not be required to take the vaccine as of now. so i don’t see the whole mandatory vaccine thing playing out well',\n",
              " 'because the vaccine for polio came out some years after polio first started. and yes we have “modern tech” but bruh, the covid vaccine came out months after covid first appeared with little to no trials and we’re still seeing covid. so please, let the questions come.',\n",
              " \"take this vaccine. not on your life! i love how when madagascar spoke of a herbal remedy there was no interest in studying it further. but now pfizer magicks a vaccine in record time - and it's roll out time. what a collusion!\",\n",
              " 'rejecting big pharma (merck and pfizer we are talking about you) is a wonderful idea. maine will end up healthier and happier and save millions of dollars.',\n",
              " '\" confirmed that two staff suffered an allergic reaction when given the new rushed out     💉 jab, on tuesday, on the first day of the mass vaccination programme!” it’s only day one! didn\\'t take long did it?',\n",
              " \"even the pfizer ceo is refusing to take his own vaccine because he knows it's designed to kill and sterelize people\",\n",
              " 'think it’s the ‘vaccine’ that will be used to control population.....there is no evidence covid-19 has a higher mortality than flu. average age of death with or without covid-19 is pretty much identical.',\n",
              " 'thank you! i appreciate your candor. i’m sorry that you didn’t have a medical professional who was forthcoming with the potential risks of vaccination.',\n",
              " 'former pfizer vp yeadon exposes how covid vaccines were fraudulently approved  - food for thought for us all…👇👇👇',\n",
              " 'wesley muhammad • december 16, 2020 black people have every reason to be profoundly suspicious of pfizer as pfizer has a history of doing horrendous medical experiments on black people for profit.  usa dnc gop',\n",
              " 'no need for vaccines, covid effectively over: ex-pfizer vp while pfizer had made headlines on the release of their covid-19 vaccine, its former vp and chief scientist has said that there is no need for any vaccines to bring the pandemic to an end.',\n",
              " 'hmmm, well done downplaying the adverse effects and changing to a such positive encouraging tone... this is what you should be reporting, a real testimony from luke h who shared his horrific side effect from moderna covid vaccine...',\n",
              " \"i'm strongly refusing it. to simply decline the vaccine when the powers that be are aggressively forcing it upon people under threat of unemployment is too polite under the circumstances.\",\n",
              " 'mercury does not make any vaccine safe or more effective.  mercury, like lead, (& like alcohol & other toxic substances & like asphyxia at birth) injures brainstem centers that have higher blood flow than any site in the cerebral cortex. damage is progressive & leads to dementia.',\n",
              " 'well, there goes any sort of need for pushing for the vaccine passport. these variants are immune to your inoculation if you already got it.',\n",
              " \"biontech won't be entering into my body. my body is mine under god for as long as my soul does dwell. my soul of life will not & is not made to be morphed with corruptible tech fools of the last 2 millenniums below. say no before they say yes!\",\n",
              " 'two nsw men die days after covid-19 vaccine. 🟡a 55 year old man from tamworth died in hospital last week about a week after rolling up his sleeve. 🟡a 71 year old sydney man has also died after getting the astrazeneca covid-19 vaccine.',\n",
              " 'i just saw on my feed the pfizer ceo is saying we will know if covid-19 vaccine works by the end of october.  i\\'m no virologist/pathologist, but isn\\'t \"works\" only 1/2 the equation?  \"safe\" is important, too. no?',\n",
              " 'i simply do not trust this pfizer vaccine. it is a tool of government control and oppression as there’s a drive into deep left field by castellanos and that’ll be a home run. and so that’ll make it a 4-0 ballgame. i don’t know if i’ll be putting on this headset again. i dunno if-',\n",
              " 'what are you trying to do to people?? what\\'s the end game for the person who hit \"send\" or the one who sanctioned it? do you know the damage you people are doing to the public\\'s mental health? there may never be an effective vaccine ergo lockdowns forever. you absolute maniacs!!',\n",
              " '71 y.o. ♀️    \"elevated wbc and showed monocytosis and possible blast cells ... was started on chemotherapy for diagnosis of aml during this admission ... patient remains inpatient, is intubated\"',\n",
              " 'mexican doctor hospitalised after receiving pfizer covid vaccine',\n",
              " \"yup! a vaccine is suppose to eradicate the virus this mess does not! it's medicine at best that it something that suppose to help you fight against it but it doesn't get stop it! because to me it's a biological warfare agent that may or may not have been put out on purpose!\",\n",
              " 'that is bcse fauci knows his moderna vaccine is a dud.shsssh,',\n",
              " \": in south africa they have a chinese president now, the chinese bought the country from the government, the vaccine they will get will turn all of them into mandarin speaking folks, and oh they no longer use the rand, it's crazy bro\",\n",
              " \"ever allow a contractor that's never built a house, to build your house? an engineer that's never built a bridge, to build a bridge?  and  mrna vaccine (a vaccine type that's never been engineered..app or used for, on humans before) is their first vaccine ever.\",\n",
              " 'at the start of this pandemic i was absolutely terrified of corona,but i still said i wouldn’t have the vaccine,now after all these months i know that it isn’t as dangerous to healthy people and i still won’t be having the vaccine',\n",
              " 'sputnik v also create blood clots issue,, its adenovirus vector based vaccine',\n",
              " 'covid-19: new zealand woman dies after pfizer jab, and sturgeon self-isolating',\n",
              " 'fear of fatal blood clots cited as spate of countries move to halt use of astrazeneca covid jabs:  via',\n",
              " \"people are increasingly sceptical of taking a vaccine for a virus with a mortality rate of 0.05% and for which the government itself cannot provide accurate or trustworthy stats. and let's not forget the legal waiver for pfizer who cannot now be sued for side-effects - ever.\",\n",
              " 'ah ok good to know, thanks! so travelling around the world vaccinated spreads the virus just the same as not vaccinated. so why the vaccine passport for travel? how does that help in not spread the virus globally? genuine question thanks.',\n",
              " 'forced vaccination is a made up construct done dilute the pool',\n",
              " 'how many times do you have to be told? how many western european’s are going to roll up their sleeves for putin’s vaccine just so he can cash in. f&&k the sputnik vaccine.',\n",
              " 'this is against their own rules that people cannot be forced to be vaccinated against their will.',\n",
              " 'sounds just as dangerous to me \"the oxford/astrazeneca vaccine delivers the genes in a genetically engineered “viral vector”',\n",
              " 'i share the concerns of prof .   prof , how does a vaccine candidate that has been approved & is being administered in india for use without proven phase 3 efficacy, give you hope? it raises alarms.  will you take the vaccine in uk or take covaxin in india?',\n",
              " 'your vaccine is an \"inactivated virus\" vaccine - just lung fragments of dead covid patients with inactivation done by passing thru uv-c light. and we know you have setup a supply base in pak for supply. but you\\'ll probably mutate the virus faster - means endless supply.',\n",
              " \"vaccine are useless all of them it's compromise ur system make u weak & easy prey for many diseases.  my children were only vaccinated once after being born i never followed up with the vaccination calendar, never been hospitalized with my children. they eat healthy & are healthy\",\n",
              " \"we still don't have a good vaccine for the flu. but, strange this year, that we don't have any flu deaths. i guess rhey are counted as covid, like everything else. you crooks don't fool us!\",\n",
              " 'most of us have vaccinated in the past and either we personally or a loved one were harmed. with the new vaccine requirements soon to come out its important people look into the ingredients and risks themselves by reading the shot box insert.',\n",
              " 'my mum is getting pains in her head three months from the first vaccine she is not going to have the second one what is wrong with it why are you not looking to do something about blood clots',\n",
              " 'pharma \"discovering\" a covid vaccine reminds of that seen from batman 2 where the penguin goes into city hall records vaults to \"search\" for his parent. they had this \"vaccine\" all along and it has nothing to do with sars.',\n",
              " 'what if the results had been negative and the vaccine didnt work? would you have wanted that data released before the election also? just to be \"transparent\"?',\n",
              " \"norway links 13 deaths to pfizer vaccine's side effects -\",\n",
              " '81y♀️    \"my mother was perfectly healthy for her age which can be attested to by her internist noted here in. within 10 days of the vaccine the symptoms of bulbar onset als started appearing.\"',\n",
              " '??the same dube who is allowing & promoting unscientific ill advised vaccine interval says this? ridiculous. u r afraid of variants? experts say u will contribute to more variants w this +90 day interval.i am scared for que. absolutely unaware and backwards covid leadership.',\n",
              " 'but wht a if it are give my son a autism again??? no t in this house. we dont need a vaccine when we havwe juses !!! amen...',\n",
              " 'wouldn’t pfizer want me to think they had a way to prevent the literal plague? wouldn’t that be great for pr? also, have you ever gotten smallpox? i’m willing to bet you haven’t! do you know how i know?',\n",
              " 'plus if its to show that the vaccine is safe she should have joined a trial, or waited fir the moderna vaccine. who’s going to show that its safe?',\n",
              " \"so the pfizer ceo hasn't taken the vaccine yet. and you all believe that everyone should have a shot of the vaccine?\",\n",
              " 'it wreaks of desperation and the last throw of the hat in a desperate situation created by their own ineptitude. it does not follow the science and the evidence providing the pfizer-biontech vaccine efficacy against the currently circulating strains has still not been provided.',\n",
              " \"rushed and new mrna tech never seen on the market before today, this isn't your ordinary vaccine. ex pfizer personnel know more than us and they dont want it\",\n",
              " 'this is the first vaccine that you have to get multiple times a year every year and still doesn’t prevent you from getting the virus? hmmm but the conspiracy theorists arnt always right',\n",
              " 'hangga’t hindi humaharap sa amin ang sinovac mismo, hangga’t kulang ang kanilang datos, the senate, in conscience, should not allow a single peso to be spent on sinovac’s covid-19 vaccine, especially if they fail to satisfactorily present convincing information about its safety.',\n",
              " 'i would rather take my chance with covid-19 than with this vaccine - till the international news media starts reporting improved efficacy of the oxford vaccine. i guess it will take a few months after that for the improved formulation to be available for the public in india.',\n",
              " \"i won't be getting a vaccine and your company won't be getting used by millions of people , 🤣\",\n",
              " 'haha trump will make sure you don’t give us the one you and gates had planned 🥰🇺🇸🇨🇦❤️ and don’t forget pfizer vp said we don’t need vaccines for your fake covid plan for agenda 2030',\n",
              " 'yes, the astra zeneca vaccine has been a massive fail, the world over. in the uk, it has been a disaster. 500 million doses worldwide & so many regrets. all of them, liberal shills.',\n",
              " \"coming down with measles in spite of being vaxxed (which happens since 3% of vaccinees don't develop lasting immunity) is not at all the same as coming down with vaccine-strain measles (which doesn't happen).\",\n",
              " '„these case series show that a number of previously healthy young people have so far been killed by the astra-zeneca vaccine. considering their age and underlying health status, the risk to them from covid-19 itself was infinitesimal.“',\n",
              " '\"british woman, 39, dies in cyprus in \\'blood clotting incident\\' days after receiving... 👉astrazeneca covid-19 vaccine.\"',\n",
              " 'it’s about 6 different vaccines in the same stages including the one you mentioned. i’m focused on the purely european one 😂😂 i don’t trust pfizer',\n",
              " \"whats the point of testing a vaccine on someone who doesn't have covid19, the vaccine is supposed to fight it yet the government is lying to the public again thinking this is a cure when its a placebo to keep the public from attacking them\",\n",
              " 'if the gov approves use of the cheap oxford vaccine, that can have efficiency less than half the others, who is it going to be given to? ethnic minorities? poor people? ghastly northerners? plebs? do you see the problem?',\n",
              " \"if you are <40, healthy & fit and have no conditions or situations that may put you at extra risk, you do not need a vaccine for  >99% natural recovery. if you've had the virus, you do not need a vaccine. the already very ill / very old / very fat should have 2doses. .\",\n",
              " 'are we dying of a ‘new variant’ or a ‘rushed vaccine’? 🤔',\n",
              " \"pfizer saved my life last time. this time, it won't work. oh well.\",\n",
              " 'any interesting input on vaers data yet? the read about fatal outcomes on frail patients is disturbing. deaths of elderly who recovered from covid-19, but died after vaccine, raise questions',\n",
              " 'the covid vaccine is created and not gone through all the testing but the gov wants you to get it. people do your homework, this is bio, its not like a flu shot~ it goes into your dna. look up mrna. if something happens its on you! scary tactic & lemming believe everything heard',\n",
              " 'and still the brainwashed will line up..... uk rolls out ‘resuscitation facilities‘ at corona vaccine centres  via',\n",
              " 'until the fda, and likely some other independent, non-politicized medical organization approves a vaccine, i refuse to inject my family with some rushed, minimally tested mystery cocktail. trump will rush something out way too soon, it is inevitable & we all know it.',\n",
              " 'worrying news about pfizer vaccine, antibody levels in elderly people decreased by 80 percent in 6 months',\n",
              " 'oh ah oh, miraculous \"moderna\" vaccine? so at the end is rather a nih vaccine right?',\n",
              " 'catastrophe: moderna’s corona vacc test subject ian haydon suffers major illness',\n",
              " \"fda - very fast in approving vaccine but won't approve medication like  as it's very cheap. your game is up, fda.\",\n",
              " 'pfizer the covid shot they intend to give your child!',\n",
              " 'michael yeadon, a former employee of pfizer, said that the government rollout of the covid-19 vaccine is an attempt at \"mass depopulation\" with booster recipients expected to die within two years.',\n",
              " 'why aren’t we hearing more about this and how many other healthy people may have died weeks after vaccine. your truly helping the conspiracy theorist. there is a lot more common sense opinions against vaccines than the crazy ones you report.',\n",
              " 'i’ve had the vaccine and i believe everyone should have it but you cannot create a two tier society and force people to take it. the govt has no right to tell people what to do with their own bodies.',\n",
              " \"petering out is the exact term i use. it's just another annual new corona virus. it's on its way out. talk of a vaccine is almost comical--except that its being pushed by a certain billionaire computer nerd that is obsessed with injecting people and seems to run cdc policy.\",\n",
              " 'y’all can go eat a bowl of dicks if you think i am going to take any covid vaccine.',\n",
              " 'long covid is post viral fatigue rebadged wrong. there are effective drugs that are cheap with little/no side effects. these were deliberately suppressed in order to push the vaccine. emergency status cannot be granted if effective treatment exists. these were surpressed',\n",
              " \"pfizer is a powerful player in the world of pharmaceuticals. i wouldn't be surprised if we learn in the future that only 1 vaccine could do the job, but if you tweak the research here & there & make it look like one requires 2 jabs then you stand to make a whole lot of money. 🤔\",\n",
              " \"your buddies from puppy moderna already selling 3rd dose or still waiting with the multi billion business? make sure you don't support development universal coronavirus vaccine unless for puppy of course\",\n",
              " 'the dangerous part of this issue is to be played out as the vaccine is distributed. ceo of pfizer could not answer questions about whether or not the vax will alter fertility. reminds us of the gardasil sterility issue for many girls.',\n",
              " 'more than a coincidence then that the 3 billionaires funding the pfizer vaccine have all stated that in their opinion the biggest problem we have is overpopulation.',\n",
              " 'yes and totally untested and a dangerous lottery ten percent of people will still get covid even if they have the jab no long term effects studied and pfizer’s last trial drug killed loads of children it cost them millions and i’m not an anti vacer, but i’m not stupid either',\n",
              " 'all good. pretty brave of you to be that open minded. research has proven that some vaccinations caused issues in kids. not all, but some. that’s after years of studies and refining. no thanks will me or my kids be anywhere near a new vaccine',\n",
              " 'you are going to mass inject vaccines that are so kak the companies who make them refuse to back them ? \"we as a company simply cannot take the risk if in ... four years the vaccine is showing side effects” :  can you imagine how that makes us feel?',\n",
              " 'shocking video: johnson & johnson: children don’t need the ‘f*cking’ covid vaccine – “unknown repercussions”  via',\n",
              " \"i'd honestly rather get a pentagram or 666 tattoo on me than carry around a vaccine passport that tracked me.\",\n",
              " 'this vaccine thing is starting to become more and more of a joke honestly, just nonsense. it’s like they don’t know what they’re doing. why rush to release something that’s clearly not effective enough, so many problems with this covid vaccine. no wonder no one wants trusts it',\n",
              " 'a covid vaccine is coming, and death is coming with it - lewrockwell',\n",
              " 'a product made by so many pharma products not even been tested, why speculate. my analysis was from beginning, it will not be success. pfizer vaccines are reporting reactions, now what',\n",
              " 'this oxford collage vaccine trial is funded by gates !!!!!!!!!!!!!!!!!!!!!!!! he is controlling the whole show we are being played for fools',\n",
              " '112-year odyssey of pertussis and pertussis vaccines—mistakes made and implications for the future | journal of the pediatric infectious diseases society | oxford academic \\u2066\\u2069',\n",
              " 'so can someone tell me why we need this scam vaccine when johnson and donald trump are supposed to have had covid-19 , so why can’t people get exactly the same treatment as they did as i remember boris made a big deal about the nhs saving his life but we have to save the nhs.',\n",
              " \"the phase i/ii trials of the 'oxford vaccine' (chadox1) pointed to very high rates of mild side effects (~60%). now, apparently a serious adverse event has occurred.\",\n",
              " 'pfizer warn against for that reason. they don’t tell ppl not to take their own medicines for no reason. i’m not against vax but for pregnant woman the pfizer vax should not be taken. if in the uk you went pregnant for this vax they wouldn’t administer it.',\n",
              " '1. the entire program is a disaster. 2. they are still promoting the chinese vaccine...which basically does not work. 3. without leadership from biden and the us, not much the rest of the world will do.',\n",
              " \"pfizer's covid-19 vaccine effectiveness is less than our natural survival rate without a vaccine.\",\n",
              " \"the vaccine that doesn't prevent transmission and therefore isn't a vaccine. it is still in trials making us guinea pigs and you think i am the naive one.... oh dear.\",\n",
              " \"i find it more and more disturbing by the day, is if people just let these lies go by like they're the holy grail of reason. vaccine passports are already being made in the uk. it's just depressing knowing how all this is gonna go yet stupidity is more dangerous than a virus lmao\",\n",
              " 'the moderna covid vaccine is like a good version of the second plane hitting the world trade centre. it means the first one was no accident!',\n",
              " \"eh that's nonsense mrna has been used loads. you're referring to a sars vaccine trial which wasn't mrna and didn't kill the animals. you don't even know the nonsense you're repeating no they are not better off doing that by a huge margin. no there are not lots of s/e\",\n",
              " 'some doubts about medical ethics, and maybe that russian vaccine is underrated - marginal revolution  there are no ethics in  or gold standard placebo testing would be mandatory like all other drugs in the world',\n",
              " \"and stay home forever.  i ain't going out, even with a mask, with that vaccine.  to them a serious illness with long-term consequences is just fine.  i'd rather just end up dead, thanks.\",\n",
              " 'the pfizer vaccine has been far more problematic than anticipated. this article misses a reported death in alabama. and the fact that only a few hundred vaccines were given in the alaskan hospital. 3 in 400 allergic reactions there. no prior allergies.',\n",
              " 'moderna ceo says the virus 🦠 won’t go away...so what was the point of this vaccine 💉 but to enrich insiders? « moderna insiders begin to cash out »',\n",
              " 'everyone involved in developing the covid-19 vaccine, from patrick vallance, jonathan van tam and andrew pollard to glaxosmithkline and astrazeneca, has a history of releasing unnecessary and dangerous vaccines onto the public. read about it in our report',\n",
              " 'covid vaccine must be first tasted in nigeria or zimbabwe.',\n",
              " 'ontario doctors know this is wrong, but  are cowards and won’t ask the pm about it. , canada, before it’s too late.',\n",
              " 'the nhs scotland tv ad for the ‘vaccine’...? 🤣🤣🤣🤣🤣🤣🤣🤣🤣🤣🤣🤣🤣. have these actors have no conscience at all? pathetic!',\n",
              " 'what’s ethical about an advert encouraging pregnant women to get vaccinated for their unborn babies sake when there’s no research?',\n",
              " \"buff_ly: 'us investigates death of woman who received johnson & johnson vaccine '\",\n",
              " 'can halve the deaths due to  google facebook twitter are controlled by big pharma lobby that want to make trillions withthe vaccine switch to',\n",
              " \"well of course biontech will say it doesn't affect their vaccine candidate. they are looking at this from a business pov. so they will say it still works so they can keep pushing it. even if the actual efficacy dropped.\",\n",
              " 'doctors speak out. listen‼️ (so when the vaxx deaths occur, will they be blamed on covid?)',\n",
              " '\"at last, we\\'re going to give health workers an untested vaccine (that hasn\\'t passed eu standards)\" sounds like great news. if i worked for the nhs, i\\'d tell them to go stick their needle up boris johnson\\'s arse.',\n",
              " 'this is outrageous but it shows how the  is controlling what ppl have access to. fired for speaking  informing the populace  needs to   tell  to stuff it...',\n",
              " 'so you’ve a monopoly on truth? i’d much rather trust a respected physician with 50 years vaccine research, than your band of merry charlatans. were you aware that sage, who advise our government on all things covid, are on the payroll of the gates foundation? thought not.',\n",
              " 'georgia becomes third state to shut down johnson & johnson vaccine site after adverse reactions • people \"reacting\" isn\\'t the same thing as side-effects. i don\\'t think there\\'s anything wrong with the vaccine.',\n",
              " 'forget the numbers. if it was that deadly, you wouldn’t go out. it’s that simple. i work for £8.72 an hour in a shop 6 days a week. don’t wear a mask when i’m out shopping. don’t sanitize. i’m fine. the only russian roulette is with this vaccine. people are brainwashed.',\n",
              " 'the corona vaccine is more destructive than corona!six dies inpfizer corona vaccine trial six people died after receiving a test vaccine produced by american pharmaceutical company pfizer and german company bayon-tech,according tous food+drug administration.they lost themselves.',\n",
              " \"a florida doctor's wife just issued a warning about the pfizer vaccine, which she said was responsible for her husband's death.\",\n",
              " 'you can have my vaccine i would rather get covid 19 and get natural immunity. i would only have a 99.9% chance of survival sounds good to me.',\n",
              " 'not wanting to take the covid vaccine doesn’t necessarily make u an antivaxxer...i’m not anti vaccine i’m anti this vaccine that was crapped out in 7mnths with a 2 month trial. no i will not be the pharmaceutical companies test subject. i’ll continue staying my ass at home thx',\n",
              " 'i don\\'t buy \"critical role of vaccine in controlling pandemic\" it is only 1 of many options.  low vitamin d itself is correlated with covid hospitalization. many are cured through ayurveda, siddha too. cases declining even b4 vaccine.',\n",
              " \"keeping us safe? is that all you know how to say  he's not here to serve the people he's here to boil us slowly like frogs under rockefellers lockstep agenda bolshivism while he serves corporate interests like the id2020 microchip vaccine certificate\",\n",
              " '13 elderly patients die in norway after receiving pfizer covid-19 vaccine!',\n",
              " 'doesn’t care, he has already killed almost 250,000 americans and wants to make money off of a poison pfizer vaccine that will kill even more americans they way pfizer gave cancer to americans with zantac',\n",
              " \"that doesn't invoke confidence. it's experimental gene therapy. not even a vaccine. violates the nuremberg code. hard pass. enjoy.\",\n",
              " 'yeah cuz government and big pharma have made their money and scared people into the vaccine plus we have track and trace and pretty much the chinese social credit system beta version. well played. 🤪🤦\\u200d♂️👏',\n",
              " 'bribes is what governments do and governments taking bribes for this for a vaccination programme to lead to control us more',\n",
              " 'oh no - a moderna vaccine troll showed up to “debunk” doctors and researchers exposing the con.',\n",
              " \"better yet let's just open the country and get back to work. those that want the vaccine by all means get it. if you don't want it, don't get it. this is what being free is all about!\",\n",
              " 'pfizer is a massive pharmaceutical company which makes huge profits from its *very expensive*  vaccine. - it isn\\'t likely to put that position at risk by publishing critical data - it pushes a lot of data that discredit rivals - trial data are \"sketchy\" & incomplete',\n",
              " 'if my time is up its up dont give a fk had a great life no regrets so hancock keep your vaccine and your corona virus which you brought into this country and still bringing it in in plane loads as we speak ? and your not testing at airports ? more lies',\n",
              " 'if 1.3 billion take the pfizer vaccine, ~355000 will be dead as a direct \"serious side effect\" of it.....statistically speaking.',\n",
              " 'there are over 30 different strains of coronavirus, it is a mutating virus, uncontrollable, a vaccine for it will never be realistically found, its fantasy stuff, lockdowns aren’t the answer, just living with the virus is',\n",
              " \"oh, yes we can trust pfizer's (  rushed jab. it's so safe that, for the first time in british history, those who do not get it will have their civil liberties reduced. nothing to see here! 😏\",\n",
              " 'it seems to go together with the transgenic agenda, use dna human cell ( innovio ) or reprogrammes rnam ( moderna ) both this new generation of vaccin aimes ar genetically create irreversible change in the han body under the excuse to save mankind from covid. happening now today',\n",
              " 'or how how about vaccine enhanced disease pfizer is a wee bit worried about. page 49 of their fda briefing document.  and more here on this serious issue that may take 2 years to show up.',\n",
              " \"aren't you starting from scratch as israel discovered that 57 days after being doubly vaccinated there were no antibodies for covid in the blood tests they took from patients. pfizer/az stated shortly after that their vaccines wane over time.\",\n",
              " \"fda recommends watching for bell's palsy after taking the pfizer vaccine, cnbc report. folks this is no joke and you never know what detrimental side effects you may have on the long run. it's better to endure the hoax virus than take the vaccine.\",\n",
              " \"1) why the need to dilute the human medicines regulations? 2) pfizer vaccine study due to wrap up - 11 dec 2022. why talk of 'rolling it out' in 'dec 2020'!? 3) given the novelty of mrna vaccines, what studies can you highlight that show their safety over time?\",\n",
              " 'brazil health authority: covid vaccine trial volunteer has died  died from the vaccine developed by astrazeneca and oxford u. but testing to continue.',\n",
              " 'they’re not that different.  500,000 around the world die from it and that’s with a vaccine.  no one wears a mask for it.   most years the flu vaccination is around 45% but it’s sometimes above 50%.   i would agree that the flu and covid are challenging together.',\n",
              " \"i wouldn't take an mrna vaccine but the oxford one is based on more traditional methods. in any case, i had the virus and recovered so i don't require a vaccine in any case\",\n",
              " 'so what about the list of possible side effects in the vaccine inserts? parents should just ignore those? have they not been found through scientific study by the manufacturers of the vaccine?',\n",
              " \"it's safe they said. covid-19 vaccine: uk regulators warn people with history of 'significant' allergic reactions not to have pfizer/biontech jab.  via\",\n",
              " 'medical killer  the most significant, totally predictable and a void full medical killer is a covid vaccination.',\n",
              " 'psst. scientists have had decades to find a cure for rna viruses such as the flu and covid19. psst. a vaccine is not a cure. pass it on. covid-19 will mutate like any other flu. pass it on. think critically. pass it on.',\n",
              " \"smallpox dissipated on it's own. only 10-15% were ever vaccinated with that coxpox sludge or the more refined products that came after. that is how human populations win --by adaptation. yes, nature and time are the vehicles for real protection. experimenting on kids is satanic.\",\n",
              " 'okay, but the pfizer one can make women infertile... so why would we want more of it? hell, why would we want any of it?',\n",
              " 'mrc-5 is used in making the hepatitis a, polio, and varicella (chicken pox) vaccines.   mrc-5 is found in the lung tissue of 14 week old aborted males.   it’s said to be used in the new covid vaccine.   don’t believe me? look it up.',\n",
              " 'henry kissinger and bill gates want the same thing. one government for the entire world (the new world order). and for everyone of us slaves of this neo colonial empire to be tagged with a digital id which will be injected into us with gates covid vaccine',\n",
              " 'creepy joe’s fascist state says. put your masks back on. phuck off joe. dr fugazi claims he brought us the covid vaccine. bull shit you liar. president trump did. 100%.',\n",
              " 'some vaccines are using fetal tissue especially the one from oxford to treat covid. are they taking human life for a vaccine. not good if your pro life.',\n",
              " '\"the cure can\\'t be worse then the cause\" pfizer? good luck.',\n",
              " 'lisa shaw: radio presenter died ‘after suffering blood clots following oxford/astrazeneca covid vaccine’ – family says | uk news',\n",
              " 'anyone out there still believing shit will go back to normal after a vaccine? get your head checked.',\n",
              " 'mad fascist dictator johnson now wants to force you to take an experimental vaccine with no long-term safety profile. all this for a virus with 0.3% ifr. still think this is about a virus? 1922 committee must step in now and remove this communist lunatic!',\n",
              " 'if you have the vaccine within about 3 weeks of actually having had covid. you will definitely get something of a reaction! like having flu!',\n",
              " 'please explain to me why the new strains seem to have broken out in countries that large vaccine testing programs: britain, south africa and brazil??? and what are we to expect here now we’re mass vaccinating?',\n",
              " 'my take on the vaccine. some are dying, some are hospitalized, some have reactions but not deadly. next flu season, people who took the vaccine will get a big surprise. this vaccine will kill more than covid-19 and at a much faster rate. depopulation achieved.',\n",
              " 'covid has a higher survival rate without a vaccine than the flu does with. vaccine yet they locked our society down! all of this because the dems want their power back which kinda makes you wonder what are the dems afraid of! i think some powerful people r going down after 11/03',\n",
              " 'sorry is that the same vaccine that made my mum very ill and has given people deadly blood clots no one should be given an award until  address the issue with it',\n",
              " \"we're not even allowed to question government and media without being called far right. prof dolores cahill has the data to back up her claim that hydroxy works.  there's also evidence that a flu vaccine can make covid worse if you get it will you invite her on? if not, why not?\",\n",
              " \"exclusive interview: mom whose 14-year-old son developed myocarditis after pfizer vaccine no longer trusts cdc, public health officials • children's health defense\",\n",
              " 'makes me chuckle as they actually think there will be a coronavirus vaccine. there has never been any for the other six so he is basically saying that this is it. this is our life. fucking idiot',\n",
              " \"ex-head of pfizer's research (see: m yeadon & w wodarg), say this vaccine must stop, -that it has massive problems in initial testing, is showing effects of sterilization of those who take it. recall b gates and 500k women in africa who were sterilized in his vac tests. fact.\",\n",
              " 'oh ffs 🤦 i think when kids are vaccinated they will come after pets. big pharma need to keep pumping the numbers of sold vaccines 🤑🤡😂😂😂',\n",
              " 'i think alot is coming to light with vaccines even them stating that the covid vaccine was on pause for paralyzing someone makes people question more. when previously its been happening all along with no exposure. everything is under the light at the moment.',\n",
              " 'anyone that thinks  gonna slamdunk the rna corona virus vaccines for under 12 is nuts no matter what the  data says because fda gonna consider danger of virus vs vaccine and you look closely...vaccine may be more dangerous for kids. be ready for that outcome!',\n",
              " 'blood clots after receiving astrazeneca vaccine \"central venous sinus thrombosis is a very rare disorder that is previously not been known to be associated with vaccination,however it has been noted as a complication of people who have contracted covid-19\"',\n",
              " 'i actually got my flu shot this past fall-and have been in bed with the flu for the past week! apparently, this years vaccine didn’t work! 😷',\n",
              " 'yup and those that have the vaccine must sign that they forego any treatment for anything arising from it...not like pfizer have a history of it or anything',\n",
              " 'how tf they have a covid-19 vaccine already 🤔 don’t it take years to develop a vaccine and not 8 months',\n",
              " 'ready for the nursing home or real world ‘neo’ on the ‘red pill? or time to retire for a re-read of michel montaigne?  -19',\n",
              " 'and the vaccines are likely to be very profitable too. in fact if  then licences to rush out vaccines are likely to be reviewed and reversed see  tweets. plus  has sought and been granted immunity from side effects liability.',\n",
              " 'why are we being told this pfizer vaccine will be ready for next winter when their own study states it will not be ready until dec 2022',\n",
              " 'a senior catholic archbishop has warned he is “deeply troubled” by australia’s vaccine deal with astrazeneca, saying the potential vaccine uses a fetal cell line that creates an “ethical quandary” for christians.',\n",
              " 'my friend has just had pfizer vaccine, she is feeling quite ill today, can’t walk properly. she’s over 89 with lung tissue scarring.',\n",
              " \"i'd rather have covid than be injected with a covid vaccine produced under the direction of that lunatic in the white house\",\n",
              " 'i don’t understand! this vaccine is poison! why is trump or you pushing it?',\n",
              " 'after several days of suffering, i have beaten the covid vaccine/mind control shot. i had a sinus infection at the same time as the vaccine and got sick as heck. i regret nothing',\n",
              " \"if the vaccine doesn't prevent transmission of the virus but prevents death from covid (but not from comorbidities obviously) how will we know if it works based on the way deaths have been reported? people will still die with covid, right?\",\n",
              " 'the culling of the human race begins: see the horrifying ingredients in astrazeneca’s covid-19 vaccine – absolute truth from the word of god',\n",
              " 'pfizer is pretty comfortable too with every one getting a vaccine. this is a business. this is not about health.',\n",
              " 'within the month, we have discovered that astra zeneca who was one of the sponsors for the conference, developed a vaccine that causes blood clots.',\n",
              " 'the ....not one damned but cute. even bill gates admitted this \"vaccine\" (which, by fda\\'s standards, it absolutely is not) was going to kill 77,000 people. the same bill gates whose polio vaccine actually murdered tens of thousands. no, thanks...i\\'m good.😒',\n",
              " 'that’s why covid passports are useless, quite apart from philosophically repugnant. pfizer now saying we’ll all need three boosters a year … (and of course the do.)',\n",
              " 'pfizer as a company has a loonnng list of lawsuits reasons not to trust them. easy search and you’ll find it. but don’t rely on your news source to bring news like this to you. remember money speaks',\n",
              " \"this means nothing!!! the vaccine isn't 100%!!! and it needs two doses!!! everyone knows this already!!! vaccinated us nurse contracts covid-19, expert says pfizer shot needed more time to work - abc\",\n",
              " 'cdc investigates death of virginia woman who died after getting the johnson & johnson vaccine | daily mail online',\n",
              " 'also sunak has shares in the moderna vaccine in which they are looking into vaccinating secondary school aged children. in which there is not enough research on its safety in children.',\n",
              " 'blood lots from both the astrazeneca vaccine and from catching covid can have dire consequences, with the risk being near to 200 times higher for the infection. blood clot risk much higher from covid-19 than vaccines',\n",
              " 'the vaccine wasn’t created for covid... covid was created for the vaccine....',\n",
              " 'why are you injecting disinfectants into your own body? don’t believe you are? ever heard of a vaccine? two common ingredients in vaccines: thimerosal = disinfectant formaldehyde = disinfectant prove me wrong.',\n",
              " \"it's literally impossible to make a vaccine that will not harm 100% of end users specifically because each and every human reacts differently to different chemicals & biologicals.  making something that works for 80%+ is the best anyone can do.  you people really have no clue.\",\n",
              " 'great ...so the majority of australians will be given a covid-19 vaccine  that will not protect us from the virulent strains of the virus !',\n",
              " \"my current drumbeat covid-19 is a sars variant if over all these decades they haven't been able to develop a vaccine for any sars variant, why would they suddenly be successful now? i'm skeptical. if they claim they have i suspect they'll be selling snake oil. who's to know?\",\n",
              " \"exactly moderna.....in which daddy has a financial interest.....exactly why no one will get it....sticking with fauci...wer'e not 'all' ignorant!\",\n",
              " 'why would anyone want to have mrna injected into themselves? please do your own research before having the vaccine. actually, it’s isn’t a vaccine. look it up, please. you can’t remove it from your body once you take it.',\n",
              " \"they'll also tell you, when it's convenient, that they don't fully understand covid yet. so how is it possible to manufacture en effective vaccine for something you don't fully understand?\",\n",
              " \"gov gordon: another of ur infamous mds, gottlieb: on tv admitting pfizer (he's a pfizer board member) may have to shelve vaccine trials d/2 lack of virus prevalence. a big “l” for team apocalypse bill gates&big pharma, and those on their payroll, but good news for humanity. 🇺🇸\",\n",
              " 'for what purpose. vaccination is not ending our house arrest so seriously what is the point ?',\n",
              " 'the first covid vaccine that i definitely will not take 🏆',\n",
              " 'what’s next? people won’t be allowed to go to the supermarket to buy groceries, to live, without being jabbed or showing proof thereof? vaccine certificates are the armbands of this day and age.',\n",
              " \"anyone up to volunteer for the latest car-crash of the  ? didn't think so. best skip this one.  4 german care workers rushed to hospital after pfizer coronavirus vaccination, claims that 8 received 'accidental overdose'\",\n",
              " 'yep— studies are comprised for sure. less than 200 got covid in pfizer’s rct across over 30k healthy people. it’s impossible to judge anything with that. worthless rct. not to mention no long term research into health outcomes.',\n",
              " \"they could try that, but i'd recommend they read this first, if they want their pfizer vaccine to be rolled out.\",\n",
              " \"me too. friends and allies who were rabidly pro covid rules not too long ago are starting to listen. we just need a critical mass who will refuse the vaccine. that's the battle now. that's what will end all of this.\",\n",
              " \"i'm not anti vax but don't want nano particles of aluminium in my blood stream. we don't want diphtheria and polio back either. so what's the solution? having mumps reduces chances of ovarian cancer because it activates the same immune pathway. vax doesn't do that.\",\n",
              " 'covid downgraded from high infectious disease back in march 2020, pcr tests that don’t pick up infectious viruses (currently flu season or flu jab symptoms will show as positive) vaccine that don’t protect you or anyone else, witty £60k shares on pfizer, so many faults 🤷\\u200d♂️',\n",
              " \"everyone has to keep retweeting this message - the public are being coerced into being part of an experiment that could kill, disable or make them infertile. the vax does not prevent infection & no guarantees of safety are given by the manufacturer. all on pfizer's own web site.\",\n",
              " 'we\\'ve become a nation of scientifically illiterate, bedwetters, happy to accept fudged figures & draconian restrictions on our freedoms for a virus with +99% recovery rate, desperate to swap natural immunity for a corporate \"vaccine\" in return for a \\'normal\\', forcibly removed.',\n",
              " 'more marketing, ethically bankrupt tampa bay time published mar 19 why europe suspended astrazeneca’s covid-19 vaccine a dozen european countries suspended use of oxford-astrazeneca vaccine after reports that blood clots had developed in numbers of vaccinated patients',\n",
              " 'i’m not taking a russian vaccine until a cuban doctor tells me it’s ok.',\n",
              " 'once again johnson in his wisdom has sanctioned that 2nd dose of vaccine to be given in 12 was despite all the scientists saying 3 weeks. more herd immunity? no other country support this i was invited but not going to take part in johnson’s drugs trial',\n",
              " 'i have severe allergies. i went into anaphylaxis the last time i had a flu shot. i have been told not to take the vaccine. am i to be treated like a leper because i legitimately cannot take the vaccine?',\n",
              " 'it has become evident that our prime minister scott morrison is aligning himself with international vaccine companies such as astrazeneca that are morally bankrupt (having a history of being severely fined for false claims, kickbacks and bribery and unapproved promotion of',\n",
              " 'some people who took the pfizer vaccine are developing paralysis. fda is \"keeping surveillance\" for more instances of paralysis. we are not weird for not wanting it.',\n",
              " 'anyone getting the covid vaccine is likely to get this or worse!',\n",
              " \"then take the vaccine if you're good with that. this vaccine will not provide a life time of prevention against covid. and no one i know who has had covid has gotten bell's palsy. it's a side effect of the vaccine which is not normal vaccine like the flu vaccine. duh.\",\n",
              " 'i believe that the covid-19 virus is a completely a hoax because of the federal government wants to control us and to be lab rats for the rest of our life and the vaccine 💉 is actually use for mind control and i believe that covid-19 is completely a hoax.',\n",
              " 'oh&they’ve had many decades to figure out what causes vaccine injury but failed for some strange reason leaving billions to play russian roulette with their lives. it then turns out they can’t read cbcs properly or diagnose hypoxia or even simple macrocytosisµcytosis. well',\n",
              " 'if this is the reaction, count me out of moderna’s vaccine.  via',\n",
              " 'no to the demonic vaccine no to the vaccine passport.. bill gate and biden re demons',\n",
              " 'that’s not what fauci is saying. he’s saying masks should continue to be worn bc having the vaccine doesn’t mean you can’t still contract covid.  so what good are these vaccines?',\n",
              " 'i will never be a pfizer customer breakthrough cases will become more common btw, covid immunity wanes over time especially in people who are obese, middle-aged, and elderly',\n",
              " 'i using the morning sickness drug as an example of a drug that’s been designed for a specific purpose it fucked up countless lives if you have seen a teenager having thalidomide , covid vaccine just was not tested for long enough. and some of us are sceptical,',\n",
              " '- just asking if perhaps those nurses injected the whole content of the vaccine bottle instead of just the required dose? norway urgently changes covid vaccine guidance after 23 die in days following pfizer jab',\n",
              " 'add to that, nih scientists hold patents ($$$) for the covid vaccine by moderna which is being fast tracked and jumping past animal trials and going straight to human testing.',\n",
              " 'same piece said 25% remain at risk of death because of the efficiency rate and % of people who will get the vaccine. which is true, i guess but following that logic everyone is at risk of dying in a car crash or getting cancer.',\n",
              " 'utterly bananas to rush this pfizer product to market. pfizer received the biggest criminal fine in history for dodgy products- and we’re the first country to get their vaccine because we’ve given them immunity from prosecution if it goes wrong.',\n",
              " 'healthy south florida doctor dies from strange side effect 2 weeks after receiving pfizer covid-19 vaccine',\n",
              " \"this is a very good thread, thank you. another 'theory' that i'm seeing a bit of, is that the mrna vaccine can be incorporated into the host dna via a reverse transcriptase / integrase combo, from endogenous retrovirus elements. which strikes me as very, very, very unlikely!\",\n",
              " 'hooray ! finally a vaccine for a cold with a 99.998 survival rate!!',\n",
              " \"and why didn't scam-damn say that pfizer state if you are on any other medication you should not have their jab, because they've done no tests to identify interactions with other meds! that is a damn important point!\",\n",
              " 'coronavirus: lockdown deaths, not covid deaths – moderna covid-19 vaccine induced adverse reactions in “more than half” of trial participants – lockdowns return across india as covid-19 cases near 1 million',\n",
              " \"news dude: moderna president says their vaccine covers the covid-1984 variants moderna's asshat president: people will be able to get a booster shot narrator [me, the narrator is me]: so that was a lie\",\n",
              " 'do these \"coincidences\" ever end?  ontario first nation residents given expired coronavirus pfizer vaccine |',\n",
              " 'wtf. \"... j&j paused trials of its vaccine earlier this month after a subject became ill\". claimed it was unrelated. more results not excuses! \".. couldn\\'t release more information because of patient confidentiality\" bs i don\\'t want patient names, just more proof its unrelated.',\n",
              " 'feels a little like  covering its backside just in case!! i mean, what could go wrong????',\n",
              " 'important article that should be read by all true, normal, decent, moral,patriots of our nation & all other western nations! these \"elite\"scum are absolute evil, corrupt satanic demons!developers of oxford-astrazeneca vaccine tied to uk eugenics movement',\n",
              " 'they want to either kill us by the virus or the vaccine. illiterate people 😡😡😡',\n",
              " 'so, when you meet with big pharma to ask them to expedite the covid-19 vaccine; my worry is what you and they (both unscrupulous), are going to cook up to make your admin look good. i have no doubt.',\n",
              " \"seriously? why would you be worried if a vaccine worked? it really shouldn't matter being surrounded by covid if the vaccine worked. seems like you have no trust in your vaccine. use logic, mr. yang, and stop your authoritarian impulses. mayor? i think not.\",\n",
              " 'do not trust this vaccine . remember that johnson &johnson baby powder gave women ovarian cancer',\n",
              " \"it is unlikely that covid vaccines will have much impact on epidemics. the efficacy reports on most vaccines are fake statistics. pfizer's vaccine is known to have side effects that can be worse than covid.\",\n",
              " \"the vaccines the government's are going to roll out for the masses, be very mindful of the 1918 - 1919 spanish influenza pandemic whereby 50 million people died worldwide, not from the virus but from the national vaccine program announced goal of vaccinating every person, ..\",\n",
              " 'the over 65 flu vaccine 4 me was a disaster last september. never had the flu so violent in my life. like covid-19 . targeted the wrong strain, but was told even if so, definitely would be less severe case. losing faith in these vaccines. took a flu shot for 25 years. not now!',\n",
              " 'a globally co-ordinated drive for nations to enforce vaccine passports not just for international travel, but also for entertainment & social gatherings.  that’s not going to raise suspicions about totalitarian world government crushing freedom of assembly at all, is it? 🤦\\u200d♀️',\n",
              " 'the evidence is clear that anyone at risk will want to get themselves vaccinated. which should be voluntary. especially as the evidence is not strong that vaccination stops spread.',\n",
              " '🚨👇did you hear about this?a healthcare worker in alaska received the experimental cv vacc on tuesday & had anaphylactic shock reaction like the 2 in the uk.but,has no history of any allergies watch\"heads-up: \"glitches\"begin to surface in pfizer roll-out\"',\n",
              " 'the medical community is racing to understand why six people developed blood clots in their brains after receiving the johnson & johnson vaccine.\\u200b',\n",
              " 'i am concerned that males aged 16-30 might be forced to vaccinate against covid and be encouraged to use pfizer. this vaccine causes myocarditis in 1 in 3000-6000 of this cohort. if occurs on the second dose. what happens when we need boosters - dose 3. 4. 5',\n",
              " \"pfizer data is 3 months old. find a us state with positivity rate below 2%. pfizer vaccine is a mrna variant that requires 2 shots over a 21 day time period. immunity doesn't start till 28 days from 1st shot. pfizer should test in high infection area with positivity rate at 50%.\",\n",
              " 'vaccines also have unintended consequences. we still do not have a vaccine for aids or ebola. are we to believe we can develop one for chinese flu this fast?',\n",
              " 'serum institute of india denies oxford vaccine volunteer claims  perfectly healthy before vax (trial requires) got vax, developed life threatening life long illness but just another coincidence. remember pharma has zero liability',\n",
              " \"the vulnerable groups have been vaccinated that was the goal but this is now about government control the virus is now just an excuse the young don't need this vaccine nor does anyone fit under 50 we must stop this state control    via\",\n",
              " '“misinformation” is another term for “we don’t like the information”. parents of children that have been injured from vaccines and won settlements in the court of law have been censored. also, if the covid vax injures you, they have no liability.',\n",
              " 'i’ve had covid recently. not only do i not need the vaccine, the advice is not to have it for 3-6 months after recovery. do i now get ostracised for achieving immunity?',\n",
              " '\\u2066\\u2069 doing business with oxford is doing business with the ccp. no mandatory vaccines for australians ever \\u2066\\u2069',\n",
              " 'go ahead and take the vaccine when it comes out- in fact, why don’t you go and volunteer for moderna clinical trials. i mean, the fda wouldn’t allow you to do anything that’s unsafe, right?',\n",
              " ...]"
            ]
          },
          "metadata": {},
          "execution_count": 28
        }
      ],
      "source": [
        "list_of_tweets = df['cleaned_tweet'].to_list()\n",
        "list_of_tweets"
      ]
    },
    {
      "cell_type": "code",
      "source": [
        "df.columns"
      ],
      "metadata": {
        "colab": {
          "base_uri": "https://localhost:8080/"
        },
        "id": "VlVh7LUMIKJY",
        "outputId": "ef30e3a8-89de-401f-ea0c-efcfa2518d0b"
      },
      "execution_count": null,
      "outputs": [
        {
          "output_type": "execute_result",
          "data": {
            "text/plain": [
              "Index(['ID', 'tweet', 'labels', 'cleaned_tweet'], dtype='object')"
            ]
          },
          "metadata": {},
          "execution_count": 29
        }
      ]
    },
    {
      "cell_type": "markdown",
      "metadata": {
        "id": "GWb2O4n9q7rR"
      },
      "source": [
        "#Tokenization"
      ]
    },
    {
      "cell_type": "code",
      "execution_count": null,
      "metadata": {
        "id": "OgB_D2-bmC-m",
        "colab": {
          "base_uri": "https://localhost:8080/"
        },
        "outputId": "046035c2-58bd-49aa-b564-b74ed10d8aa8"
      },
      "outputs": [
        {
          "output_type": "stream",
          "name": "stdout",
          "text": [
            "102\n"
          ]
        },
        {
          "output_type": "execute_result",
          "data": {
            "text/plain": [
              "{'input_ids': tensor([[  101,  2004,  6494,  ...,     0,     0,     0],\n",
              "        [  101,  2009,  4269,  ...,     0,     0,     0],\n",
              "        [  101,  2092,  1010,  ...,     0,     0,     0],\n",
              "        ...,\n",
              "        [  101,  1013,  1013,  ...,     0,     0,     0],\n",
              "        [  101,  5448,  1024,  ...,     0,     0,     0],\n",
              "        [  101, 12897,  2085,  ...,     0,     0,     0]]), 'attention_mask': tensor([[1, 1, 1,  ..., 0, 0, 0],\n",
              "        [1, 1, 1,  ..., 0, 0, 0],\n",
              "        [1, 1, 1,  ..., 0, 0, 0],\n",
              "        ...,\n",
              "        [1, 1, 1,  ..., 0, 0, 0],\n",
              "        [1, 1, 1,  ..., 0, 0, 0],\n",
              "        [1, 1, 1,  ..., 0, 0, 0]])}"
            ]
          },
          "metadata": {},
          "execution_count": 30
        }
      ],
      "source": [
        "from transformers import DistilBertTokenizer\n",
        "\n",
        "tokenizer = DistilBertTokenizer.from_pretrained('distilbert-base-uncased')\n",
        "token_lens = df['cleaned_tweet'].apply(lambda x: len(tokenizer.encode(x, truncation=True)))\n",
        "max_length = token_lens.max()\n",
        "print(max_length)\n",
        "tokenized_data = tokenizer(list_of_tweets, truncation=True, padding=True, max_length=max_length, return_tensors='pt')\n",
        "tokenized_data"
      ]
    },
    {
      "cell_type": "code",
      "source": [
        "tokenized_data['input_ids'].shape"
      ],
      "metadata": {
        "id": "NarCif6SFEWy",
        "colab": {
          "base_uri": "https://localhost:8080/"
        },
        "outputId": "b4a5856b-1ffb-41bf-cadc-ec54d2c4aabc"
      },
      "execution_count": null,
      "outputs": [
        {
          "output_type": "execute_result",
          "data": {
            "text/plain": [
              "torch.Size([9921, 102])"
            ]
          },
          "metadata": {},
          "execution_count": 31
        }
      ]
    },
    {
      "cell_type": "markdown",
      "metadata": {
        "id": "7RYHli7rncGY"
      },
      "source": [
        "###checking whetehr gpu is available"
      ]
    },
    {
      "cell_type": "code",
      "execution_count": null,
      "metadata": {
        "id": "ASm2jDuib2X1",
        "colab": {
          "base_uri": "https://localhost:8080/"
        },
        "outputId": "ae45b98c-191c-4d46-d9f9-e218defb88f5"
      },
      "outputs": [
        {
          "output_type": "stream",
          "name": "stdout",
          "text": [
            "True\n"
          ]
        }
      ],
      "source": [
        "import torch\n",
        "print(torch.cuda.is_available())"
      ]
    },
    {
      "cell_type": "markdown",
      "metadata": {
        "id": "PaEUaB4FqeSB"
      },
      "source": [
        "#Dataset and Dataloder"
      ]
    },
    {
      "cell_type": "code",
      "execution_count": null,
      "metadata": {
        "id": "7qYrn3VuriAb"
      },
      "outputs": [],
      "source": [
        "from torch.utils.data import TensorDataset, random_split, DataLoader\n",
        "from sklearn.preprocessing import MultiLabelBinarizer\n",
        "\n",
        "# Assuming you already have 'tokenized_data' and 'df' available\n",
        "\n",
        "# Encode labels using MultiLabelBinarizer\n",
        "labels_list = df['labels'].str.split().tolist()\n",
        "label_encoder = MultiLabelBinarizer()\n",
        "encoded_labels = label_encoder.fit_transform(labels_list)\n",
        "labels_tensor = torch.tensor(encoded_labels)\n",
        "\n",
        "# Create a TensorDataset\n",
        "dataset = TensorDataset(tokenized_data['input_ids'], tokenized_data['attention_mask'], labels_tensor)\n",
        "\n",
        "# Shuffle the entire dataset\n",
        "indices = torch.randperm(len(dataset))\n",
        "\n",
        "# Split the shuffled dataset into train, validation, and test sets\n",
        "train_size = int(0.7 * len(dataset))\n",
        "val_size = int(0.15 * len(dataset))\n",
        "test_size = len(dataset) - train_size - val_size\n",
        "\n",
        "train_indices = indices[:train_size]\n",
        "val_indices = indices[train_size : train_size + val_size]\n",
        "test_indices = indices[train_size + val_size :]\n",
        "\n",
        "train_dataset = torch.utils.data.Subset(dataset, train_indices)\n",
        "val_dataset = torch.utils.data.Subset(dataset, val_indices)\n",
        "test_dataset = torch.utils.data.Subset(dataset, test_indices)\n",
        "\n",
        "# Create DataLoader instances for each set\n",
        "batch_size = 16\n",
        "\n",
        "# Training DataLoader\n",
        "train_dataloader = DataLoader(train_dataset, batch_size=batch_size, shuffle=True)\n",
        "\n",
        "# Validation DataLoader\n",
        "val_dataloader = DataLoader(val_dataset, batch_size=batch_size, shuffle=False)\n",
        "\n",
        "# Testing DataLoader\n",
        "test_dataloader = DataLoader(test_dataset, batch_size=batch_size, shuffle=False)\n"
      ]
    },
    {
      "cell_type": "code",
      "execution_count": null,
      "metadata": {
        "id": "RWCkRUQggp8S",
        "colab": {
          "base_uri": "https://localhost:8080/"
        },
        "outputId": "d7c1c53a-8c90-4d73-858d-e414a6cc528d"
      },
      "outputs": [
        {
          "output_type": "execute_result",
          "data": {
            "text/plain": [
              "torch.Size([9921, 12])"
            ]
          },
          "metadata": {},
          "execution_count": 34
        }
      ],
      "source": [
        "labels_tensor.shape"
      ]
    },
    {
      "cell_type": "code",
      "execution_count": null,
      "metadata": {
        "id": "0fHKRsk4kKvy",
        "colab": {
          "base_uri": "https://localhost:8080/"
        },
        "outputId": "fe8ada0f-60a4-46d8-9c21-f8b1ef8b8a0b"
      },
      "outputs": [
        {
          "output_type": "stream",
          "name": "stdout",
          "text": [
            "['conspiracy' 'country' 'ineffective' 'ingredients' 'mandatory' 'none'\n",
            " 'pharma' 'political' 'religious' 'rushed' 'side-effect' 'unnecessary']\n"
          ]
        }
      ],
      "source": [
        "print(label_encoder.classes_)"
      ]
    },
    {
      "cell_type": "code",
      "execution_count": null,
      "metadata": {
        "id": "v15N_O_OkoDZ"
      },
      "outputs": [],
      "source": []
    },
    {
      "cell_type": "markdown",
      "metadata": {
        "id": "fYp1xqNte4xF"
      },
      "source": [
        "#Model for classification"
      ]
    },
    {
      "cell_type": "code",
      "execution_count": null,
      "metadata": {
        "id": "VeIcCw-8V0Dd",
        "colab": {
          "base_uri": "https://localhost:8080/"
        },
        "outputId": "ff14a815-0cb6-4444-f126-43e3232c6cb4"
      },
      "outputs": [
        {
          "output_type": "stream",
          "name": "stderr",
          "text": [
            "Some weights of DistilBertForSequenceClassification were not initialized from the model checkpoint at distilbert-base-uncased and are newly initialized: ['classifier.bias', 'pre_classifier.bias', 'classifier.weight', 'pre_classifier.weight']\n",
            "You should probably TRAIN this model on a down-stream task to be able to use it for predictions and inference.\n"
          ]
        }
      ],
      "source": [
        "from transformers import DistilBertForSequenceClassification\n",
        "\n",
        "model = DistilBertForSequenceClassification.from_pretrained('distilbert-base-uncased', num_labels=len(distinct_labels_list))\n"
      ]
    },
    {
      "cell_type": "markdown",
      "source": [
        "##weights balance"
      ],
      "metadata": {
        "id": "IRcDzOf76Fd7"
      }
    },
    {
      "cell_type": "code",
      "source": [
        "# Assuming ordered_classes is the correct order\n",
        "#ordered_classes = ['conspiracy', 'country', 'ineffective', 'ingredients', 'mandatory', 'none','pharma', 'political', 'religious', 'rushed', 'side-effect', 'unnecessary']\n",
        "\n",
        "# Frequencies of each class\n",
        "ordered_classes = label_encoder.classes_\n",
        "print(ordered_classes)\n",
        "class_frequencies = {\n",
        "    'conspiracy': 487,\n",
        "    'country': 201,\n",
        "    'ineffective': 1672,\n",
        "    'ingredients': 436,\n",
        "    'mandatory': 783,\n",
        "    'none': 629,\n",
        "    'pharma': 1273,\n",
        "    'political': 626,\n",
        "    'religious': 64,\n",
        "    'rushed': 1477,\n",
        "    'side-effect': 3805,\n",
        "    'unnecessary': 722\n",
        "}\n",
        "\n",
        "# Calculate inverse class frequencies\n",
        "total_samples = sum(class_frequencies.values())\n",
        "class_weights = {cls: total_samples / freq for cls, freq in class_frequencies.items()}\n",
        "\n",
        "# Normalize weights\n",
        "total_weight = sum(class_weights.values())\n",
        "normalized_class_weights = {cls: weight / total_weight for cls, weight in class_weights.items()}\n",
        "\n",
        "# Display normalized weights\n",
        "for cls, weight in normalized_class_weights.items():\n",
        "    print(f\"{cls}: {weight:.4f}\")\n",
        "\n",
        "# Convert weights to a list in the order of your classes\n",
        "normalized_ordered_class_weights = [normalized_class_weights[cls] for cls in ordered_classes]\n",
        "normalized_ordered_class_weights\n",
        "# Now, you can use normalized_ordered_class_weights in your BCEWithLogitsLoss\n"
      ],
      "metadata": {
        "colab": {
          "base_uri": "https://localhost:8080/"
        },
        "id": "xFOoX9MF6Ph6",
        "outputId": "314af532-a0dc-4821-b0a8-f85e319b895b"
      },
      "execution_count": null,
      "outputs": [
        {
          "output_type": "stream",
          "name": "stdout",
          "text": [
            "['conspiracy' 'country' 'ineffective' 'ingredients' 'mandatory' 'none'\n",
            " 'pharma' 'political' 'religious' 'rushed' 'side-effect' 'unnecessary']\n",
            "conspiracy: 0.0620\n",
            "country: 0.1502\n",
            "ineffective: 0.0181\n",
            "ingredients: 0.0693\n",
            "mandatory: 0.0386\n",
            "none: 0.0480\n",
            "pharma: 0.0237\n",
            "political: 0.0482\n",
            "religious: 0.4718\n",
            "rushed: 0.0204\n",
            "side-effect: 0.0079\n",
            "unnecessary: 0.0418\n"
          ]
        },
        {
          "output_type": "execute_result",
          "data": {
            "text/plain": [
              "[0.061998371548266755,\n",
              " 0.1502149599204274,\n",
              " 0.01805813812440545,\n",
              " 0.06925047464221538,\n",
              " 0.038560928408692095,\n",
              " 0.048001918829898106,\n",
              " 0.023718151566383277,\n",
              " 0.04823195997445034,\n",
              " 0.4717688585000923,\n",
              " 0.02044225250101957,\n",
              " 0.007935139801315614,\n",
              " 0.041818846182833665]"
            ]
          },
          "metadata": {},
          "execution_count": 37
        }
      ]
    },
    {
      "cell_type": "markdown",
      "metadata": {
        "id": "ywD4HFf_nqQT"
      },
      "source": [
        "#Training"
      ]
    },
    {
      "cell_type": "code",
      "execution_count": null,
      "metadata": {
        "id": "UTE_XEaUnvZR",
        "colab": {
          "base_uri": "https://localhost:8080/"
        },
        "outputId": "78219fe2-f0cf-4d09-9736-35f484137fb8"
      },
      "outputs": [
        {
          "output_type": "stream",
          "name": "stderr",
          "text": [
            "100%|██████████| 434/434 [01:01<00:00,  7.06it/s]\n"
          ]
        },
        {
          "output_type": "stream",
          "name": "stdout",
          "text": [
            "Epoch 1, Train loss: 0.011521143963225702, Train Accuracy: 89.34%\n"
          ]
        },
        {
          "output_type": "stream",
          "name": "stderr",
          "text": [
            "100%|██████████| 93/93 [00:03<00:00, 24.73it/s]\n"
          ]
        },
        {
          "output_type": "stream",
          "name": "stdout",
          "text": [
            "Epoch 1, Validation loss: 0.008330364501284014, Validation Accuracy: 91.44%\n"
          ]
        },
        {
          "output_type": "stream",
          "name": "stderr",
          "text": [
            "100%|██████████| 434/434 [01:00<00:00,  7.17it/s]\n"
          ]
        },
        {
          "output_type": "stream",
          "name": "stdout",
          "text": [
            "Epoch 2, Train loss: 0.007311093832327542, Train Accuracy: 92.17%\n"
          ]
        },
        {
          "output_type": "stream",
          "name": "stderr",
          "text": [
            "100%|██████████| 93/93 [00:03<00:00, 23.86it/s]\n"
          ]
        },
        {
          "output_type": "stream",
          "name": "stdout",
          "text": [
            "Epoch 2, Validation loss: 0.006694251511205909, Validation Accuracy: 93.11%\n"
          ]
        },
        {
          "output_type": "stream",
          "name": "stderr",
          "text": [
            "100%|██████████| 434/434 [01:02<00:00,  6.96it/s]\n"
          ]
        },
        {
          "output_type": "stream",
          "name": "stdout",
          "text": [
            "Epoch 3, Train loss: 0.0049156314963775295, Train Accuracy: 94.36%\n"
          ]
        },
        {
          "output_type": "stream",
          "name": "stderr",
          "text": [
            "100%|██████████| 93/93 [00:04<00:00, 22.48it/s]"
          ]
        },
        {
          "output_type": "stream",
          "name": "stdout",
          "text": [
            "Epoch 3, Validation loss: 0.006930269571321626, Validation Accuracy: 94.10%\n"
          ]
        },
        {
          "output_type": "stream",
          "name": "stderr",
          "text": [
            "\n"
          ]
        }
      ],
      "source": [
        "from torch.nn import BCEWithLogitsLoss\n",
        "from torch.optim import AdamW\n",
        "from tqdm import tqdm\n",
        "\n",
        "# Move model to GPU (if available)\n",
        "device = torch.device(\"cuda\" if torch.cuda.is_available() else \"cpu\")\n",
        "model.to(device)\n",
        "\n",
        "class_weights_tensor = torch.tensor(normalized_ordered_class_weights, dtype=torch.float).to(device)\n",
        "\n",
        "# Define the loss function suitable for multi-label classification with class weights\n",
        "loss_function = BCEWithLogitsLoss(weight=class_weights_tensor).to(device)\n",
        "\n",
        "# Define the loss function suitable for multi-label classification.\n",
        "#loss_function = BCEWithLogitsLoss().to(device)\n",
        "\n",
        "# Define the optimizer (AdamW is a variant of Adam optimized for transformer models)\n",
        "optimizer = AdamW(model.parameters(), lr=5e-5)\n",
        "\n",
        "# Number of complete passes over the dataset\n",
        "epochs = 3\n",
        "\n",
        "# Start the training loop\n",
        "for epoch in range(epochs):\n",
        "    # Set the model to training mode. This activates dropout layers, batch normalization, etc.\n",
        "    model.train()\n",
        "\n",
        "    # Initialize variables to keep track of the cumulative loss and number of correct predictions for training\n",
        "    total_loss = 0\n",
        "    correct_predictions_train = 0\n",
        "    total_predictions_train = 0\n",
        "\n",
        "    # tqdm provides a progress bar for the loop\n",
        "    for batch in tqdm(train_dataloader):\n",
        "\n",
        "        # Zero the gradients. This is necessary as gradients accumulate in PyTorch\n",
        "        model.zero_grad()\n",
        "\n",
        "        # Move the batch tensors to the same device as the model\n",
        "        input_ids, attention_mask, labels = tuple(b.to(device) for b in batch)\n",
        "\n",
        "        # Forward pass: obtain logits from the model\n",
        "        outputs = model(input_ids, attention_mask=attention_mask)\n",
        "        logits = outputs.logits\n",
        "\n",
        "        # Compute the loss between the predicted logits and the true labels\n",
        "        loss = loss_function(logits, labels.float())\n",
        "\n",
        "        # Add the batch loss to the total loss\n",
        "        total_loss += loss.item()\n",
        "\n",
        "        # Backward pass: compute the gradient of the loss with respect to model parameters\n",
        "        loss.backward()\n",
        "\n",
        "        # Update model parameters\n",
        "        optimizer.step()\n",
        "\n",
        "        # Convert logits to probabilities\n",
        "        sigmoid_outputs = torch.sigmoid(logits)\n",
        "\n",
        "        # Convert probabilities to binary predictions using a threshold of 0.5\n",
        "        predictions_train = (sigmoid_outputs > 0.5).float()\n",
        "\n",
        "        # Calculate the number of correct predictions in this batch for training\n",
        "        correct_predictions_train += (predictions_train == labels.float()).sum().item()\n",
        "        total_predictions_train += torch.numel(labels)\n",
        "\n",
        "    # Calculate the average training loss\n",
        "    avg_train_loss = total_loss / len(train_dataloader)\n",
        "\n",
        "    # Calculate the training accuracy for this epoch\n",
        "    accuracy_train = correct_predictions_train / total_predictions_train * 100\n",
        "\n",
        "    # Print the average training loss and accuracy for this epoch\n",
        "    print(f\"Epoch {epoch + 1}, Train loss: {avg_train_loss}, Train Accuracy: {accuracy_train:.2f}%\")\n",
        "\n",
        "    # Validation loop\n",
        "    model.eval()  # Set the model to evaluation mode\n",
        "\n",
        "    # Initialize variables to keep track of the cumulative loss and number of correct predictions for validation\n",
        "    total_loss_val = 0\n",
        "    correct_predictions_val = 0\n",
        "    total_predictions_val = 0\n",
        "\n",
        "    with torch.no_grad():  # Disable gradient calculation during validation\n",
        "        for batch_val in tqdm(val_dataloader):\n",
        "\n",
        "            # Move the batch tensors to the same device as the model\n",
        "            input_ids_val, attention_mask_val, labels_val = tuple(b.to(device) for b in batch_val)\n",
        "\n",
        "            # Forward pass: obtain logits from the model\n",
        "            outputs_val = model(input_ids_val, attention_mask=attention_mask_val)\n",
        "            logits_val = outputs_val.logits\n",
        "\n",
        "            # Compute the loss between the predicted logits and the true labels\n",
        "            loss_val = loss_function(logits_val, labels_val.float())\n",
        "\n",
        "            # Add the batch loss to the total loss for validation\n",
        "            total_loss_val += loss_val.item()\n",
        "\n",
        "            # Convert logits to probabilities\n",
        "            sigmoid_outputs_val = torch.sigmoid(logits_val)\n",
        "\n",
        "            # Convert probabilities to binary predictions using a threshold of 0.5\n",
        "            predictions_val = (sigmoid_outputs_val > 0.5).float()\n",
        "\n",
        "            # Calculate the number of correct predictions in this batch for validation\n",
        "            correct_predictions_val += (predictions_val == labels_val.float()).sum().item()\n",
        "            total_predictions_val += torch.numel(labels_val)\n",
        "\n",
        "    # Calculate the average validation loss\n",
        "    avg_val_loss = total_loss_val / len(val_dataloader)\n",
        "\n",
        "    # Calculate the validation accuracy for this epoch\n",
        "    accuracy_val = correct_predictions_val / total_predictions_val * 100\n",
        "\n",
        "    # Print the average validation loss and accuracy for this epoch\n",
        "    print(f\"Epoch {epoch + 1}, Validation loss: {avg_val_loss}, Validation Accuracy: {accuracy_val:.2f}%\")\n"
      ]
    },
    {
      "cell_type": "markdown",
      "source": [
        "#Testing"
      ],
      "metadata": {
        "id": "kTzNEQPpOAyf"
      }
    },
    {
      "cell_type": "code",
      "source": [
        "# Set the model to evaluation mode\n",
        "model.eval()\n",
        "\n",
        "# Initialize a variable to keep track of the number of correct predictions\n",
        "test_accuracy = 0\n",
        "TP = torch.zeros(12).to(device)\n",
        "TN = torch.zeros(12).to(device)\n",
        "FP = torch.zeros(12).to(device)\n",
        "FN = torch.zeros(12).to(device)\n",
        "\n",
        "# Loop through batches in the test dataloader\n",
        "for batch in test_dataloader:\n",
        "    # Move batch tensors to the device the model is on\n",
        "    input_ids, attention_mask, labels = tuple(b.to(device) for b in batch)\n",
        "\n",
        "    # Make predictions with the model\n",
        "    with torch.no_grad():\n",
        "        outputs = model(input_ids, attention_mask=attention_mask)\n",
        "\n",
        "    # Extract the logits from the model outputs\n",
        "    logits = outputs.logits\n",
        "\n",
        "    # Convert logits to probabilities\n",
        "    sigmoid_outputs = torch.sigmoid(logits)\n",
        "\n",
        "    # Convert probabilities to binary predictions using a threshold of 0.5\n",
        "    predictions = (sigmoid_outputs > 0.5).float()\n",
        "\n",
        "    TP += (predictions * labels).sum(dim=0)\n",
        "    TN += ((1 - predictions) * (1 - labels)).sum(dim=0)\n",
        "    FP += (predictions * (1 - labels)).sum(dim=0)\n",
        "    FN += ((1 - predictions) * labels).sum(dim=0)\n",
        "\n",
        "    # Calculate the number of correct predictions in this batch\n",
        "    correct_predictions = (predictions == labels).float().sum().item()\n",
        "\n",
        "    # Add the number of correct predictions from this batch to the total\n",
        "    test_accuracy += correct_predictions\n",
        "\n",
        "\n",
        "accuracy_percentage = (test_accuracy / (test_size * 12)) * 100  # since we have 12 labels per example\n",
        "recall = TP / (TP + FN)\n",
        "specificity = TN / (TN + FP)\n",
        "precision = TP / (TP + FP)\n",
        "f1_score = 2 * (precision * recall) / (precision + recall)\n",
        "\n",
        "\n",
        "# Print the overall accuracy\n",
        "print(\"Test Accuracy:\", accuracy_percentage, \"%\")\n",
        "\n",
        "#print metrics\n",
        "for i in range(12):\n",
        "    print(f\"{label_encoder.classes_[i]}: Recall: {recall[i]:.4f}, Specificity: {specificity[i]:.4f}, Precision: {precision[i]:.4f}, F1-Score: {f1_score[i]:.4f}\")\n",
        "\n"
      ],
      "metadata": {
        "id": "fn9HSWvv_yNc",
        "colab": {
          "base_uri": "https://localhost:8080/"
        },
        "outputId": "4a164426-73c7-43ab-f4e0-8c07215497c5"
      },
      "execution_count": null,
      "outputs": [
        {
          "output_type": "stream",
          "name": "stdout",
          "text": [
            "Test Accuracy: 93.7038280725319 %\n",
            "conspiracy: Recall: 0.4186, Specificity: 0.9922, Precision: 0.7660, F1-Score: 0.5414\n",
            "country: Recall: 0.6538, Specificity: 0.9952, Precision: 0.7083, F1-Score: 0.6800\n",
            "ineffective: Recall: 0.5160, Specificity: 0.9694, Precision: 0.7967, F1-Score: 0.6263\n",
            "ingredients: Recall: 0.6667, Specificity: 0.9797, Precision: 0.5915, F1-Score: 0.6269\n",
            "mandatory: Recall: 0.5039, Specificity: 0.9934, Precision: 0.8784, F1-Score: 0.6404\n",
            "none: Recall: 0.2892, Specificity: 0.9872, Precision: 0.5714, F1-Score: 0.3840\n",
            "pharma: Recall: 0.5241, Specificity: 0.9570, Precision: 0.6364, F1-Score: 0.5748\n",
            "political: Recall: 0.1905, Specificity: 0.9964, Precision: 0.7619, F1-Score: 0.3048\n",
            "religious: Recall: 0.3333, Specificity: 0.9973, Precision: 0.3333, F1-Score: 0.3333\n",
            "rushed: Recall: 0.5862, Specificity: 0.9603, Precision: 0.7000, F1-Score: 0.6381\n",
            "side-effect: Recall: 0.7653, Specificity: 0.9059, Precision: 0.8281, F1-Score: 0.7955\n",
            "unnecessary: Recall: 0.3148, Specificity: 0.9841, Precision: 0.6071, F1-Score: 0.4146\n"
          ]
        }
      ]
    },
    {
      "cell_type": "code",
      "source": [
        "print(logits)\n"
      ],
      "metadata": {
        "id": "G2neSvUw_9II",
        "colab": {
          "base_uri": "https://localhost:8080/"
        },
        "outputId": "dd0a6bf6-0426-460b-dc61-a827cc165d36"
      },
      "execution_count": null,
      "outputs": [
        {
          "output_type": "stream",
          "name": "stdout",
          "text": [
            "tensor([[-6.4056, -8.7808, -4.2773, -5.9169, -6.0629, -6.6754, -5.4638, -6.5587,\n",
            "         -9.2453, -5.3820,  3.5361, -6.1628]], device='cuda:0')\n"
          ]
        }
      ]
    },
    {
      "cell_type": "code",
      "source": [
        "type(label_encoder.classes_)"
      ],
      "metadata": {
        "colab": {
          "base_uri": "https://localhost:8080/"
        },
        "id": "YSzZMlvruyjl",
        "outputId": "f7432f0c-2718-4124-e6f2-fbc767d77232"
      },
      "execution_count": null,
      "outputs": [
        {
          "output_type": "execute_result",
          "data": {
            "text/plain": [
              "numpy.ndarray"
            ]
          },
          "metadata": {},
          "execution_count": 41
        }
      ]
    },
    {
      "cell_type": "code",
      "source": [
        "logits.shape"
      ],
      "metadata": {
        "id": "Ahv5BROM__XR",
        "colab": {
          "base_uri": "https://localhost:8080/"
        },
        "outputId": "5598daeb-c66a-4cce-c44c-057a053dcbe1"
      },
      "execution_count": null,
      "outputs": [
        {
          "output_type": "execute_result",
          "data": {
            "text/plain": [
              "torch.Size([1, 12])"
            ]
          },
          "metadata": {},
          "execution_count": 43
        }
      ]
    },
    {
      "cell_type": "code",
      "source": [
        "batch[2].shape"
      ],
      "metadata": {
        "id": "09YBXSfpDHR9",
        "colab": {
          "base_uri": "https://localhost:8080/"
        },
        "outputId": "6367b0ee-d2de-4908-e86c-bf38b9433034"
      },
      "execution_count": null,
      "outputs": [
        {
          "output_type": "execute_result",
          "data": {
            "text/plain": [
              "torch.Size([1, 12])"
            ]
          },
          "metadata": {},
          "execution_count": 334
        }
      ]
    },
    {
      "cell_type": "code",
      "source": [
        "sigmoid_outputs"
      ],
      "metadata": {
        "id": "Y-zejRZVALwu",
        "colab": {
          "base_uri": "https://localhost:8080/"
        },
        "outputId": "f8d08975-116d-424a-9f36-fbee968702d7"
      },
      "execution_count": null,
      "outputs": [
        {
          "output_type": "execute_result",
          "data": {
            "text/plain": [
              "tensor([[1.6496e-03, 1.5363e-04, 1.3690e-02, 2.6862e-03, 2.3222e-03, 1.2600e-03,\n",
              "         4.2196e-03, 1.4157e-03, 9.6555e-05, 4.5776e-03, 9.7170e-01, 2.1019e-03]],\n",
              "       device='cuda:0')"
            ]
          },
          "metadata": {},
          "execution_count": 42
        }
      ]
    },
    {
      "cell_type": "code",
      "source": [
        "sigmoid_outputs.shape"
      ],
      "metadata": {
        "id": "545GFM2gARht",
        "colab": {
          "base_uri": "https://localhost:8080/"
        },
        "outputId": "ec6cfaa7-69a3-4f62-ecbb-9c54a065a8cc"
      },
      "execution_count": null,
      "outputs": [
        {
          "output_type": "execute_result",
          "data": {
            "text/plain": [
              "torch.Size([1, 12])"
            ]
          },
          "metadata": {},
          "execution_count": 47
        }
      ]
    },
    {
      "cell_type": "code",
      "source": [
        "labels.shape"
      ],
      "metadata": {
        "id": "T4GhodlsAad6",
        "colab": {
          "base_uri": "https://localhost:8080/"
        },
        "outputId": "460c19f3-3d3a-46cb-f638-29433d6bc0ee"
      },
      "execution_count": null,
      "outputs": [
        {
          "output_type": "execute_result",
          "data": {
            "text/plain": [
              "torch.Size([1, 12])"
            ]
          },
          "metadata": {},
          "execution_count": 46
        }
      ]
    },
    {
      "cell_type": "code",
      "source": [
        "predictions.shape"
      ],
      "metadata": {
        "id": "gciQr-j_DCsr",
        "colab": {
          "base_uri": "https://localhost:8080/"
        },
        "outputId": "cb0716c7-c656-41b4-e548-ced251695c0b"
      },
      "execution_count": null,
      "outputs": [
        {
          "output_type": "execute_result",
          "data": {
            "text/plain": [
              "torch.Size([1, 12])"
            ]
          },
          "metadata": {},
          "execution_count": 45
        }
      ]
    },
    {
      "cell_type": "markdown",
      "source": [
        "#Inference"
      ],
      "metadata": {
        "id": "HvWS3Zp7OGhc"
      }
    },
    {
      "cell_type": "code",
      "source": [
        "model.save_pretrained(\"/content/drive/MyDrive/Colab Notebooks/My_model\")\n"
      ],
      "metadata": {
        "id": "nf3nnBkuoJDt"
      },
      "execution_count": null,
      "outputs": []
    },
    {
      "cell_type": "code",
      "source": [
        "!ls \"/content/drive/MyDrive/Colab Notebooks/My_model\""
      ],
      "metadata": {
        "id": "4u-0GDh4sIKz",
        "colab": {
          "base_uri": "https://localhost:8080/"
        },
        "outputId": "a009ef12-db13-4742-b6d4-530a5f82bc38"
      },
      "execution_count": null,
      "outputs": [
        {
          "output_type": "stream",
          "name": "stdout",
          "text": [
            "config.json  model.safetensors\tpytorch_model.bin\n"
          ]
        }
      ]
    },
    {
      "cell_type": "code",
      "source": [
        "tokenizer = DistilBertTokenizer.from_pretrained('distilbert-base-uncased')\n",
        "tokenizer_path = \"/content/drive/MyDrive/Colab Notebooks/Tokenizer\"\n",
        "tokenizer.save_pretrained(tokenizer_path)"
      ],
      "metadata": {
        "id": "QuyXu9d9t0q-",
        "colab": {
          "base_uri": "https://localhost:8080/"
        },
        "outputId": "5d2b01ca-8fce-40ee-c60f-6884f301fc30"
      },
      "execution_count": null,
      "outputs": [
        {
          "output_type": "execute_result",
          "data": {
            "text/plain": [
              "('/content/drive/MyDrive/Colab Notebooks/Tokenizer/tokenizer_config.json',\n",
              " '/content/drive/MyDrive/Colab Notebooks/Tokenizer/special_tokens_map.json',\n",
              " '/content/drive/MyDrive/Colab Notebooks/Tokenizer/vocab.txt',\n",
              " '/content/drive/MyDrive/Colab Notebooks/Tokenizer/added_tokens.json')"
            ]
          },
          "metadata": {},
          "execution_count": 50
        }
      ]
    },
    {
      "cell_type": "code",
      "source": [
        "model_path = \"/content/drive/MyDrive/Colab Notebooks/My_model\"\n",
        "\n",
        "# Load the tokenizer and model\n",
        "tokenizer = DistilBertTokenizer.from_pretrained(tokenizer_path)\n",
        "model = DistilBertForSequenceClassification.from_pretrained(model_path)"
      ],
      "metadata": {
        "id": "8XA6y3_NrEXI"
      },
      "execution_count": null,
      "outputs": []
    },
    {
      "cell_type": "code",
      "source": [
        "# Tokenize input text\n",
        "input_text = \"Staying resilient in the face of COVID-19. Grateful for unity and kindness. We'll get through this together.\"\n",
        "tokens = tokenizer(input_text, return_tensors=\"pt\", truncation=True, padding=True)\n",
        "\n",
        "# Run inference\n",
        "outputs = model(**tokens)\n",
        "\n",
        "# Get predicted class probabilities\n",
        "probabilities = outputs.logits.softmax(dim=1)\n"
      ],
      "metadata": {
        "id": "UIrcL7D2okqw"
      },
      "execution_count": null,
      "outputs": []
    },
    {
      "cell_type": "code",
      "source": [
        "probabilities"
      ],
      "metadata": {
        "id": "RcYsBd77u-AI",
        "colab": {
          "base_uri": "https://localhost:8080/"
        },
        "outputId": "5281d375-9eeb-4eec-ddec-8473cd5cd22d"
      },
      "execution_count": null,
      "outputs": [
        {
          "output_type": "execute_result",
          "data": {
            "text/plain": [
              "tensor([[6.6793e-03, 6.2817e-04, 1.5097e-01, 1.4998e-03, 3.0174e-02, 2.2146e-01,\n",
              "         2.9526e-02, 7.2400e-03, 7.6988e-05, 1.0054e-02, 7.2359e-02, 4.6933e-01]],\n",
              "       grad_fn=<SoftmaxBackward0>)"
            ]
          },
          "metadata": {},
          "execution_count": 53
        }
      ]
    },
    {
      "cell_type": "code",
      "source": [
        "threshold = 0.5\n",
        "predicted_labels_tensor = (probabilities > threshold).float()\n",
        "predicted_labels_numpy = predicted_labels_tensor.numpy()\n",
        "predicted_labels_list = label_encoder.inverse_transform(predicted_labels_numpy)\n"
      ],
      "metadata": {
        "id": "xlFVHs6hxP-t"
      },
      "execution_count": null,
      "outputs": []
    },
    {
      "cell_type": "code",
      "source": [
        "predicted_labels_tensor"
      ],
      "metadata": {
        "colab": {
          "base_uri": "https://localhost:8080/"
        },
        "id": "YoZmFDQbvhUA",
        "outputId": "f51e5003-fa47-488e-d690-94755930e97f"
      },
      "execution_count": null,
      "outputs": [
        {
          "output_type": "execute_result",
          "data": {
            "text/plain": [
              "tensor([[0., 0., 0., 0., 0., 0., 0., 0., 0., 0., 0., 0.]])"
            ]
          },
          "metadata": {},
          "execution_count": 59
        }
      ]
    },
    {
      "cell_type": "code",
      "source": [
        "predicted_labels_list"
      ],
      "metadata": {
        "id": "dqQX6-LJV_6f",
        "colab": {
          "base_uri": "https://localhost:8080/"
        },
        "outputId": "16f02f4a-8a6d-4195-dae8-172ae6726634"
      },
      "execution_count": null,
      "outputs": [
        {
          "output_type": "execute_result",
          "data": {
            "text/plain": [
              "[()]"
            ]
          },
          "metadata": {},
          "execution_count": 60
        }
      ]
    },
    {
      "cell_type": "code",
      "source": [
        "predicted_labels_tensor"
      ],
      "metadata": {
        "id": "soc1np6fzC3D",
        "colab": {
          "base_uri": "https://localhost:8080/"
        },
        "outputId": "cb17e5f1-a5b6-439e-bcb6-ffea37ff0c84"
      },
      "execution_count": null,
      "outputs": [
        {
          "output_type": "execute_result",
          "data": {
            "text/plain": [
              "tensor([[0., 0., 0., 0., 0., 0., 0., 0., 0., 0., 0., 0.]])"
            ]
          },
          "metadata": {},
          "execution_count": 61
        }
      ]
    },
    {
      "cell_type": "code",
      "source": [
        "predicted_labels_numpy"
      ],
      "metadata": {
        "id": "YTGiigQixly3",
        "colab": {
          "base_uri": "https://localhost:8080/"
        },
        "outputId": "bb7141cf-4756-4492-fcc0-1bedd9f39c56"
      },
      "execution_count": null,
      "outputs": [
        {
          "output_type": "execute_result",
          "data": {
            "text/plain": [
              "array([[0., 0., 0., 0., 0., 0., 0., 0., 0., 0., 0., 0.]], dtype=float32)"
            ]
          },
          "metadata": {},
          "execution_count": 62
        }
      ]
    },
    {
      "cell_type": "code",
      "source": [
        "label_encoder.classes_"
      ],
      "metadata": {
        "id": "LnGEUtUVx2gc",
        "colab": {
          "base_uri": "https://localhost:8080/"
        },
        "outputId": "eb77c98d-f125-4d3b-879d-9a5c20814373"
      },
      "execution_count": null,
      "outputs": [
        {
          "output_type": "execute_result",
          "data": {
            "text/plain": [
              "array(['conspiracy', 'country', 'ineffective', 'ingredients', 'mandatory',\n",
              "       'none', 'pharma', 'political', 'religious', 'rushed',\n",
              "       'side-effect', 'unnecessary'], dtype=object)"
            ]
          },
          "metadata": {},
          "execution_count": 63
        }
      ]
    },
    {
      "cell_type": "code",
      "source": [
        "predicted_labels_list"
      ],
      "metadata": {
        "id": "UFcfcQ7lxaUl",
        "colab": {
          "base_uri": "https://localhost:8080/"
        },
        "outputId": "ed9bd01a-ce7e-4a97-8725-7d19ea42d43a"
      },
      "execution_count": null,
      "outputs": [
        {
          "output_type": "execute_result",
          "data": {
            "text/plain": [
              "[()]"
            ]
          },
          "metadata": {},
          "execution_count": 64
        }
      ]
    },
    {
      "cell_type": "code",
      "source": [],
      "metadata": {
        "id": "HxPxKYOsNgDW"
      },
      "execution_count": null,
      "outputs": []
    }
  ],
  "metadata": {
    "colab": {
      "provenance": [],
      "gpuType": "T4"
    },
    "kernelspec": {
      "display_name": "Python 3",
      "name": "python3"
    },
    "language_info": {
      "name": "python"
    },
    "widgets": {
      "application/vnd.jupyter.widget-state+json": {
        "8ad458098abd42829f8dcb2d37d24adc": {
          "model_module": "@jupyter-widgets/controls",
          "model_name": "HBoxModel",
          "model_module_version": "1.5.0",
          "state": {
            "_dom_classes": [],
            "_model_module": "@jupyter-widgets/controls",
            "_model_module_version": "1.5.0",
            "_model_name": "HBoxModel",
            "_view_count": null,
            "_view_module": "@jupyter-widgets/controls",
            "_view_module_version": "1.5.0",
            "_view_name": "HBoxView",
            "box_style": "",
            "children": [
              "IPY_MODEL_4bac7c819ed74537a79019273ed2e47e",
              "IPY_MODEL_2a1b4e4f9ba0486a93b5c6939a7173a6",
              "IPY_MODEL_182dd4932f424ea4912f4437b5fa706e"
            ],
            "layout": "IPY_MODEL_0a65c99c019a45a7ab1b3ce72036a98e"
          }
        },
        "4bac7c819ed74537a79019273ed2e47e": {
          "model_module": "@jupyter-widgets/controls",
          "model_name": "HTMLModel",
          "model_module_version": "1.5.0",
          "state": {
            "_dom_classes": [],
            "_model_module": "@jupyter-widgets/controls",
            "_model_module_version": "1.5.0",
            "_model_name": "HTMLModel",
            "_view_count": null,
            "_view_module": "@jupyter-widgets/controls",
            "_view_module_version": "1.5.0",
            "_view_name": "HTMLView",
            "description": "",
            "description_tooltip": null,
            "layout": "IPY_MODEL_19b932078fcf49ac995bbf7639e9d121",
            "placeholder": "​",
            "style": "IPY_MODEL_e132e8a2e03e457a92f9974cc5cbfa0d",
            "value": "tokenizer_config.json: 100%"
          }
        },
        "2a1b4e4f9ba0486a93b5c6939a7173a6": {
          "model_module": "@jupyter-widgets/controls",
          "model_name": "FloatProgressModel",
          "model_module_version": "1.5.0",
          "state": {
            "_dom_classes": [],
            "_model_module": "@jupyter-widgets/controls",
            "_model_module_version": "1.5.0",
            "_model_name": "FloatProgressModel",
            "_view_count": null,
            "_view_module": "@jupyter-widgets/controls",
            "_view_module_version": "1.5.0",
            "_view_name": "ProgressView",
            "bar_style": "success",
            "description": "",
            "description_tooltip": null,
            "layout": "IPY_MODEL_b86ebff849de4b48be24595b9c196d77",
            "max": 28,
            "min": 0,
            "orientation": "horizontal",
            "style": "IPY_MODEL_c55e714a725e47109b89e1b39b5609eb",
            "value": 28
          }
        },
        "182dd4932f424ea4912f4437b5fa706e": {
          "model_module": "@jupyter-widgets/controls",
          "model_name": "HTMLModel",
          "model_module_version": "1.5.0",
          "state": {
            "_dom_classes": [],
            "_model_module": "@jupyter-widgets/controls",
            "_model_module_version": "1.5.0",
            "_model_name": "HTMLModel",
            "_view_count": null,
            "_view_module": "@jupyter-widgets/controls",
            "_view_module_version": "1.5.0",
            "_view_name": "HTMLView",
            "description": "",
            "description_tooltip": null,
            "layout": "IPY_MODEL_84cb4ba4be0447d2ae7ce650a828b192",
            "placeholder": "​",
            "style": "IPY_MODEL_1c0608337f234350842b686031b43555",
            "value": " 28.0/28.0 [00:00&lt;00:00, 1.69kB/s]"
          }
        },
        "0a65c99c019a45a7ab1b3ce72036a98e": {
          "model_module": "@jupyter-widgets/base",
          "model_name": "LayoutModel",
          "model_module_version": "1.2.0",
          "state": {
            "_model_module": "@jupyter-widgets/base",
            "_model_module_version": "1.2.0",
            "_model_name": "LayoutModel",
            "_view_count": null,
            "_view_module": "@jupyter-widgets/base",
            "_view_module_version": "1.2.0",
            "_view_name": "LayoutView",
            "align_content": null,
            "align_items": null,
            "align_self": null,
            "border": null,
            "bottom": null,
            "display": null,
            "flex": null,
            "flex_flow": null,
            "grid_area": null,
            "grid_auto_columns": null,
            "grid_auto_flow": null,
            "grid_auto_rows": null,
            "grid_column": null,
            "grid_gap": null,
            "grid_row": null,
            "grid_template_areas": null,
            "grid_template_columns": null,
            "grid_template_rows": null,
            "height": null,
            "justify_content": null,
            "justify_items": null,
            "left": null,
            "margin": null,
            "max_height": null,
            "max_width": null,
            "min_height": null,
            "min_width": null,
            "object_fit": null,
            "object_position": null,
            "order": null,
            "overflow": null,
            "overflow_x": null,
            "overflow_y": null,
            "padding": null,
            "right": null,
            "top": null,
            "visibility": null,
            "width": null
          }
        },
        "19b932078fcf49ac995bbf7639e9d121": {
          "model_module": "@jupyter-widgets/base",
          "model_name": "LayoutModel",
          "model_module_version": "1.2.0",
          "state": {
            "_model_module": "@jupyter-widgets/base",
            "_model_module_version": "1.2.0",
            "_model_name": "LayoutModel",
            "_view_count": null,
            "_view_module": "@jupyter-widgets/base",
            "_view_module_version": "1.2.0",
            "_view_name": "LayoutView",
            "align_content": null,
            "align_items": null,
            "align_self": null,
            "border": null,
            "bottom": null,
            "display": null,
            "flex": null,
            "flex_flow": null,
            "grid_area": null,
            "grid_auto_columns": null,
            "grid_auto_flow": null,
            "grid_auto_rows": null,
            "grid_column": null,
            "grid_gap": null,
            "grid_row": null,
            "grid_template_areas": null,
            "grid_template_columns": null,
            "grid_template_rows": null,
            "height": null,
            "justify_content": null,
            "justify_items": null,
            "left": null,
            "margin": null,
            "max_height": null,
            "max_width": null,
            "min_height": null,
            "min_width": null,
            "object_fit": null,
            "object_position": null,
            "order": null,
            "overflow": null,
            "overflow_x": null,
            "overflow_y": null,
            "padding": null,
            "right": null,
            "top": null,
            "visibility": null,
            "width": null
          }
        },
        "e132e8a2e03e457a92f9974cc5cbfa0d": {
          "model_module": "@jupyter-widgets/controls",
          "model_name": "DescriptionStyleModel",
          "model_module_version": "1.5.0",
          "state": {
            "_model_module": "@jupyter-widgets/controls",
            "_model_module_version": "1.5.0",
            "_model_name": "DescriptionStyleModel",
            "_view_count": null,
            "_view_module": "@jupyter-widgets/base",
            "_view_module_version": "1.2.0",
            "_view_name": "StyleView",
            "description_width": ""
          }
        },
        "b86ebff849de4b48be24595b9c196d77": {
          "model_module": "@jupyter-widgets/base",
          "model_name": "LayoutModel",
          "model_module_version": "1.2.0",
          "state": {
            "_model_module": "@jupyter-widgets/base",
            "_model_module_version": "1.2.0",
            "_model_name": "LayoutModel",
            "_view_count": null,
            "_view_module": "@jupyter-widgets/base",
            "_view_module_version": "1.2.0",
            "_view_name": "LayoutView",
            "align_content": null,
            "align_items": null,
            "align_self": null,
            "border": null,
            "bottom": null,
            "display": null,
            "flex": null,
            "flex_flow": null,
            "grid_area": null,
            "grid_auto_columns": null,
            "grid_auto_flow": null,
            "grid_auto_rows": null,
            "grid_column": null,
            "grid_gap": null,
            "grid_row": null,
            "grid_template_areas": null,
            "grid_template_columns": null,
            "grid_template_rows": null,
            "height": null,
            "justify_content": null,
            "justify_items": null,
            "left": null,
            "margin": null,
            "max_height": null,
            "max_width": null,
            "min_height": null,
            "min_width": null,
            "object_fit": null,
            "object_position": null,
            "order": null,
            "overflow": null,
            "overflow_x": null,
            "overflow_y": null,
            "padding": null,
            "right": null,
            "top": null,
            "visibility": null,
            "width": null
          }
        },
        "c55e714a725e47109b89e1b39b5609eb": {
          "model_module": "@jupyter-widgets/controls",
          "model_name": "ProgressStyleModel",
          "model_module_version": "1.5.0",
          "state": {
            "_model_module": "@jupyter-widgets/controls",
            "_model_module_version": "1.5.0",
            "_model_name": "ProgressStyleModel",
            "_view_count": null,
            "_view_module": "@jupyter-widgets/base",
            "_view_module_version": "1.2.0",
            "_view_name": "StyleView",
            "bar_color": null,
            "description_width": ""
          }
        },
        "84cb4ba4be0447d2ae7ce650a828b192": {
          "model_module": "@jupyter-widgets/base",
          "model_name": "LayoutModel",
          "model_module_version": "1.2.0",
          "state": {
            "_model_module": "@jupyter-widgets/base",
            "_model_module_version": "1.2.0",
            "_model_name": "LayoutModel",
            "_view_count": null,
            "_view_module": "@jupyter-widgets/base",
            "_view_module_version": "1.2.0",
            "_view_name": "LayoutView",
            "align_content": null,
            "align_items": null,
            "align_self": null,
            "border": null,
            "bottom": null,
            "display": null,
            "flex": null,
            "flex_flow": null,
            "grid_area": null,
            "grid_auto_columns": null,
            "grid_auto_flow": null,
            "grid_auto_rows": null,
            "grid_column": null,
            "grid_gap": null,
            "grid_row": null,
            "grid_template_areas": null,
            "grid_template_columns": null,
            "grid_template_rows": null,
            "height": null,
            "justify_content": null,
            "justify_items": null,
            "left": null,
            "margin": null,
            "max_height": null,
            "max_width": null,
            "min_height": null,
            "min_width": null,
            "object_fit": null,
            "object_position": null,
            "order": null,
            "overflow": null,
            "overflow_x": null,
            "overflow_y": null,
            "padding": null,
            "right": null,
            "top": null,
            "visibility": null,
            "width": null
          }
        },
        "1c0608337f234350842b686031b43555": {
          "model_module": "@jupyter-widgets/controls",
          "model_name": "DescriptionStyleModel",
          "model_module_version": "1.5.0",
          "state": {
            "_model_module": "@jupyter-widgets/controls",
            "_model_module_version": "1.5.0",
            "_model_name": "DescriptionStyleModel",
            "_view_count": null,
            "_view_module": "@jupyter-widgets/base",
            "_view_module_version": "1.2.0",
            "_view_name": "StyleView",
            "description_width": ""
          }
        },
        "aca94711d4de48968a2904246f4ce31c": {
          "model_module": "@jupyter-widgets/controls",
          "model_name": "HBoxModel",
          "model_module_version": "1.5.0",
          "state": {
            "_dom_classes": [],
            "_model_module": "@jupyter-widgets/controls",
            "_model_module_version": "1.5.0",
            "_model_name": "HBoxModel",
            "_view_count": null,
            "_view_module": "@jupyter-widgets/controls",
            "_view_module_version": "1.5.0",
            "_view_name": "HBoxView",
            "box_style": "",
            "children": [
              "IPY_MODEL_16c6f75d1d8d4424a59d2bf1417819d8",
              "IPY_MODEL_4621afe96c7340b8a89e879a7f282dee",
              "IPY_MODEL_3049293329554bbd9a3140881d8f783b"
            ],
            "layout": "IPY_MODEL_8bee087361414f32a1bcfc1d2e89bcfb"
          }
        },
        "16c6f75d1d8d4424a59d2bf1417819d8": {
          "model_module": "@jupyter-widgets/controls",
          "model_name": "HTMLModel",
          "model_module_version": "1.5.0",
          "state": {
            "_dom_classes": [],
            "_model_module": "@jupyter-widgets/controls",
            "_model_module_version": "1.5.0",
            "_model_name": "HTMLModel",
            "_view_count": null,
            "_view_module": "@jupyter-widgets/controls",
            "_view_module_version": "1.5.0",
            "_view_name": "HTMLView",
            "description": "",
            "description_tooltip": null,
            "layout": "IPY_MODEL_8e22e438279241758124a9adab1bf5d3",
            "placeholder": "​",
            "style": "IPY_MODEL_0c0b3200339c4ae48ae82735b35f45cf",
            "value": "vocab.txt: 100%"
          }
        },
        "4621afe96c7340b8a89e879a7f282dee": {
          "model_module": "@jupyter-widgets/controls",
          "model_name": "FloatProgressModel",
          "model_module_version": "1.5.0",
          "state": {
            "_dom_classes": [],
            "_model_module": "@jupyter-widgets/controls",
            "_model_module_version": "1.5.0",
            "_model_name": "FloatProgressModel",
            "_view_count": null,
            "_view_module": "@jupyter-widgets/controls",
            "_view_module_version": "1.5.0",
            "_view_name": "ProgressView",
            "bar_style": "success",
            "description": "",
            "description_tooltip": null,
            "layout": "IPY_MODEL_1200dbf082ec4738beabe9bebcb3f5c4",
            "max": 231508,
            "min": 0,
            "orientation": "horizontal",
            "style": "IPY_MODEL_a741c15a2feb4c0da115283c8169074d",
            "value": 231508
          }
        },
        "3049293329554bbd9a3140881d8f783b": {
          "model_module": "@jupyter-widgets/controls",
          "model_name": "HTMLModel",
          "model_module_version": "1.5.0",
          "state": {
            "_dom_classes": [],
            "_model_module": "@jupyter-widgets/controls",
            "_model_module_version": "1.5.0",
            "_model_name": "HTMLModel",
            "_view_count": null,
            "_view_module": "@jupyter-widgets/controls",
            "_view_module_version": "1.5.0",
            "_view_name": "HTMLView",
            "description": "",
            "description_tooltip": null,
            "layout": "IPY_MODEL_6134f2fc35824119a53a2e099f23d758",
            "placeholder": "​",
            "style": "IPY_MODEL_60c75138d22144ac8aa3017c3149575a",
            "value": " 232k/232k [00:00&lt;00:00, 968kB/s]"
          }
        },
        "8bee087361414f32a1bcfc1d2e89bcfb": {
          "model_module": "@jupyter-widgets/base",
          "model_name": "LayoutModel",
          "model_module_version": "1.2.0",
          "state": {
            "_model_module": "@jupyter-widgets/base",
            "_model_module_version": "1.2.0",
            "_model_name": "LayoutModel",
            "_view_count": null,
            "_view_module": "@jupyter-widgets/base",
            "_view_module_version": "1.2.0",
            "_view_name": "LayoutView",
            "align_content": null,
            "align_items": null,
            "align_self": null,
            "border": null,
            "bottom": null,
            "display": null,
            "flex": null,
            "flex_flow": null,
            "grid_area": null,
            "grid_auto_columns": null,
            "grid_auto_flow": null,
            "grid_auto_rows": null,
            "grid_column": null,
            "grid_gap": null,
            "grid_row": null,
            "grid_template_areas": null,
            "grid_template_columns": null,
            "grid_template_rows": null,
            "height": null,
            "justify_content": null,
            "justify_items": null,
            "left": null,
            "margin": null,
            "max_height": null,
            "max_width": null,
            "min_height": null,
            "min_width": null,
            "object_fit": null,
            "object_position": null,
            "order": null,
            "overflow": null,
            "overflow_x": null,
            "overflow_y": null,
            "padding": null,
            "right": null,
            "top": null,
            "visibility": null,
            "width": null
          }
        },
        "8e22e438279241758124a9adab1bf5d3": {
          "model_module": "@jupyter-widgets/base",
          "model_name": "LayoutModel",
          "model_module_version": "1.2.0",
          "state": {
            "_model_module": "@jupyter-widgets/base",
            "_model_module_version": "1.2.0",
            "_model_name": "LayoutModel",
            "_view_count": null,
            "_view_module": "@jupyter-widgets/base",
            "_view_module_version": "1.2.0",
            "_view_name": "LayoutView",
            "align_content": null,
            "align_items": null,
            "align_self": null,
            "border": null,
            "bottom": null,
            "display": null,
            "flex": null,
            "flex_flow": null,
            "grid_area": null,
            "grid_auto_columns": null,
            "grid_auto_flow": null,
            "grid_auto_rows": null,
            "grid_column": null,
            "grid_gap": null,
            "grid_row": null,
            "grid_template_areas": null,
            "grid_template_columns": null,
            "grid_template_rows": null,
            "height": null,
            "justify_content": null,
            "justify_items": null,
            "left": null,
            "margin": null,
            "max_height": null,
            "max_width": null,
            "min_height": null,
            "min_width": null,
            "object_fit": null,
            "object_position": null,
            "order": null,
            "overflow": null,
            "overflow_x": null,
            "overflow_y": null,
            "padding": null,
            "right": null,
            "top": null,
            "visibility": null,
            "width": null
          }
        },
        "0c0b3200339c4ae48ae82735b35f45cf": {
          "model_module": "@jupyter-widgets/controls",
          "model_name": "DescriptionStyleModel",
          "model_module_version": "1.5.0",
          "state": {
            "_model_module": "@jupyter-widgets/controls",
            "_model_module_version": "1.5.0",
            "_model_name": "DescriptionStyleModel",
            "_view_count": null,
            "_view_module": "@jupyter-widgets/base",
            "_view_module_version": "1.2.0",
            "_view_name": "StyleView",
            "description_width": ""
          }
        },
        "1200dbf082ec4738beabe9bebcb3f5c4": {
          "model_module": "@jupyter-widgets/base",
          "model_name": "LayoutModel",
          "model_module_version": "1.2.0",
          "state": {
            "_model_module": "@jupyter-widgets/base",
            "_model_module_version": "1.2.0",
            "_model_name": "LayoutModel",
            "_view_count": null,
            "_view_module": "@jupyter-widgets/base",
            "_view_module_version": "1.2.0",
            "_view_name": "LayoutView",
            "align_content": null,
            "align_items": null,
            "align_self": null,
            "border": null,
            "bottom": null,
            "display": null,
            "flex": null,
            "flex_flow": null,
            "grid_area": null,
            "grid_auto_columns": null,
            "grid_auto_flow": null,
            "grid_auto_rows": null,
            "grid_column": null,
            "grid_gap": null,
            "grid_row": null,
            "grid_template_areas": null,
            "grid_template_columns": null,
            "grid_template_rows": null,
            "height": null,
            "justify_content": null,
            "justify_items": null,
            "left": null,
            "margin": null,
            "max_height": null,
            "max_width": null,
            "min_height": null,
            "min_width": null,
            "object_fit": null,
            "object_position": null,
            "order": null,
            "overflow": null,
            "overflow_x": null,
            "overflow_y": null,
            "padding": null,
            "right": null,
            "top": null,
            "visibility": null,
            "width": null
          }
        },
        "a741c15a2feb4c0da115283c8169074d": {
          "model_module": "@jupyter-widgets/controls",
          "model_name": "ProgressStyleModel",
          "model_module_version": "1.5.0",
          "state": {
            "_model_module": "@jupyter-widgets/controls",
            "_model_module_version": "1.5.0",
            "_model_name": "ProgressStyleModel",
            "_view_count": null,
            "_view_module": "@jupyter-widgets/base",
            "_view_module_version": "1.2.0",
            "_view_name": "StyleView",
            "bar_color": null,
            "description_width": ""
          }
        },
        "6134f2fc35824119a53a2e099f23d758": {
          "model_module": "@jupyter-widgets/base",
          "model_name": "LayoutModel",
          "model_module_version": "1.2.0",
          "state": {
            "_model_module": "@jupyter-widgets/base",
            "_model_module_version": "1.2.0",
            "_model_name": "LayoutModel",
            "_view_count": null,
            "_view_module": "@jupyter-widgets/base",
            "_view_module_version": "1.2.0",
            "_view_name": "LayoutView",
            "align_content": null,
            "align_items": null,
            "align_self": null,
            "border": null,
            "bottom": null,
            "display": null,
            "flex": null,
            "flex_flow": null,
            "grid_area": null,
            "grid_auto_columns": null,
            "grid_auto_flow": null,
            "grid_auto_rows": null,
            "grid_column": null,
            "grid_gap": null,
            "grid_row": null,
            "grid_template_areas": null,
            "grid_template_columns": null,
            "grid_template_rows": null,
            "height": null,
            "justify_content": null,
            "justify_items": null,
            "left": null,
            "margin": null,
            "max_height": null,
            "max_width": null,
            "min_height": null,
            "min_width": null,
            "object_fit": null,
            "object_position": null,
            "order": null,
            "overflow": null,
            "overflow_x": null,
            "overflow_y": null,
            "padding": null,
            "right": null,
            "top": null,
            "visibility": null,
            "width": null
          }
        },
        "60c75138d22144ac8aa3017c3149575a": {
          "model_module": "@jupyter-widgets/controls",
          "model_name": "DescriptionStyleModel",
          "model_module_version": "1.5.0",
          "state": {
            "_model_module": "@jupyter-widgets/controls",
            "_model_module_version": "1.5.0",
            "_model_name": "DescriptionStyleModel",
            "_view_count": null,
            "_view_module": "@jupyter-widgets/base",
            "_view_module_version": "1.2.0",
            "_view_name": "StyleView",
            "description_width": ""
          }
        },
        "b14442b8decc4151841d5d1582779c8f": {
          "model_module": "@jupyter-widgets/controls",
          "model_name": "HBoxModel",
          "model_module_version": "1.5.0",
          "state": {
            "_dom_classes": [],
            "_model_module": "@jupyter-widgets/controls",
            "_model_module_version": "1.5.0",
            "_model_name": "HBoxModel",
            "_view_count": null,
            "_view_module": "@jupyter-widgets/controls",
            "_view_module_version": "1.5.0",
            "_view_name": "HBoxView",
            "box_style": "",
            "children": [
              "IPY_MODEL_7bf76f155b0c4cbda5e5cdc7a46f6cfc",
              "IPY_MODEL_cee07e4c4c91409689e0e2d09d2c00da",
              "IPY_MODEL_ce56886db4b54efb912a8b89c08fe75c"
            ],
            "layout": "IPY_MODEL_19d968e14d2d4f5d8d26a7470c1d4083"
          }
        },
        "7bf76f155b0c4cbda5e5cdc7a46f6cfc": {
          "model_module": "@jupyter-widgets/controls",
          "model_name": "HTMLModel",
          "model_module_version": "1.5.0",
          "state": {
            "_dom_classes": [],
            "_model_module": "@jupyter-widgets/controls",
            "_model_module_version": "1.5.0",
            "_model_name": "HTMLModel",
            "_view_count": null,
            "_view_module": "@jupyter-widgets/controls",
            "_view_module_version": "1.5.0",
            "_view_name": "HTMLView",
            "description": "",
            "description_tooltip": null,
            "layout": "IPY_MODEL_725136b905084949873497568bda4cd3",
            "placeholder": "​",
            "style": "IPY_MODEL_0f3223d75dbd47aaad0734f048d1ad8a",
            "value": "tokenizer.json: 100%"
          }
        },
        "cee07e4c4c91409689e0e2d09d2c00da": {
          "model_module": "@jupyter-widgets/controls",
          "model_name": "FloatProgressModel",
          "model_module_version": "1.5.0",
          "state": {
            "_dom_classes": [],
            "_model_module": "@jupyter-widgets/controls",
            "_model_module_version": "1.5.0",
            "_model_name": "FloatProgressModel",
            "_view_count": null,
            "_view_module": "@jupyter-widgets/controls",
            "_view_module_version": "1.5.0",
            "_view_name": "ProgressView",
            "bar_style": "success",
            "description": "",
            "description_tooltip": null,
            "layout": "IPY_MODEL_47880c3bc42b4dc49275f317e29e30c3",
            "max": 466062,
            "min": 0,
            "orientation": "horizontal",
            "style": "IPY_MODEL_dc62042f5350451689d53f20acb3a522",
            "value": 466062
          }
        },
        "ce56886db4b54efb912a8b89c08fe75c": {
          "model_module": "@jupyter-widgets/controls",
          "model_name": "HTMLModel",
          "model_module_version": "1.5.0",
          "state": {
            "_dom_classes": [],
            "_model_module": "@jupyter-widgets/controls",
            "_model_module_version": "1.5.0",
            "_model_name": "HTMLModel",
            "_view_count": null,
            "_view_module": "@jupyter-widgets/controls",
            "_view_module_version": "1.5.0",
            "_view_name": "HTMLView",
            "description": "",
            "description_tooltip": null,
            "layout": "IPY_MODEL_dfb09515fd454a9dad898e0a3fe0e39f",
            "placeholder": "​",
            "style": "IPY_MODEL_c9710f18a7c34f46b02da960e0388b36",
            "value": " 466k/466k [00:00&lt;00:00, 21.3MB/s]"
          }
        },
        "19d968e14d2d4f5d8d26a7470c1d4083": {
          "model_module": "@jupyter-widgets/base",
          "model_name": "LayoutModel",
          "model_module_version": "1.2.0",
          "state": {
            "_model_module": "@jupyter-widgets/base",
            "_model_module_version": "1.2.0",
            "_model_name": "LayoutModel",
            "_view_count": null,
            "_view_module": "@jupyter-widgets/base",
            "_view_module_version": "1.2.0",
            "_view_name": "LayoutView",
            "align_content": null,
            "align_items": null,
            "align_self": null,
            "border": null,
            "bottom": null,
            "display": null,
            "flex": null,
            "flex_flow": null,
            "grid_area": null,
            "grid_auto_columns": null,
            "grid_auto_flow": null,
            "grid_auto_rows": null,
            "grid_column": null,
            "grid_gap": null,
            "grid_row": null,
            "grid_template_areas": null,
            "grid_template_columns": null,
            "grid_template_rows": null,
            "height": null,
            "justify_content": null,
            "justify_items": null,
            "left": null,
            "margin": null,
            "max_height": null,
            "max_width": null,
            "min_height": null,
            "min_width": null,
            "object_fit": null,
            "object_position": null,
            "order": null,
            "overflow": null,
            "overflow_x": null,
            "overflow_y": null,
            "padding": null,
            "right": null,
            "top": null,
            "visibility": null,
            "width": null
          }
        },
        "725136b905084949873497568bda4cd3": {
          "model_module": "@jupyter-widgets/base",
          "model_name": "LayoutModel",
          "model_module_version": "1.2.0",
          "state": {
            "_model_module": "@jupyter-widgets/base",
            "_model_module_version": "1.2.0",
            "_model_name": "LayoutModel",
            "_view_count": null,
            "_view_module": "@jupyter-widgets/base",
            "_view_module_version": "1.2.0",
            "_view_name": "LayoutView",
            "align_content": null,
            "align_items": null,
            "align_self": null,
            "border": null,
            "bottom": null,
            "display": null,
            "flex": null,
            "flex_flow": null,
            "grid_area": null,
            "grid_auto_columns": null,
            "grid_auto_flow": null,
            "grid_auto_rows": null,
            "grid_column": null,
            "grid_gap": null,
            "grid_row": null,
            "grid_template_areas": null,
            "grid_template_columns": null,
            "grid_template_rows": null,
            "height": null,
            "justify_content": null,
            "justify_items": null,
            "left": null,
            "margin": null,
            "max_height": null,
            "max_width": null,
            "min_height": null,
            "min_width": null,
            "object_fit": null,
            "object_position": null,
            "order": null,
            "overflow": null,
            "overflow_x": null,
            "overflow_y": null,
            "padding": null,
            "right": null,
            "top": null,
            "visibility": null,
            "width": null
          }
        },
        "0f3223d75dbd47aaad0734f048d1ad8a": {
          "model_module": "@jupyter-widgets/controls",
          "model_name": "DescriptionStyleModel",
          "model_module_version": "1.5.0",
          "state": {
            "_model_module": "@jupyter-widgets/controls",
            "_model_module_version": "1.5.0",
            "_model_name": "DescriptionStyleModel",
            "_view_count": null,
            "_view_module": "@jupyter-widgets/base",
            "_view_module_version": "1.2.0",
            "_view_name": "StyleView",
            "description_width": ""
          }
        },
        "47880c3bc42b4dc49275f317e29e30c3": {
          "model_module": "@jupyter-widgets/base",
          "model_name": "LayoutModel",
          "model_module_version": "1.2.0",
          "state": {
            "_model_module": "@jupyter-widgets/base",
            "_model_module_version": "1.2.0",
            "_model_name": "LayoutModel",
            "_view_count": null,
            "_view_module": "@jupyter-widgets/base",
            "_view_module_version": "1.2.0",
            "_view_name": "LayoutView",
            "align_content": null,
            "align_items": null,
            "align_self": null,
            "border": null,
            "bottom": null,
            "display": null,
            "flex": null,
            "flex_flow": null,
            "grid_area": null,
            "grid_auto_columns": null,
            "grid_auto_flow": null,
            "grid_auto_rows": null,
            "grid_column": null,
            "grid_gap": null,
            "grid_row": null,
            "grid_template_areas": null,
            "grid_template_columns": null,
            "grid_template_rows": null,
            "height": null,
            "justify_content": null,
            "justify_items": null,
            "left": null,
            "margin": null,
            "max_height": null,
            "max_width": null,
            "min_height": null,
            "min_width": null,
            "object_fit": null,
            "object_position": null,
            "order": null,
            "overflow": null,
            "overflow_x": null,
            "overflow_y": null,
            "padding": null,
            "right": null,
            "top": null,
            "visibility": null,
            "width": null
          }
        },
        "dc62042f5350451689d53f20acb3a522": {
          "model_module": "@jupyter-widgets/controls",
          "model_name": "ProgressStyleModel",
          "model_module_version": "1.5.0",
          "state": {
            "_model_module": "@jupyter-widgets/controls",
            "_model_module_version": "1.5.0",
            "_model_name": "ProgressStyleModel",
            "_view_count": null,
            "_view_module": "@jupyter-widgets/base",
            "_view_module_version": "1.2.0",
            "_view_name": "StyleView",
            "bar_color": null,
            "description_width": ""
          }
        },
        "dfb09515fd454a9dad898e0a3fe0e39f": {
          "model_module": "@jupyter-widgets/base",
          "model_name": "LayoutModel",
          "model_module_version": "1.2.0",
          "state": {
            "_model_module": "@jupyter-widgets/base",
            "_model_module_version": "1.2.0",
            "_model_name": "LayoutModel",
            "_view_count": null,
            "_view_module": "@jupyter-widgets/base",
            "_view_module_version": "1.2.0",
            "_view_name": "LayoutView",
            "align_content": null,
            "align_items": null,
            "align_self": null,
            "border": null,
            "bottom": null,
            "display": null,
            "flex": null,
            "flex_flow": null,
            "grid_area": null,
            "grid_auto_columns": null,
            "grid_auto_flow": null,
            "grid_auto_rows": null,
            "grid_column": null,
            "grid_gap": null,
            "grid_row": null,
            "grid_template_areas": null,
            "grid_template_columns": null,
            "grid_template_rows": null,
            "height": null,
            "justify_content": null,
            "justify_items": null,
            "left": null,
            "margin": null,
            "max_height": null,
            "max_width": null,
            "min_height": null,
            "min_width": null,
            "object_fit": null,
            "object_position": null,
            "order": null,
            "overflow": null,
            "overflow_x": null,
            "overflow_y": null,
            "padding": null,
            "right": null,
            "top": null,
            "visibility": null,
            "width": null
          }
        },
        "c9710f18a7c34f46b02da960e0388b36": {
          "model_module": "@jupyter-widgets/controls",
          "model_name": "DescriptionStyleModel",
          "model_module_version": "1.5.0",
          "state": {
            "_model_module": "@jupyter-widgets/controls",
            "_model_module_version": "1.5.0",
            "_model_name": "DescriptionStyleModel",
            "_view_count": null,
            "_view_module": "@jupyter-widgets/base",
            "_view_module_version": "1.2.0",
            "_view_name": "StyleView",
            "description_width": ""
          }
        },
        "38d54921d9794fd9a5a6b3fddb30592c": {
          "model_module": "@jupyter-widgets/controls",
          "model_name": "HBoxModel",
          "model_module_version": "1.5.0",
          "state": {
            "_dom_classes": [],
            "_model_module": "@jupyter-widgets/controls",
            "_model_module_version": "1.5.0",
            "_model_name": "HBoxModel",
            "_view_count": null,
            "_view_module": "@jupyter-widgets/controls",
            "_view_module_version": "1.5.0",
            "_view_name": "HBoxView",
            "box_style": "",
            "children": [
              "IPY_MODEL_bef4b7567e744da0907c8733a481412c",
              "IPY_MODEL_e6ae0b7bee604f96b7be157e3e10dda3",
              "IPY_MODEL_d941d7aa2bd049e9b7b3a49f1417b17e"
            ],
            "layout": "IPY_MODEL_959935f9fca14877b43bef0483d82bd7"
          }
        },
        "bef4b7567e744da0907c8733a481412c": {
          "model_module": "@jupyter-widgets/controls",
          "model_name": "HTMLModel",
          "model_module_version": "1.5.0",
          "state": {
            "_dom_classes": [],
            "_model_module": "@jupyter-widgets/controls",
            "_model_module_version": "1.5.0",
            "_model_name": "HTMLModel",
            "_view_count": null,
            "_view_module": "@jupyter-widgets/controls",
            "_view_module_version": "1.5.0",
            "_view_name": "HTMLView",
            "description": "",
            "description_tooltip": null,
            "layout": "IPY_MODEL_e7898d5baab640649961f127a01d1e36",
            "placeholder": "​",
            "style": "IPY_MODEL_aed8b3b263f04c15a1a7673dab5f62e5",
            "value": "config.json: 100%"
          }
        },
        "e6ae0b7bee604f96b7be157e3e10dda3": {
          "model_module": "@jupyter-widgets/controls",
          "model_name": "FloatProgressModel",
          "model_module_version": "1.5.0",
          "state": {
            "_dom_classes": [],
            "_model_module": "@jupyter-widgets/controls",
            "_model_module_version": "1.5.0",
            "_model_name": "FloatProgressModel",
            "_view_count": null,
            "_view_module": "@jupyter-widgets/controls",
            "_view_module_version": "1.5.0",
            "_view_name": "ProgressView",
            "bar_style": "success",
            "description": "",
            "description_tooltip": null,
            "layout": "IPY_MODEL_0c4172ee8f82492b90ff3a8ca88f1d10",
            "max": 483,
            "min": 0,
            "orientation": "horizontal",
            "style": "IPY_MODEL_cdeeb178333c470ab54808dfdc372627",
            "value": 483
          }
        },
        "d941d7aa2bd049e9b7b3a49f1417b17e": {
          "model_module": "@jupyter-widgets/controls",
          "model_name": "HTMLModel",
          "model_module_version": "1.5.0",
          "state": {
            "_dom_classes": [],
            "_model_module": "@jupyter-widgets/controls",
            "_model_module_version": "1.5.0",
            "_model_name": "HTMLModel",
            "_view_count": null,
            "_view_module": "@jupyter-widgets/controls",
            "_view_module_version": "1.5.0",
            "_view_name": "HTMLView",
            "description": "",
            "description_tooltip": null,
            "layout": "IPY_MODEL_2bbce6bf37524b538f7c864c23e637ae",
            "placeholder": "​",
            "style": "IPY_MODEL_60d46cf01bf94291b089a7662ccaef10",
            "value": " 483/483 [00:00&lt;00:00, 18.3kB/s]"
          }
        },
        "959935f9fca14877b43bef0483d82bd7": {
          "model_module": "@jupyter-widgets/base",
          "model_name": "LayoutModel",
          "model_module_version": "1.2.0",
          "state": {
            "_model_module": "@jupyter-widgets/base",
            "_model_module_version": "1.2.0",
            "_model_name": "LayoutModel",
            "_view_count": null,
            "_view_module": "@jupyter-widgets/base",
            "_view_module_version": "1.2.0",
            "_view_name": "LayoutView",
            "align_content": null,
            "align_items": null,
            "align_self": null,
            "border": null,
            "bottom": null,
            "display": null,
            "flex": null,
            "flex_flow": null,
            "grid_area": null,
            "grid_auto_columns": null,
            "grid_auto_flow": null,
            "grid_auto_rows": null,
            "grid_column": null,
            "grid_gap": null,
            "grid_row": null,
            "grid_template_areas": null,
            "grid_template_columns": null,
            "grid_template_rows": null,
            "height": null,
            "justify_content": null,
            "justify_items": null,
            "left": null,
            "margin": null,
            "max_height": null,
            "max_width": null,
            "min_height": null,
            "min_width": null,
            "object_fit": null,
            "object_position": null,
            "order": null,
            "overflow": null,
            "overflow_x": null,
            "overflow_y": null,
            "padding": null,
            "right": null,
            "top": null,
            "visibility": null,
            "width": null
          }
        },
        "e7898d5baab640649961f127a01d1e36": {
          "model_module": "@jupyter-widgets/base",
          "model_name": "LayoutModel",
          "model_module_version": "1.2.0",
          "state": {
            "_model_module": "@jupyter-widgets/base",
            "_model_module_version": "1.2.0",
            "_model_name": "LayoutModel",
            "_view_count": null,
            "_view_module": "@jupyter-widgets/base",
            "_view_module_version": "1.2.0",
            "_view_name": "LayoutView",
            "align_content": null,
            "align_items": null,
            "align_self": null,
            "border": null,
            "bottom": null,
            "display": null,
            "flex": null,
            "flex_flow": null,
            "grid_area": null,
            "grid_auto_columns": null,
            "grid_auto_flow": null,
            "grid_auto_rows": null,
            "grid_column": null,
            "grid_gap": null,
            "grid_row": null,
            "grid_template_areas": null,
            "grid_template_columns": null,
            "grid_template_rows": null,
            "height": null,
            "justify_content": null,
            "justify_items": null,
            "left": null,
            "margin": null,
            "max_height": null,
            "max_width": null,
            "min_height": null,
            "min_width": null,
            "object_fit": null,
            "object_position": null,
            "order": null,
            "overflow": null,
            "overflow_x": null,
            "overflow_y": null,
            "padding": null,
            "right": null,
            "top": null,
            "visibility": null,
            "width": null
          }
        },
        "aed8b3b263f04c15a1a7673dab5f62e5": {
          "model_module": "@jupyter-widgets/controls",
          "model_name": "DescriptionStyleModel",
          "model_module_version": "1.5.0",
          "state": {
            "_model_module": "@jupyter-widgets/controls",
            "_model_module_version": "1.5.0",
            "_model_name": "DescriptionStyleModel",
            "_view_count": null,
            "_view_module": "@jupyter-widgets/base",
            "_view_module_version": "1.2.0",
            "_view_name": "StyleView",
            "description_width": ""
          }
        },
        "0c4172ee8f82492b90ff3a8ca88f1d10": {
          "model_module": "@jupyter-widgets/base",
          "model_name": "LayoutModel",
          "model_module_version": "1.2.0",
          "state": {
            "_model_module": "@jupyter-widgets/base",
            "_model_module_version": "1.2.0",
            "_model_name": "LayoutModel",
            "_view_count": null,
            "_view_module": "@jupyter-widgets/base",
            "_view_module_version": "1.2.0",
            "_view_name": "LayoutView",
            "align_content": null,
            "align_items": null,
            "align_self": null,
            "border": null,
            "bottom": null,
            "display": null,
            "flex": null,
            "flex_flow": null,
            "grid_area": null,
            "grid_auto_columns": null,
            "grid_auto_flow": null,
            "grid_auto_rows": null,
            "grid_column": null,
            "grid_gap": null,
            "grid_row": null,
            "grid_template_areas": null,
            "grid_template_columns": null,
            "grid_template_rows": null,
            "height": null,
            "justify_content": null,
            "justify_items": null,
            "left": null,
            "margin": null,
            "max_height": null,
            "max_width": null,
            "min_height": null,
            "min_width": null,
            "object_fit": null,
            "object_position": null,
            "order": null,
            "overflow": null,
            "overflow_x": null,
            "overflow_y": null,
            "padding": null,
            "right": null,
            "top": null,
            "visibility": null,
            "width": null
          }
        },
        "cdeeb178333c470ab54808dfdc372627": {
          "model_module": "@jupyter-widgets/controls",
          "model_name": "ProgressStyleModel",
          "model_module_version": "1.5.0",
          "state": {
            "_model_module": "@jupyter-widgets/controls",
            "_model_module_version": "1.5.0",
            "_model_name": "ProgressStyleModel",
            "_view_count": null,
            "_view_module": "@jupyter-widgets/base",
            "_view_module_version": "1.2.0",
            "_view_name": "StyleView",
            "bar_color": null,
            "description_width": ""
          }
        },
        "2bbce6bf37524b538f7c864c23e637ae": {
          "model_module": "@jupyter-widgets/base",
          "model_name": "LayoutModel",
          "model_module_version": "1.2.0",
          "state": {
            "_model_module": "@jupyter-widgets/base",
            "_model_module_version": "1.2.0",
            "_model_name": "LayoutModel",
            "_view_count": null,
            "_view_module": "@jupyter-widgets/base",
            "_view_module_version": "1.2.0",
            "_view_name": "LayoutView",
            "align_content": null,
            "align_items": null,
            "align_self": null,
            "border": null,
            "bottom": null,
            "display": null,
            "flex": null,
            "flex_flow": null,
            "grid_area": null,
            "grid_auto_columns": null,
            "grid_auto_flow": null,
            "grid_auto_rows": null,
            "grid_column": null,
            "grid_gap": null,
            "grid_row": null,
            "grid_template_areas": null,
            "grid_template_columns": null,
            "grid_template_rows": null,
            "height": null,
            "justify_content": null,
            "justify_items": null,
            "left": null,
            "margin": null,
            "max_height": null,
            "max_width": null,
            "min_height": null,
            "min_width": null,
            "object_fit": null,
            "object_position": null,
            "order": null,
            "overflow": null,
            "overflow_x": null,
            "overflow_y": null,
            "padding": null,
            "right": null,
            "top": null,
            "visibility": null,
            "width": null
          }
        },
        "60d46cf01bf94291b089a7662ccaef10": {
          "model_module": "@jupyter-widgets/controls",
          "model_name": "DescriptionStyleModel",
          "model_module_version": "1.5.0",
          "state": {
            "_model_module": "@jupyter-widgets/controls",
            "_model_module_version": "1.5.0",
            "_model_name": "DescriptionStyleModel",
            "_view_count": null,
            "_view_module": "@jupyter-widgets/base",
            "_view_module_version": "1.2.0",
            "_view_name": "StyleView",
            "description_width": ""
          }
        },
        "02e8d11ae0b445ed833732ca1556bf90": {
          "model_module": "@jupyter-widgets/controls",
          "model_name": "HBoxModel",
          "model_module_version": "1.5.0",
          "state": {
            "_dom_classes": [],
            "_model_module": "@jupyter-widgets/controls",
            "_model_module_version": "1.5.0",
            "_model_name": "HBoxModel",
            "_view_count": null,
            "_view_module": "@jupyter-widgets/controls",
            "_view_module_version": "1.5.0",
            "_view_name": "HBoxView",
            "box_style": "",
            "children": [
              "IPY_MODEL_887fda46d37d47ebb93ff834ecf7eccf",
              "IPY_MODEL_00a212361a5647119dcccfee97b0f678",
              "IPY_MODEL_8ad98537786347c3b050bbc6dbee2e88"
            ],
            "layout": "IPY_MODEL_20e7a9ebbf154aad887580165c459e82"
          }
        },
        "887fda46d37d47ebb93ff834ecf7eccf": {
          "model_module": "@jupyter-widgets/controls",
          "model_name": "HTMLModel",
          "model_module_version": "1.5.0",
          "state": {
            "_dom_classes": [],
            "_model_module": "@jupyter-widgets/controls",
            "_model_module_version": "1.5.0",
            "_model_name": "HTMLModel",
            "_view_count": null,
            "_view_module": "@jupyter-widgets/controls",
            "_view_module_version": "1.5.0",
            "_view_name": "HTMLView",
            "description": "",
            "description_tooltip": null,
            "layout": "IPY_MODEL_f19ede0616324b82989cc76a02128d1f",
            "placeholder": "​",
            "style": "IPY_MODEL_32f53cb46b284f91984cbd3f97292206",
            "value": "model.safetensors: 100%"
          }
        },
        "00a212361a5647119dcccfee97b0f678": {
          "model_module": "@jupyter-widgets/controls",
          "model_name": "FloatProgressModel",
          "model_module_version": "1.5.0",
          "state": {
            "_dom_classes": [],
            "_model_module": "@jupyter-widgets/controls",
            "_model_module_version": "1.5.0",
            "_model_name": "FloatProgressModel",
            "_view_count": null,
            "_view_module": "@jupyter-widgets/controls",
            "_view_module_version": "1.5.0",
            "_view_name": "ProgressView",
            "bar_style": "success",
            "description": "",
            "description_tooltip": null,
            "layout": "IPY_MODEL_6825d1a43d4448c793caa736e010bf2e",
            "max": 267954768,
            "min": 0,
            "orientation": "horizontal",
            "style": "IPY_MODEL_c141350565314acba8d2db74bd7cd572",
            "value": 267954768
          }
        },
        "8ad98537786347c3b050bbc6dbee2e88": {
          "model_module": "@jupyter-widgets/controls",
          "model_name": "HTMLModel",
          "model_module_version": "1.5.0",
          "state": {
            "_dom_classes": [],
            "_model_module": "@jupyter-widgets/controls",
            "_model_module_version": "1.5.0",
            "_model_name": "HTMLModel",
            "_view_count": null,
            "_view_module": "@jupyter-widgets/controls",
            "_view_module_version": "1.5.0",
            "_view_name": "HTMLView",
            "description": "",
            "description_tooltip": null,
            "layout": "IPY_MODEL_07d4ffa5bd8645bb87bd830a3dfa728a",
            "placeholder": "​",
            "style": "IPY_MODEL_9894a126783e4946811761fcd2e7c106",
            "value": " 268M/268M [00:09&lt;00:00, 30.6MB/s]"
          }
        },
        "20e7a9ebbf154aad887580165c459e82": {
          "model_module": "@jupyter-widgets/base",
          "model_name": "LayoutModel",
          "model_module_version": "1.2.0",
          "state": {
            "_model_module": "@jupyter-widgets/base",
            "_model_module_version": "1.2.0",
            "_model_name": "LayoutModel",
            "_view_count": null,
            "_view_module": "@jupyter-widgets/base",
            "_view_module_version": "1.2.0",
            "_view_name": "LayoutView",
            "align_content": null,
            "align_items": null,
            "align_self": null,
            "border": null,
            "bottom": null,
            "display": null,
            "flex": null,
            "flex_flow": null,
            "grid_area": null,
            "grid_auto_columns": null,
            "grid_auto_flow": null,
            "grid_auto_rows": null,
            "grid_column": null,
            "grid_gap": null,
            "grid_row": null,
            "grid_template_areas": null,
            "grid_template_columns": null,
            "grid_template_rows": null,
            "height": null,
            "justify_content": null,
            "justify_items": null,
            "left": null,
            "margin": null,
            "max_height": null,
            "max_width": null,
            "min_height": null,
            "min_width": null,
            "object_fit": null,
            "object_position": null,
            "order": null,
            "overflow": null,
            "overflow_x": null,
            "overflow_y": null,
            "padding": null,
            "right": null,
            "top": null,
            "visibility": null,
            "width": null
          }
        },
        "f19ede0616324b82989cc76a02128d1f": {
          "model_module": "@jupyter-widgets/base",
          "model_name": "LayoutModel",
          "model_module_version": "1.2.0",
          "state": {
            "_model_module": "@jupyter-widgets/base",
            "_model_module_version": "1.2.0",
            "_model_name": "LayoutModel",
            "_view_count": null,
            "_view_module": "@jupyter-widgets/base",
            "_view_module_version": "1.2.0",
            "_view_name": "LayoutView",
            "align_content": null,
            "align_items": null,
            "align_self": null,
            "border": null,
            "bottom": null,
            "display": null,
            "flex": null,
            "flex_flow": null,
            "grid_area": null,
            "grid_auto_columns": null,
            "grid_auto_flow": null,
            "grid_auto_rows": null,
            "grid_column": null,
            "grid_gap": null,
            "grid_row": null,
            "grid_template_areas": null,
            "grid_template_columns": null,
            "grid_template_rows": null,
            "height": null,
            "justify_content": null,
            "justify_items": null,
            "left": null,
            "margin": null,
            "max_height": null,
            "max_width": null,
            "min_height": null,
            "min_width": null,
            "object_fit": null,
            "object_position": null,
            "order": null,
            "overflow": null,
            "overflow_x": null,
            "overflow_y": null,
            "padding": null,
            "right": null,
            "top": null,
            "visibility": null,
            "width": null
          }
        },
        "32f53cb46b284f91984cbd3f97292206": {
          "model_module": "@jupyter-widgets/controls",
          "model_name": "DescriptionStyleModel",
          "model_module_version": "1.5.0",
          "state": {
            "_model_module": "@jupyter-widgets/controls",
            "_model_module_version": "1.5.0",
            "_model_name": "DescriptionStyleModel",
            "_view_count": null,
            "_view_module": "@jupyter-widgets/base",
            "_view_module_version": "1.2.0",
            "_view_name": "StyleView",
            "description_width": ""
          }
        },
        "6825d1a43d4448c793caa736e010bf2e": {
          "model_module": "@jupyter-widgets/base",
          "model_name": "LayoutModel",
          "model_module_version": "1.2.0",
          "state": {
            "_model_module": "@jupyter-widgets/base",
            "_model_module_version": "1.2.0",
            "_model_name": "LayoutModel",
            "_view_count": null,
            "_view_module": "@jupyter-widgets/base",
            "_view_module_version": "1.2.0",
            "_view_name": "LayoutView",
            "align_content": null,
            "align_items": null,
            "align_self": null,
            "border": null,
            "bottom": null,
            "display": null,
            "flex": null,
            "flex_flow": null,
            "grid_area": null,
            "grid_auto_columns": null,
            "grid_auto_flow": null,
            "grid_auto_rows": null,
            "grid_column": null,
            "grid_gap": null,
            "grid_row": null,
            "grid_template_areas": null,
            "grid_template_columns": null,
            "grid_template_rows": null,
            "height": null,
            "justify_content": null,
            "justify_items": null,
            "left": null,
            "margin": null,
            "max_height": null,
            "max_width": null,
            "min_height": null,
            "min_width": null,
            "object_fit": null,
            "object_position": null,
            "order": null,
            "overflow": null,
            "overflow_x": null,
            "overflow_y": null,
            "padding": null,
            "right": null,
            "top": null,
            "visibility": null,
            "width": null
          }
        },
        "c141350565314acba8d2db74bd7cd572": {
          "model_module": "@jupyter-widgets/controls",
          "model_name": "ProgressStyleModel",
          "model_module_version": "1.5.0",
          "state": {
            "_model_module": "@jupyter-widgets/controls",
            "_model_module_version": "1.5.0",
            "_model_name": "ProgressStyleModel",
            "_view_count": null,
            "_view_module": "@jupyter-widgets/base",
            "_view_module_version": "1.2.0",
            "_view_name": "StyleView",
            "bar_color": null,
            "description_width": ""
          }
        },
        "07d4ffa5bd8645bb87bd830a3dfa728a": {
          "model_module": "@jupyter-widgets/base",
          "model_name": "LayoutModel",
          "model_module_version": "1.2.0",
          "state": {
            "_model_module": "@jupyter-widgets/base",
            "_model_module_version": "1.2.0",
            "_model_name": "LayoutModel",
            "_view_count": null,
            "_view_module": "@jupyter-widgets/base",
            "_view_module_version": "1.2.0",
            "_view_name": "LayoutView",
            "align_content": null,
            "align_items": null,
            "align_self": null,
            "border": null,
            "bottom": null,
            "display": null,
            "flex": null,
            "flex_flow": null,
            "grid_area": null,
            "grid_auto_columns": null,
            "grid_auto_flow": null,
            "grid_auto_rows": null,
            "grid_column": null,
            "grid_gap": null,
            "grid_row": null,
            "grid_template_areas": null,
            "grid_template_columns": null,
            "grid_template_rows": null,
            "height": null,
            "justify_content": null,
            "justify_items": null,
            "left": null,
            "margin": null,
            "max_height": null,
            "max_width": null,
            "min_height": null,
            "min_width": null,
            "object_fit": null,
            "object_position": null,
            "order": null,
            "overflow": null,
            "overflow_x": null,
            "overflow_y": null,
            "padding": null,
            "right": null,
            "top": null,
            "visibility": null,
            "width": null
          }
        },
        "9894a126783e4946811761fcd2e7c106": {
          "model_module": "@jupyter-widgets/controls",
          "model_name": "DescriptionStyleModel",
          "model_module_version": "1.5.0",
          "state": {
            "_model_module": "@jupyter-widgets/controls",
            "_model_module_version": "1.5.0",
            "_model_name": "DescriptionStyleModel",
            "_view_count": null,
            "_view_module": "@jupyter-widgets/base",
            "_view_module_version": "1.2.0",
            "_view_name": "StyleView",
            "description_width": ""
          }
        }
      }
    },
    "accelerator": "GPU"
  },
  "nbformat": 4,
  "nbformat_minor": 0
}